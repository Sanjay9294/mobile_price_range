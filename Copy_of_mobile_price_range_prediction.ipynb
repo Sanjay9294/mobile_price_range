{
  "nbformat": 4,
  "nbformat_minor": 0,
  "metadata": {
    "colab": {
      "name": " Copy of mobile_price_range_prediction",
      "provenance": [],
      "collapsed_sections": [
        "xftm_H-AVfqG",
        "OXtbSwzrN9kT",
        "KTxRJn0fQiXw",
        "B2_HP1iCShMY"
      ],
      "include_colab_link": true
    },
    "kernelspec": {
      "display_name": "Python 3",
      "name": "python3"
    }
  },
  "cells": [
    {
      "cell_type": "markdown",
      "metadata": {
        "id": "view-in-github",
        "colab_type": "text"
      },
      "source": [
        "<a href=\"https://colab.research.google.com/github/Sanjay9294/mobile_price_range/blob/main/Copy_of_mobile_price_range_prediction.ipynb\" target=\"_parent\"><img src=\"https://colab.research.google.com/assets/colab-badge.svg\" alt=\"Open In Colab\"/></a>"
      ]
    },
    {
      "cell_type": "markdown",
      "metadata": {
        "id": "e5RfAO2GXsWx"
      },
      "source": [
        "\n",
        "In the competitive mobile phone market companies want to understand sales data of mobile phones and factors which drive the prices.\n",
        "\n",
        "The objective is to find out some relation between features of a mobile phone(eg:- RAM,\n",
        "Internal Memory, etc) and its selling price. In this problem, we do not have to predict the actual price but a price range indicating how high the price is.\n",
        "\n",
        "Data Description -\n",
        "Battery_power - Total energy a battery can store in one time measured in mAh\n",
        "\n",
        "Blue - Has bluetooth or not\n",
        "\n",
        "Clock_speed - speed at which microprocessor executes instructions\n",
        "\n",
        "Dual_sim - Has dual sim support or not\n",
        "\n",
        "Fc - Front Camera mega pixels\n",
        "\n",
        "Four_g - Has 4G or not\n",
        "\n",
        "Int_memory - Internal Memory in Gigabytes\n",
        "\n",
        "M_dep - Mobile Depth in cm\n",
        "\n",
        "Mobile_wt - Weight of mobile phone\n",
        "\n",
        "N_cores - Number of cores of processor\n",
        "\n",
        "Pc - Primary Camera mega pixels\n",
        "\n",
        "Px_height - Pixel Resolution Height\n",
        "\n",
        "Px_width - Pixel Resolution Width\n",
        "\n",
        "Ram - Random Access Memory in Mega Bytes\n",
        "\n",
        "Sc_h - Screen Height of mobile in cm\n",
        "\n",
        "Sc_w - Screen Width of mobile in cm\n",
        "\n",
        "Talk_time - longest time that a single battery charge will last when you are\n",
        "\n",
        "Three_g - Has 3G or not\n",
        "\n",
        "Touch_screen - Has touch screen or not\n",
        "\n",
        "Wifi - Has wifi or not\n",
        "\n",
        "Price_range - This is the target variable with value of 0(low cost), 1(medium cost),\n",
        "2(high cost) and 3(very high cost)."
      ]
    },
    {
      "cell_type": "code",
      "metadata": {
        "id": "hUlq5lyIOcve"
      },
      "source": [
        "import pandas as pd\n",
        "import numpy as np\n",
        "import matplotlib.pyplot as plt\n",
        "import seaborn as sns\n",
        "from sklearn.preprocessing import StandardScaler,MinMaxScaler\n",
        "from sklearn.model_selection import train_test_split\n",
        "from sklearn.preprocessing import OneHotEncoder\n",
        "from sklearn.model_selection import GridSearchCV\n",
        "from sklearn.model_selection import RandomizedSearchCV\n",
        "from sklearn.model_selection import train_test_split\n",
        "from sklearn import ensemble"
      ],
      "execution_count": 42,
      "outputs": []
    },
    {
      "cell_type": "code",
      "metadata": {
        "colab": {
          "base_uri": "https://localhost:8080/"
        },
        "id": "RwokHRuDPGpp",
        "outputId": "268aec67-17c3-4ebe-dcc1-3ca998a45410"
      },
      "source": [
        "from google.colab import drive\n",
        "drive.mount('/content/drive')"
      ],
      "execution_count": 43,
      "outputs": [
        {
          "output_type": "stream",
          "name": "stdout",
          "text": [
            "Drive already mounted at /content/drive; to attempt to forcibly remount, call drive.mount(\"/content/drive\", force_remount=True).\n"
          ]
        }
      ]
    },
    {
      "cell_type": "code",
      "metadata": {
        "id": "wdymcentPOEI"
      },
      "source": [
        "path = \"/content/drive/MyDrive/almabetter/capstone project 3/Copy of data_mobile_price_range.csv\"\n",
        "df = pd.read_csv(path,)"
      ],
      "execution_count": 44,
      "outputs": []
    },
    {
      "cell_type": "code",
      "metadata": {
        "colab": {
          "base_uri": "https://localhost:8080/",
          "height": 224
        },
        "id": "uStHxxGTZxZ8",
        "outputId": "9a83f308-b69b-4c9b-8676-560f5f7aecc9"
      },
      "source": [
        "df.head()"
      ],
      "execution_count": 45,
      "outputs": [
        {
          "output_type": "execute_result",
          "data": {
            "text/html": [
              "<div>\n",
              "<style scoped>\n",
              "    .dataframe tbody tr th:only-of-type {\n",
              "        vertical-align: middle;\n",
              "    }\n",
              "\n",
              "    .dataframe tbody tr th {\n",
              "        vertical-align: top;\n",
              "    }\n",
              "\n",
              "    .dataframe thead th {\n",
              "        text-align: right;\n",
              "    }\n",
              "</style>\n",
              "<table border=\"1\" class=\"dataframe\">\n",
              "  <thead>\n",
              "    <tr style=\"text-align: right;\">\n",
              "      <th></th>\n",
              "      <th>battery_power</th>\n",
              "      <th>blue</th>\n",
              "      <th>clock_speed</th>\n",
              "      <th>dual_sim</th>\n",
              "      <th>fc</th>\n",
              "      <th>four_g</th>\n",
              "      <th>int_memory</th>\n",
              "      <th>m_dep</th>\n",
              "      <th>mobile_wt</th>\n",
              "      <th>n_cores</th>\n",
              "      <th>pc</th>\n",
              "      <th>px_height</th>\n",
              "      <th>px_width</th>\n",
              "      <th>ram</th>\n",
              "      <th>sc_h</th>\n",
              "      <th>sc_w</th>\n",
              "      <th>talk_time</th>\n",
              "      <th>three_g</th>\n",
              "      <th>touch_screen</th>\n",
              "      <th>wifi</th>\n",
              "      <th>price_range</th>\n",
              "    </tr>\n",
              "  </thead>\n",
              "  <tbody>\n",
              "    <tr>\n",
              "      <th>0</th>\n",
              "      <td>842</td>\n",
              "      <td>0</td>\n",
              "      <td>2.2</td>\n",
              "      <td>0</td>\n",
              "      <td>1</td>\n",
              "      <td>0</td>\n",
              "      <td>7</td>\n",
              "      <td>0.6</td>\n",
              "      <td>188</td>\n",
              "      <td>2</td>\n",
              "      <td>2</td>\n",
              "      <td>20</td>\n",
              "      <td>756</td>\n",
              "      <td>2549</td>\n",
              "      <td>9</td>\n",
              "      <td>7</td>\n",
              "      <td>19</td>\n",
              "      <td>0</td>\n",
              "      <td>0</td>\n",
              "      <td>1</td>\n",
              "      <td>1</td>\n",
              "    </tr>\n",
              "    <tr>\n",
              "      <th>1</th>\n",
              "      <td>1021</td>\n",
              "      <td>1</td>\n",
              "      <td>0.5</td>\n",
              "      <td>1</td>\n",
              "      <td>0</td>\n",
              "      <td>1</td>\n",
              "      <td>53</td>\n",
              "      <td>0.7</td>\n",
              "      <td>136</td>\n",
              "      <td>3</td>\n",
              "      <td>6</td>\n",
              "      <td>905</td>\n",
              "      <td>1988</td>\n",
              "      <td>2631</td>\n",
              "      <td>17</td>\n",
              "      <td>3</td>\n",
              "      <td>7</td>\n",
              "      <td>1</td>\n",
              "      <td>1</td>\n",
              "      <td>0</td>\n",
              "      <td>2</td>\n",
              "    </tr>\n",
              "    <tr>\n",
              "      <th>2</th>\n",
              "      <td>563</td>\n",
              "      <td>1</td>\n",
              "      <td>0.5</td>\n",
              "      <td>1</td>\n",
              "      <td>2</td>\n",
              "      <td>1</td>\n",
              "      <td>41</td>\n",
              "      <td>0.9</td>\n",
              "      <td>145</td>\n",
              "      <td>5</td>\n",
              "      <td>6</td>\n",
              "      <td>1263</td>\n",
              "      <td>1716</td>\n",
              "      <td>2603</td>\n",
              "      <td>11</td>\n",
              "      <td>2</td>\n",
              "      <td>9</td>\n",
              "      <td>1</td>\n",
              "      <td>1</td>\n",
              "      <td>0</td>\n",
              "      <td>2</td>\n",
              "    </tr>\n",
              "    <tr>\n",
              "      <th>3</th>\n",
              "      <td>615</td>\n",
              "      <td>1</td>\n",
              "      <td>2.5</td>\n",
              "      <td>0</td>\n",
              "      <td>0</td>\n",
              "      <td>0</td>\n",
              "      <td>10</td>\n",
              "      <td>0.8</td>\n",
              "      <td>131</td>\n",
              "      <td>6</td>\n",
              "      <td>9</td>\n",
              "      <td>1216</td>\n",
              "      <td>1786</td>\n",
              "      <td>2769</td>\n",
              "      <td>16</td>\n",
              "      <td>8</td>\n",
              "      <td>11</td>\n",
              "      <td>1</td>\n",
              "      <td>0</td>\n",
              "      <td>0</td>\n",
              "      <td>2</td>\n",
              "    </tr>\n",
              "    <tr>\n",
              "      <th>4</th>\n",
              "      <td>1821</td>\n",
              "      <td>1</td>\n",
              "      <td>1.2</td>\n",
              "      <td>0</td>\n",
              "      <td>13</td>\n",
              "      <td>1</td>\n",
              "      <td>44</td>\n",
              "      <td>0.6</td>\n",
              "      <td>141</td>\n",
              "      <td>2</td>\n",
              "      <td>14</td>\n",
              "      <td>1208</td>\n",
              "      <td>1212</td>\n",
              "      <td>1411</td>\n",
              "      <td>8</td>\n",
              "      <td>2</td>\n",
              "      <td>15</td>\n",
              "      <td>1</td>\n",
              "      <td>1</td>\n",
              "      <td>0</td>\n",
              "      <td>1</td>\n",
              "    </tr>\n",
              "  </tbody>\n",
              "</table>\n",
              "</div>"
            ],
            "text/plain": [
              "   battery_power  blue  clock_speed  ...  touch_screen  wifi  price_range\n",
              "0            842     0          2.2  ...             0     1            1\n",
              "1           1021     1          0.5  ...             1     0            2\n",
              "2            563     1          0.5  ...             1     0            2\n",
              "3            615     1          2.5  ...             0     0            2\n",
              "4           1821     1          1.2  ...             1     0            1\n",
              "\n",
              "[5 rows x 21 columns]"
            ]
          },
          "metadata": {},
          "execution_count": 45
        }
      ]
    },
    {
      "cell_type": "code",
      "metadata": {
        "colab": {
          "base_uri": "https://localhost:8080/"
        },
        "id": "LikivV3rZ5Ix",
        "outputId": "6d48223d-2958-48da-a1cc-10eb5cdfee6b"
      },
      "source": [
        "df.shape"
      ],
      "execution_count": 46,
      "outputs": [
        {
          "output_type": "execute_result",
          "data": {
            "text/plain": [
              "(2000, 21)"
            ]
          },
          "metadata": {},
          "execution_count": 46
        }
      ]
    },
    {
      "cell_type": "code",
      "metadata": {
        "colab": {
          "base_uri": "https://localhost:8080/"
        },
        "id": "5jib10kVaQ25",
        "outputId": "dc46846b-6e8d-4581-c7b8-11f0d5531d50"
      },
      "source": [
        "df.columns"
      ],
      "execution_count": 47,
      "outputs": [
        {
          "output_type": "execute_result",
          "data": {
            "text/plain": [
              "Index(['battery_power', 'blue', 'clock_speed', 'dual_sim', 'fc', 'four_g',\n",
              "       'int_memory', 'm_dep', 'mobile_wt', 'n_cores', 'pc', 'px_height',\n",
              "       'px_width', 'ram', 'sc_h', 'sc_w', 'talk_time', 'three_g',\n",
              "       'touch_screen', 'wifi', 'price_range'],\n",
              "      dtype='object')"
            ]
          },
          "metadata": {},
          "execution_count": 47
        }
      ]
    },
    {
      "cell_type": "code",
      "metadata": {
        "colab": {
          "base_uri": "https://localhost:8080/"
        },
        "id": "OMWP4dRIbQ0a",
        "outputId": "85d026aa-3252-4dd3-b8ad-1f516ab519d8"
      },
      "source": [
        "df.info()"
      ],
      "execution_count": 48,
      "outputs": [
        {
          "output_type": "stream",
          "name": "stdout",
          "text": [
            "<class 'pandas.core.frame.DataFrame'>\n",
            "RangeIndex: 2000 entries, 0 to 1999\n",
            "Data columns (total 21 columns):\n",
            " #   Column         Non-Null Count  Dtype  \n",
            "---  ------         --------------  -----  \n",
            " 0   battery_power  2000 non-null   int64  \n",
            " 1   blue           2000 non-null   int64  \n",
            " 2   clock_speed    2000 non-null   float64\n",
            " 3   dual_sim       2000 non-null   int64  \n",
            " 4   fc             2000 non-null   int64  \n",
            " 5   four_g         2000 non-null   int64  \n",
            " 6   int_memory     2000 non-null   int64  \n",
            " 7   m_dep          2000 non-null   float64\n",
            " 8   mobile_wt      2000 non-null   int64  \n",
            " 9   n_cores        2000 non-null   int64  \n",
            " 10  pc             2000 non-null   int64  \n",
            " 11  px_height      2000 non-null   int64  \n",
            " 12  px_width       2000 non-null   int64  \n",
            " 13  ram            2000 non-null   int64  \n",
            " 14  sc_h           2000 non-null   int64  \n",
            " 15  sc_w           2000 non-null   int64  \n",
            " 16  talk_time      2000 non-null   int64  \n",
            " 17  three_g        2000 non-null   int64  \n",
            " 18  touch_screen   2000 non-null   int64  \n",
            " 19  wifi           2000 non-null   int64  \n",
            " 20  price_range    2000 non-null   int64  \n",
            "dtypes: float64(2), int64(19)\n",
            "memory usage: 328.2 KB\n"
          ]
        }
      ]
    },
    {
      "cell_type": "code",
      "metadata": {
        "colab": {
          "base_uri": "https://localhost:8080/",
          "height": 317
        },
        "id": "za4Xsziebdk6",
        "outputId": "27378b7d-3c1d-4eac-faab-3e0de20a8db2"
      },
      "source": [
        "df.describe()"
      ],
      "execution_count": 49,
      "outputs": [
        {
          "output_type": "execute_result",
          "data": {
            "text/html": [
              "<div>\n",
              "<style scoped>\n",
              "    .dataframe tbody tr th:only-of-type {\n",
              "        vertical-align: middle;\n",
              "    }\n",
              "\n",
              "    .dataframe tbody tr th {\n",
              "        vertical-align: top;\n",
              "    }\n",
              "\n",
              "    .dataframe thead th {\n",
              "        text-align: right;\n",
              "    }\n",
              "</style>\n",
              "<table border=\"1\" class=\"dataframe\">\n",
              "  <thead>\n",
              "    <tr style=\"text-align: right;\">\n",
              "      <th></th>\n",
              "      <th>battery_power</th>\n",
              "      <th>blue</th>\n",
              "      <th>clock_speed</th>\n",
              "      <th>dual_sim</th>\n",
              "      <th>fc</th>\n",
              "      <th>four_g</th>\n",
              "      <th>int_memory</th>\n",
              "      <th>m_dep</th>\n",
              "      <th>mobile_wt</th>\n",
              "      <th>n_cores</th>\n",
              "      <th>pc</th>\n",
              "      <th>px_height</th>\n",
              "      <th>px_width</th>\n",
              "      <th>ram</th>\n",
              "      <th>sc_h</th>\n",
              "      <th>sc_w</th>\n",
              "      <th>talk_time</th>\n",
              "      <th>three_g</th>\n",
              "      <th>touch_screen</th>\n",
              "      <th>wifi</th>\n",
              "      <th>price_range</th>\n",
              "    </tr>\n",
              "  </thead>\n",
              "  <tbody>\n",
              "    <tr>\n",
              "      <th>count</th>\n",
              "      <td>2000.000000</td>\n",
              "      <td>2000.0000</td>\n",
              "      <td>2000.000000</td>\n",
              "      <td>2000.000000</td>\n",
              "      <td>2000.000000</td>\n",
              "      <td>2000.000000</td>\n",
              "      <td>2000.000000</td>\n",
              "      <td>2000.000000</td>\n",
              "      <td>2000.000000</td>\n",
              "      <td>2000.000000</td>\n",
              "      <td>2000.000000</td>\n",
              "      <td>2000.000000</td>\n",
              "      <td>2000.000000</td>\n",
              "      <td>2000.000000</td>\n",
              "      <td>2000.000000</td>\n",
              "      <td>2000.000000</td>\n",
              "      <td>2000.000000</td>\n",
              "      <td>2000.000000</td>\n",
              "      <td>2000.000000</td>\n",
              "      <td>2000.000000</td>\n",
              "      <td>2000.000000</td>\n",
              "    </tr>\n",
              "    <tr>\n",
              "      <th>mean</th>\n",
              "      <td>1238.518500</td>\n",
              "      <td>0.4950</td>\n",
              "      <td>1.522250</td>\n",
              "      <td>0.509500</td>\n",
              "      <td>4.309500</td>\n",
              "      <td>0.521500</td>\n",
              "      <td>32.046500</td>\n",
              "      <td>0.501750</td>\n",
              "      <td>140.249000</td>\n",
              "      <td>4.520500</td>\n",
              "      <td>9.916500</td>\n",
              "      <td>645.108000</td>\n",
              "      <td>1251.515500</td>\n",
              "      <td>2124.213000</td>\n",
              "      <td>12.306500</td>\n",
              "      <td>5.767000</td>\n",
              "      <td>11.011000</td>\n",
              "      <td>0.761500</td>\n",
              "      <td>0.503000</td>\n",
              "      <td>0.507000</td>\n",
              "      <td>1.500000</td>\n",
              "    </tr>\n",
              "    <tr>\n",
              "      <th>std</th>\n",
              "      <td>439.418206</td>\n",
              "      <td>0.5001</td>\n",
              "      <td>0.816004</td>\n",
              "      <td>0.500035</td>\n",
              "      <td>4.341444</td>\n",
              "      <td>0.499662</td>\n",
              "      <td>18.145715</td>\n",
              "      <td>0.288416</td>\n",
              "      <td>35.399655</td>\n",
              "      <td>2.287837</td>\n",
              "      <td>6.064315</td>\n",
              "      <td>443.780811</td>\n",
              "      <td>432.199447</td>\n",
              "      <td>1084.732044</td>\n",
              "      <td>4.213245</td>\n",
              "      <td>4.356398</td>\n",
              "      <td>5.463955</td>\n",
              "      <td>0.426273</td>\n",
              "      <td>0.500116</td>\n",
              "      <td>0.500076</td>\n",
              "      <td>1.118314</td>\n",
              "    </tr>\n",
              "    <tr>\n",
              "      <th>min</th>\n",
              "      <td>501.000000</td>\n",
              "      <td>0.0000</td>\n",
              "      <td>0.500000</td>\n",
              "      <td>0.000000</td>\n",
              "      <td>0.000000</td>\n",
              "      <td>0.000000</td>\n",
              "      <td>2.000000</td>\n",
              "      <td>0.100000</td>\n",
              "      <td>80.000000</td>\n",
              "      <td>1.000000</td>\n",
              "      <td>0.000000</td>\n",
              "      <td>0.000000</td>\n",
              "      <td>500.000000</td>\n",
              "      <td>256.000000</td>\n",
              "      <td>5.000000</td>\n",
              "      <td>0.000000</td>\n",
              "      <td>2.000000</td>\n",
              "      <td>0.000000</td>\n",
              "      <td>0.000000</td>\n",
              "      <td>0.000000</td>\n",
              "      <td>0.000000</td>\n",
              "    </tr>\n",
              "    <tr>\n",
              "      <th>25%</th>\n",
              "      <td>851.750000</td>\n",
              "      <td>0.0000</td>\n",
              "      <td>0.700000</td>\n",
              "      <td>0.000000</td>\n",
              "      <td>1.000000</td>\n",
              "      <td>0.000000</td>\n",
              "      <td>16.000000</td>\n",
              "      <td>0.200000</td>\n",
              "      <td>109.000000</td>\n",
              "      <td>3.000000</td>\n",
              "      <td>5.000000</td>\n",
              "      <td>282.750000</td>\n",
              "      <td>874.750000</td>\n",
              "      <td>1207.500000</td>\n",
              "      <td>9.000000</td>\n",
              "      <td>2.000000</td>\n",
              "      <td>6.000000</td>\n",
              "      <td>1.000000</td>\n",
              "      <td>0.000000</td>\n",
              "      <td>0.000000</td>\n",
              "      <td>0.750000</td>\n",
              "    </tr>\n",
              "    <tr>\n",
              "      <th>50%</th>\n",
              "      <td>1226.000000</td>\n",
              "      <td>0.0000</td>\n",
              "      <td>1.500000</td>\n",
              "      <td>1.000000</td>\n",
              "      <td>3.000000</td>\n",
              "      <td>1.000000</td>\n",
              "      <td>32.000000</td>\n",
              "      <td>0.500000</td>\n",
              "      <td>141.000000</td>\n",
              "      <td>4.000000</td>\n",
              "      <td>10.000000</td>\n",
              "      <td>564.000000</td>\n",
              "      <td>1247.000000</td>\n",
              "      <td>2146.500000</td>\n",
              "      <td>12.000000</td>\n",
              "      <td>5.000000</td>\n",
              "      <td>11.000000</td>\n",
              "      <td>1.000000</td>\n",
              "      <td>1.000000</td>\n",
              "      <td>1.000000</td>\n",
              "      <td>1.500000</td>\n",
              "    </tr>\n",
              "    <tr>\n",
              "      <th>75%</th>\n",
              "      <td>1615.250000</td>\n",
              "      <td>1.0000</td>\n",
              "      <td>2.200000</td>\n",
              "      <td>1.000000</td>\n",
              "      <td>7.000000</td>\n",
              "      <td>1.000000</td>\n",
              "      <td>48.000000</td>\n",
              "      <td>0.800000</td>\n",
              "      <td>170.000000</td>\n",
              "      <td>7.000000</td>\n",
              "      <td>15.000000</td>\n",
              "      <td>947.250000</td>\n",
              "      <td>1633.000000</td>\n",
              "      <td>3064.500000</td>\n",
              "      <td>16.000000</td>\n",
              "      <td>9.000000</td>\n",
              "      <td>16.000000</td>\n",
              "      <td>1.000000</td>\n",
              "      <td>1.000000</td>\n",
              "      <td>1.000000</td>\n",
              "      <td>2.250000</td>\n",
              "    </tr>\n",
              "    <tr>\n",
              "      <th>max</th>\n",
              "      <td>1998.000000</td>\n",
              "      <td>1.0000</td>\n",
              "      <td>3.000000</td>\n",
              "      <td>1.000000</td>\n",
              "      <td>19.000000</td>\n",
              "      <td>1.000000</td>\n",
              "      <td>64.000000</td>\n",
              "      <td>1.000000</td>\n",
              "      <td>200.000000</td>\n",
              "      <td>8.000000</td>\n",
              "      <td>20.000000</td>\n",
              "      <td>1960.000000</td>\n",
              "      <td>1998.000000</td>\n",
              "      <td>3998.000000</td>\n",
              "      <td>19.000000</td>\n",
              "      <td>18.000000</td>\n",
              "      <td>20.000000</td>\n",
              "      <td>1.000000</td>\n",
              "      <td>1.000000</td>\n",
              "      <td>1.000000</td>\n",
              "      <td>3.000000</td>\n",
              "    </tr>\n",
              "  </tbody>\n",
              "</table>\n",
              "</div>"
            ],
            "text/plain": [
              "       battery_power       blue  ...         wifi  price_range\n",
              "count    2000.000000  2000.0000  ...  2000.000000  2000.000000\n",
              "mean     1238.518500     0.4950  ...     0.507000     1.500000\n",
              "std       439.418206     0.5001  ...     0.500076     1.118314\n",
              "min       501.000000     0.0000  ...     0.000000     0.000000\n",
              "25%       851.750000     0.0000  ...     0.000000     0.750000\n",
              "50%      1226.000000     0.0000  ...     1.000000     1.500000\n",
              "75%      1615.250000     1.0000  ...     1.000000     2.250000\n",
              "max      1998.000000     1.0000  ...     1.000000     3.000000\n",
              "\n",
              "[8 rows x 21 columns]"
            ]
          },
          "metadata": {},
          "execution_count": 49
        }
      ]
    },
    {
      "cell_type": "code",
      "metadata": {
        "colab": {
          "base_uri": "https://localhost:8080/"
        },
        "id": "Ssmu_ep3btbG",
        "outputId": "01d10d8d-6049-4409-cf1d-f1ad8e690d20"
      },
      "source": [
        "df.isnull().sum()"
      ],
      "execution_count": 50,
      "outputs": [
        {
          "output_type": "execute_result",
          "data": {
            "text/plain": [
              "battery_power    0\n",
              "blue             0\n",
              "clock_speed      0\n",
              "dual_sim         0\n",
              "fc               0\n",
              "four_g           0\n",
              "int_memory       0\n",
              "m_dep            0\n",
              "mobile_wt        0\n",
              "n_cores          0\n",
              "pc               0\n",
              "px_height        0\n",
              "px_width         0\n",
              "ram              0\n",
              "sc_h             0\n",
              "sc_w             0\n",
              "talk_time        0\n",
              "three_g          0\n",
              "touch_screen     0\n",
              "wifi             0\n",
              "price_range      0\n",
              "dtype: int64"
            ]
          },
          "metadata": {},
          "execution_count": 50
        }
      ]
    },
    {
      "cell_type": "markdown",
      "metadata": {
        "id": "xftm_H-AVfqG"
      },
      "source": [
        "#EDA"
      ]
    },
    {
      "cell_type": "code",
      "metadata": {
        "colab": {
          "base_uri": "https://localhost:8080/"
        },
        "id": "4sBTSFmTUPcw",
        "outputId": "7dbfd341-742b-47de-f92c-c51b49243c85"
      },
      "source": [
        "df['price_range'].value_counts()"
      ],
      "execution_count": 51,
      "outputs": [
        {
          "output_type": "execute_result",
          "data": {
            "text/plain": [
              "3    500\n",
              "2    500\n",
              "1    500\n",
              "0    500\n",
              "Name: price_range, dtype: int64"
            ]
          },
          "metadata": {},
          "execution_count": 51
        }
      ]
    },
    {
      "cell_type": "code",
      "metadata": {
        "colab": {
          "base_uri": "https://localhost:8080/",
          "height": 0
        },
        "id": "ZQvw85wcVmF8",
        "outputId": "15047e79-616a-49f5-f43f-9e31f2bb7cd9"
      },
      "source": [
        "sns.countplot(x=df['price_range'])"
      ],
      "execution_count": 52,
      "outputs": [
        {
          "output_type": "execute_result",
          "data": {
            "text/plain": [
              "<matplotlib.axes._subplots.AxesSubplot at 0x7f31e22add50>"
            ]
          },
          "metadata": {},
          "execution_count": 52
        },
        {
          "output_type": "display_data",
          "data": {
            "image/png": "[encoded data removed]",
            "text/plain": [
              "<Figure size 936x720 with 1 Axes>"
            ]
          },
          "metadata": {
            "needs_background": "light"
          }
        }
      ]
    },
    {
      "cell_type": "markdown",
      "metadata": {
        "id": "0zJ9wa19LZuT"
      },
      "source": [
        "Blue, four_g, three_g, dual_sim, wifi, touch_screen\n",
        "These features have boolean type values i.e., whether or not each phone have these specification or not. So we can analyse them together."
      ]
    },
    {
      "cell_type": "code",
      "metadata": {
        "colab": {
          "base_uri": "https://localhost:8080/",
          "height": 0
        },
        "id": "3_gx81EGnsmI",
        "outputId": "cafa65e3-f8ab-4e64-c6ec-37ca8069d38d"
      },
      "source": [
        "# creating a list of these variables\n",
        "\n",
        "list1=['blue','dual_sim','four_g','three_g','touch_screen','wifi']\n",
        "\n",
        "\n",
        "\n",
        "# visualizing the count of each by running a for loop\n",
        "\n",
        "plt.figure(figsize=(15,10))\n",
        "for index,item in enumerate(list1):\n",
        "  plt.subplot(2,3,index+1)\n",
        "  xtick=[0,1]\n",
        "  label=['No','Yes']\n",
        "  plt.xticks(xtick,label)\n",
        "  sns.histplot(df[item])\n",
        "  plt.title(f'Count of phones for {item}')"
      ],
      "execution_count": 53,
      "outputs": [
        {
          "output_type": "display_data",
          "data": {
            "image/png": "[encoded data removed]",
            "text/plain": [
              "<Figure size 1080x720 with 6 Axes>"
            ]
          },
          "metadata": {
            "needs_background": "light"
          }
        }
      ]
    },
    {
      "cell_type": "markdown",
      "metadata": {
        "id": "bkWZqdCULwCy"
      },
      "source": [
        "It looks like we have almost equal no. of obseravtions for all except 3g where 75% is one class."
      ]
    },
    {
      "cell_type": "code",
      "metadata": {
        "colab": {
          "base_uri": "https://localhost:8080/"
        },
        "id": "yicqXr0knsjo",
        "outputId": "900a7f94-a6fe-43fb-ee21-c0cf1e9cbf60"
      },
      "source": [
        "# Extracting the no of cores we have\n",
        "\n",
        "print('The no. of cores we have in our dataset are: ',sorted(list(df['n_cores'].unique())))"
      ],
      "execution_count": 54,
      "outputs": [
        {
          "output_type": "stream",
          "name": "stdout",
          "text": [
            "The no. of cores we have in our dataset are:  [1, 2, 3, 4, 5, 6, 7, 8]\n"
          ]
        }
      ]
    },
    {
      "cell_type": "code",
      "metadata": {
        "colab": {
          "base_uri": "https://localhost:8080/",
          "height": 0
        },
        "id": "2s560zuNnshA",
        "outputId": "7a84d1a2-e3ba-4f9d-bc3c-e0447ca162c1"
      },
      "source": [
        "# Histplot to show count of each cores\n",
        "\n",
        "plt.figure(figsize=(10,5))\n",
        "sns.histplot(df['n_cores'],binwidth=0.4)\n",
        "plt.title('Count of each cores of processor')"
      ],
      "execution_count": 55,
      "outputs": [
        {
          "output_type": "execute_result",
          "data": {
            "text/plain": [
              "Text(0.5, 1.0, 'Count of each cores of processor')"
            ]
          },
          "metadata": {},
          "execution_count": 55
        },
        {
          "output_type": "display_data",
          "data": {
            "image/png": "[encoded data removed]",
            "text/plain": [
              "<Figure size 720x360 with 1 Axes>"
            ]
          },
          "metadata": {
            "needs_background": "light"
          }
        }
      ]
    },
    {
      "cell_type": "markdown",
      "metadata": {
        "id": "Bdmu2Zc9MD3h"
      },
      "source": [
        "It looks like we have almost equal no. of observations for each cores with highest observation for n_cores=4."
      ]
    },
    {
      "cell_type": "markdown",
      "metadata": {
        "id": "w9MSuUZ5MKk_"
      },
      "source": [
        "## M_dep\n",
        "m_dep tells us the thickness of the mobile phone."
      ]
    },
    {
      "cell_type": "code",
      "metadata": {
        "colab": {
          "base_uri": "https://localhost:8080/"
        },
        "id": "_y7Wqprlnsef",
        "outputId": "177118e8-5226-4245-9a47-bd21f3ace8e5"
      },
      "source": [
        "# Extracting the depth values we have\n",
        "\n",
        "print('The m_dep values we have in our dataset are: ',sorted(list(df['m_dep'].unique())))"
      ],
      "execution_count": 56,
      "outputs": [
        {
          "output_type": "stream",
          "name": "stdout",
          "text": [
            "The m_dep values we have in our dataset are:  [0.1, 0.2, 0.3, 0.4, 0.5, 0.6, 0.7, 0.8, 0.9, 1.0]\n"
          ]
        }
      ]
    },
    {
      "cell_type": "code",
      "metadata": {
        "colab": {
          "base_uri": "https://localhost:8080/",
          "height": 0
        },
        "id": "Fz1tH0ygnsb7",
        "outputId": "3aca1a46-fe96-4d00-a935-4c9f15f88ba0"
      },
      "source": [
        "# Histplot to show count of each categories\n",
        "\n",
        "plt.figure(figsize=(10,5))\n",
        "xtick=sorted(list(df['m_dep'].unique()))\n",
        "sns.histplot(df['m_dep'],binwidth=0.04)\n",
        "plt.xticks(xtick)\n",
        "plt.title('Count of each depth values(cm)')"
      ],
      "execution_count": 57,
      "outputs": [
        {
          "output_type": "execute_result",
          "data": {
            "text/plain": [
              "Text(0.5, 1.0, 'Count of each depth values(cm)')"
            ]
          },
          "metadata": {},
          "execution_count": 57
        },
        {
          "output_type": "display_data",
          "data": {
            "image/png": "[encoded data removed]",
            "text/plain": [
              "<Figure size 720x360 with 1 Axes>"
            ]
          },
          "metadata": {
            "needs_background": "light"
          }
        }
      ]
    },
    {
      "cell_type": "markdown",
      "metadata": {
        "id": "qqMcB7CGMa19"
      },
      "source": [
        "\n",
        "\n",
        "*   There is higher no. of observations for 0.1 depth and least observations for 1 cm depth.\n",
        "\n",
        "\n"
      ]
    },
    {
      "cell_type": "markdown",
      "metadata": {
        "id": "EiQvGZiWM2nc"
      },
      "source": [
        "Clock_speed, fc, pc, sc_h, sc_w, talktime (Variables having low range values)\n",
        "Let's visualize the stats of these variables using boxplot"
      ]
    },
    {
      "cell_type": "code",
      "metadata": {
        "colab": {
          "base_uri": "https://localhost:8080/",
          "height": 0
        },
        "id": "2q-_HnlEnsZY",
        "outputId": "a2b6d569-d580-43f5-edb1-6f2874e15ec5"
      },
      "source": [
        "# Visualizing stats of these variables using box plots\n",
        "\n",
        "plt.figure(figsize=(12,8))\n",
        "xtick=[1,2,3,4,5,6]\n",
        "label=['clock_speed','fc','pc','sc_h','sc_w','talk_time']\n",
        "plt.boxplot(df[['clock_speed','fc','pc','sc_h','sc_w','talk_time']].values)\n",
        "plt.xticks(xtick,label)\n",
        "plt.title('Box plot for low range variables')"
      ],
      "execution_count": 58,
      "outputs": [
        {
          "output_type": "execute_result",
          "data": {
            "text/plain": [
              "Text(0.5, 1.0, 'Box plot for low range variables')"
            ]
          },
          "metadata": {},
          "execution_count": 58
        },
        {
          "output_type": "display_data",
          "data": {
            "image/png": "[encoded data removed]",
            "text/plain": [
              "<Figure size 864x576 with 1 Axes>"
            ]
          },
          "metadata": {
            "needs_background": "light"
          }
        }
      ]
    },
    {
      "cell_type": "markdown",
      "metadata": {
        "id": "a-Hy_WHtM-d4"
      },
      "source": [
        "* Mean value for clock speed is around 1.5 and min and max values are 3 and 0.5 respectively.\n",
        "\n",
        "* Mean value of front camera(fc) and primary camera(pc)in mega pixels is around 3 and 10 and min and max values are 19, 0 for front and 20, 0 for primary.\n",
        "\n",
        "* Mean value of screen height(sc_h) and screen width(sc_w) is around 12 and 5 and min and max values are 19, 5 for height and 18, o for width.\n",
        "\n",
        "* Mean value of talktime is around 11 and min and max values are 20 and 2."
      ]
    },
    {
      "cell_type": "markdown",
      "metadata": {
        "id": "YefrqNyaNNXC"
      },
      "source": [
        "### Int_memory, mobile_wt (Variables having medium range values)"
      ]
    },
    {
      "cell_type": "code",
      "metadata": {
        "colab": {
          "base_uri": "https://localhost:8080/",
          "height": 0
        },
        "id": "yenzAOKMnsWB",
        "outputId": "e5b67037-51ef-44d7-c3b5-9c829e609e48"
      },
      "source": [
        "# Visualizing stats of these variables using box plots\n",
        "\n",
        "plt.figure(figsize=(12,8))\n",
        "xtick=[1,2]\n",
        "label=['int_memory','mobile_wt']\n",
        "plt.boxplot(df[['int_memory','mobile_wt']].values)\n",
        "plt.xticks(xtick,label)\n",
        "plt.title('Box plot for medium range variables')"
      ],
      "execution_count": 59,
      "outputs": [
        {
          "output_type": "execute_result",
          "data": {
            "text/plain": [
              "Text(0.5, 1.0, 'Box plot for medium range variables')"
            ]
          },
          "metadata": {},
          "execution_count": 59
        },
        {
          "output_type": "display_data",
          "data": {
            "image/png": "[encoded data removed]",
            "text/plain": [
              "<Figure size 864x576 with 1 Axes>"
            ]
          },
          "metadata": {
            "needs_background": "light"
          }
        }
      ]
    },
    {
      "cell_type": "markdown",
      "metadata": {
        "id": "vlvfDLXuNVhm"
      },
      "source": [
        "Mean value for internal memory is around 32 and min and max values are 64 and 2.\n",
        "\n",
        "Mean value for weight is around 141 and min and max values are 200 and 80."
      ]
    },
    {
      "cell_type": "markdown",
      "metadata": {
        "id": "uncBnCKANbzF"
      },
      "source": [
        "Battery_power, px_height, px_width, ram (Variables having high range values)."
      ]
    },
    {
      "cell_type": "code",
      "metadata": {
        "colab": {
          "base_uri": "https://localhost:8080/",
          "height": 0
        },
        "id": "EdLMEVy3nsQS",
        "outputId": "d696fdda-2bc4-4e82-b00a-e8b85cc4c150"
      },
      "source": [
        "# Visualizing stats of these variables using box plots\n",
        "\n",
        "plt.figure(figsize=(12,8))\n",
        "xtick=[1,2,3,4]\n",
        "label=['battery_power','px_height','px_width','ram']\n",
        "plt.boxplot(df[['battery_power','px_height','px_width','ram']].values)\n",
        "plt.xticks(xtick,label)\n",
        "plt.title('Box plot for high range variables')"
      ],
      "execution_count": 60,
      "outputs": [
        {
          "output_type": "execute_result",
          "data": {
            "text/plain": [
              "Text(0.5, 1.0, 'Box plot for high range variables')"
            ]
          },
          "metadata": {},
          "execution_count": 60
        },
        {
          "output_type": "display_data",
          "data": {
            "image/png": "[encoded data removed]",
            "text/plain": [
              "<Figure size 864x576 with 1 Axes>"
            ]
          },
          "metadata": {
            "needs_background": "light"
          }
        }
      ]
    },
    {
      "cell_type": "markdown",
      "metadata": {
        "id": "M3yLPq2qNpmm"
      },
      "source": [
        "* Mean value for battery power is around 1226 and min and max values are 1998 and 501.\n",
        "\n",
        "* Mean value for pixel height and width is around 564 and 1247 and min and max values are 1960,0 for height and 1998,500 for width.\n",
        "\n",
        "* Mean value for ram is around 2146 and min and max values are 3998 and 256."
      ]
    },
    {
      "cell_type": "markdown",
      "metadata": {
        "id": "OXtbSwzrN9kT"
      },
      "source": [
        "# Multivariate Analysis"
      ]
    },
    {
      "cell_type": "markdown",
      "metadata": {
        "id": "h9n7EO1TOCiX"
      },
      "source": [
        "Correlation matrix"
      ]
    },
    {
      "cell_type": "code",
      "metadata": {
        "colab": {
          "base_uri": "https://localhost:8080/",
          "height": 0
        },
        "id": "u5Xcoj50nHRg",
        "outputId": "63e20ff9-8b93-4bfa-ce2f-4465b25dbbb4"
      },
      "source": [
        "# Heatmap showing correlation between features\n",
        "\n",
        "plt.figure(figsize=(20,20))\n",
        "sns.heatmap(abs(df.corr()),annot=True, cmap='Greys',square=True)\n",
        "plt.title('Heatmap',fontsize=20)"
      ],
      "execution_count": 61,
      "outputs": [
        {
          "output_type": "execute_result",
          "data": {
            "text/plain": [
              "Text(0.5, 1.0, 'Heatmap')"
            ]
          },
          "metadata": {},
          "execution_count": 61
        },
        {
          "output_type": "display_data",
          "data": {
            "image/png": "[encoded data removed]",
            "text/plain": [
              "<Figure size 1440x1440 with 2 Axes>"
            ]
          },
          "metadata": {
            "needs_background": "light"
          }
        }
      ]
    },
    {
      "cell_type": "markdown",
      "metadata": {
        "id": "-qEkV-PZQC0W"
      },
      "source": [
        "Points to note from above heatmap:\n",
        "\n",
        "* pc is correlated with fc.\n",
        "\n",
        "* three_g and four_g are moderately correlated.\n",
        "\n",
        "* sc_h and sc_w are moderately correlated. We will try to change them into a single variable.\n",
        "\n",
        "* px_width and px_height are moderately correlated. We will try to change them into a single variable.\n",
        "\n",
        "* ram is highly correlated with our price range. May be one the most important factor in determining the price."
      ]
    },
    {
      "cell_type": "markdown",
      "metadata": {
        "id": "uzSIEGyEQM5T"
      },
      "source": [
        "### n_cores and m_dep V/S price_range\n",
        "---\n",
        "\n"
      ]
    },
    {
      "cell_type": "code",
      "metadata": {
        "colab": {
          "base_uri": "https://localhost:8080/",
          "height": 0
        },
        "id": "RbAU-RnyQPGV",
        "outputId": "2bb6147c-5438-466b-b815-13cf781e338a"
      },
      "source": [
        "# Grouping price range with n_cores and m_dep and visualizing \n",
        "\n",
        "list1=['n_cores','m_dep']\n",
        "for item in list1:\n",
        "  plt.rcParams['figure.figsize']=(10,8)\n",
        "  df.groupby(['price_range'])[item].value_counts().unstack().plot.bar()\n",
        "  plt.title(f'Price range grouped by {item}')\n",
        "  plt.ylabel('No. of phones')"
      ],
      "execution_count": 62,
      "outputs": [
        {
          "output_type": "display_data",
          "data": {
            "image/png": "[encoded data removed]",
            "text/plain": [
              "<Figure size 720x576 with 1 Axes>"
            ]
          },
          "metadata": {
            "needs_background": "light"
          }
        },
        {
          "output_type": "display_data",
          "data": {
            "image/png": "[encoded data removed]",
            "text/plain": [
              "<Figure size 720x576 with 1 Axes>"
            ]
          },
          "metadata": {
            "needs_background": "light"
          }
        }
      ]
    },
    {
      "cell_type": "markdown",
      "metadata": {
        "id": "a0VHramCQgzh"
      },
      "source": [
        "Count of less n_cores is high for 0 and 1 price range.\n",
        "\n",
        "Count of high n_cores is high for 2 and 3 price range.\n",
        "\n",
        "Count of phones with less thickness is high and count of phones with high thickness is low."
      ]
    },
    {
      "cell_type": "markdown",
      "metadata": {
        "id": "KTxRJn0fQiXw"
      },
      "source": [
        "# Blue, four_g, three_g, dual_sim, wifi, touch_screen V/S price_range"
      ]
    },
    {
      "cell_type": "code",
      "metadata": {
        "colab": {
          "base_uri": "https://localhost:8080/",
          "height": 0
        },
        "id": "CGtkZiZZQnSY",
        "outputId": "17531fe9-25a0-42df-9cdc-c99c8156411b"
      },
      "source": [
        "# Grouping price range with Blue, four_g, three_g, dual_sim, wifi, touch_screen and visualizing \n",
        "\n",
        "plt.rcParams['figure.figsize']=(13,10)\n",
        "df.groupby(['price_range']).agg({'blue':'value_counts','dual_sim':'value_counts','four_g':'value_counts','three_g':'value_counts','touch_screen':'value_counts','wifi':'value_counts'}).unstack().plot.bar()\n",
        "plt.title('Count of phones in each price range with supported and unsupported categories')\n",
        "plt.xlabel('Price range')\n",
        "plt.ylabel('No. of phones')"
      ],
      "execution_count": 63,
      "outputs": [
        {
          "output_type": "execute_result",
          "data": {
            "text/plain": [
              "Text(0, 0.5, 'No. of phones')"
            ]
          },
          "metadata": {},
          "execution_count": 63
        },
        {
          "output_type": "display_data",
          "data": {
            "image/png": "[encoded data removed]",
            "text/plain": [
              "<Figure size 936x720 with 1 Axes>"
            ]
          },
          "metadata": {
            "needs_background": "light"
          }
        }
      ]
    },
    {
      "cell_type": "markdown",
      "metadata": {
        "id": "HAEVEJ8pSK0w"
      },
      "source": [
        "### Clock_speed, fc, pc, sc_h, sc_w, talk_time V/S price_range"
      ]
    },
    {
      "cell_type": "code",
      "metadata": {
        "colab": {
          "base_uri": "https://localhost:8080/",
          "height": 0
        },
        "id": "QsqPXNb9SF4M",
        "outputId": "82dcc3e6-9e9d-486b-fb29-0a5828021446"
      },
      "source": [
        "# Visualizing price range grouped by these variables using pointplot\n",
        "\n",
        "list1=['clock_speed','fc','pc','sc_h','sc_w','talk_time']\n",
        "plt.figure(figsize=(17,10))\n",
        "for index,item in enumerate(list1):\n",
        "  plt.subplot(2,3,index+1)\n",
        "  sns.pointplot(x='price_range',y=item,data=df)\n",
        "  plt.title(f'{item} vs price range')"
      ],
      "execution_count": 64,
      "outputs": [
        {
          "output_type": "display_data",
          "data": {
            "image/png": "[encoded data removed]",
            "text/plain": [
              "<Figure size 1224x720 with 6 Axes>"
            ]
          },
          "metadata": {
            "needs_background": "light"
          }
        }
      ]
    },
    {
      "cell_type": "markdown",
      "metadata": {
        "id": "jxXWeHKISTpu"
      },
      "source": [
        "* For low range price(0), the clock speed is high.\n",
        "\n",
        "* Price range is increasing with increase in front camera and primary camera megapixel.\n",
        "\n",
        "* Screen height and width decrease initially for increase in price range but then increses.\n",
        "\n",
        "* Talk time is higher for high range phones comparatively."
      ]
    },
    {
      "cell_type": "markdown",
      "metadata": {
        "id": "B2_HP1iCShMY"
      },
      "source": [
        "# Int_memory, mobile_wt V/S price_range"
      ]
    },
    {
      "cell_type": "code",
      "metadata": {
        "colab": {
          "base_uri": "https://localhost:8080/",
          "height": 0
        },
        "id": "My6_-oSbSbwO",
        "outputId": "52482d08-edbc-4527-f083-0a1927fbffe4"
      },
      "source": [
        "# Visualizing price range grouped by these variables using lineplot\n",
        "\n",
        "list1=['int_memory','mobile_wt']\n",
        "plt.figure(figsize=(17,6))\n",
        "for index,item in enumerate(list1):\n",
        "  xtick=[0,1,2,3]\n",
        "  plt.subplot(1,2,index+1)\n",
        "  sns.lineplot(x='price_range',y=item,data=df)\n",
        "  plt.xticks(xtick)\n",
        "  plt.title(f'{item} vs price range')"
      ],
      "execution_count": 65,
      "outputs": [
        {
          "output_type": "display_data",
          "data": {
            "image/png": "[encoded data removed]",
            "text/plain": [
              "<Figure size 1224x432 with 2 Axes>"
            ]
          },
          "metadata": {
            "needs_background": "light"
          }
        }
      ]
    },
    {
      "cell_type": "markdown",
      "metadata": {
        "id": "rcSiyUkNSpRE"
      },
      "source": [
        "  There is drastic increase in internal memory for very high prices.\n",
        "\n",
        "  Also there is drastic decrease in mobile weight for very high prices."
      ]
    },
    {
      "cell_type": "markdown",
      "metadata": {
        "id": "ZaXpY4KIS0DK"
      },
      "source": [
        "# Battery_power, px_height, px_width, ram V/S price_range"
      ]
    },
    {
      "cell_type": "code",
      "metadata": {
        "colab": {
          "base_uri": "https://localhost:8080/",
          "height": 405
        },
        "id": "M-eDT1-hS7ZB",
        "outputId": "8db5d10a-d030-416e-ac6a-0b9cbafd6533"
      },
      "source": [
        "# Visualizing price range grouped by these variables using lineplot\n",
        "\n",
        "list1=['battery_power','px_height','px_width','ram']\n",
        "plt.figure(figsize=(20,6))\n",
        "for index,item in enumerate(list1):\n",
        "  xtick=[0,1,2,3]\n",
        "  plt.subplot(1,4,index+1)\n",
        "  plt.xticks(xtick)\n",
        "  sns.lineplot(x='price_range',y=item,data=df)\n",
        "  plt.title(f'{item} vs price range')"
      ],
      "execution_count": 66,
      "outputs": [
        {
          "output_type": "display_data",
          "data": {
            "image/png": "[encoded data removed]",
            "text/plain": [
              "<Figure size 1440x432 with 4 Axes>"
            ]
          },
          "metadata": {
            "needs_background": "light"
          }
        }
      ]
    },
    {
      "cell_type": "markdown",
      "metadata": {
        "id": "GB4ZBwT0Ujck"
      },
      "source": [
        "### Outliers"
      ]
    },
    {
      "cell_type": "code",
      "metadata": {
        "colab": {
          "base_uri": "https://localhost:8080/",
          "height": 1000
        },
        "id": "8fhuDSb4Uox5",
        "outputId": "78fe2ee1-2ef1-44b1-c478-0a0ccdd13b78"
      },
      "source": [
        "# Checking outliers for discrete and continous type variables using box plot\n",
        "\n",
        "D_R_Variables=['clock_speed','fc','pc','sc_h','sc_w','talk_time','int_memory','mobile_wt','battery_power','px_height','px_width','ram']\n",
        "plt.figure(figsize=(20,10))\n",
        "for index,item in enumerate(D_R_Variables):\n",
        "  plt.subplot(2,6,index+1)\n",
        "  sns.boxplot(df[item])"
      ],
      "execution_count": 67,
      "outputs": [
        {
          "output_type": "stream",
          "name": "stderr",
          "text": [
            "/usr/local/lib/python3.7/dist-packages/seaborn/_decorators.py:43: FutureWarning: Pass the following variable as a keyword arg: x. From version 0.12, the only valid positional argument will be `data`, and passing other arguments without an explicit keyword will result in an error or misinterpretation.\n",
            "  FutureWarning\n",
            "/usr/local/lib/python3.7/dist-packages/seaborn/_decorators.py:43: FutureWarning: Pass the following variable as a keyword arg: x. From version 0.12, the only valid positional argument will be `data`, and passing other arguments without an explicit keyword will result in an error or misinterpretation.\n",
            "  FutureWarning\n",
            "/usr/local/lib/python3.7/dist-packages/seaborn/_decorators.py:43: FutureWarning: Pass the following variable as a keyword arg: x. From version 0.12, the only valid positional argument will be `data`, and passing other arguments without an explicit keyword will result in an error or misinterpretation.\n",
            "  FutureWarning\n",
            "/usr/local/lib/python3.7/dist-packages/seaborn/_decorators.py:43: FutureWarning: Pass the following variable as a keyword arg: x. From version 0.12, the only valid positional argument will be `data`, and passing other arguments without an explicit keyword will result in an error or misinterpretation.\n",
            "  FutureWarning\n",
            "/usr/local/lib/python3.7/dist-packages/seaborn/_decorators.py:43: FutureWarning: Pass the following variable as a keyword arg: x. From version 0.12, the only valid positional argument will be `data`, and passing other arguments without an explicit keyword will result in an error or misinterpretation.\n",
            "  FutureWarning\n",
            "/usr/local/lib/python3.7/dist-packages/seaborn/_decorators.py:43: FutureWarning: Pass the following variable as a keyword arg: x. From version 0.12, the only valid positional argument will be `data`, and passing other arguments without an explicit keyword will result in an error or misinterpretation.\n",
            "  FutureWarning\n",
            "/usr/local/lib/python3.7/dist-packages/seaborn/_decorators.py:43: FutureWarning: Pass the following variable as a keyword arg: x. From version 0.12, the only valid positional argument will be `data`, and passing other arguments without an explicit keyword will result in an error or misinterpretation.\n",
            "  FutureWarning\n",
            "/usr/local/lib/python3.7/dist-packages/seaborn/_decorators.py:43: FutureWarning: Pass the following variable as a keyword arg: x. From version 0.12, the only valid positional argument will be `data`, and passing other arguments without an explicit keyword will result in an error or misinterpretation.\n",
            "  FutureWarning\n",
            "/usr/local/lib/python3.7/dist-packages/seaborn/_decorators.py:43: FutureWarning: Pass the following variable as a keyword arg: x. From version 0.12, the only valid positional argument will be `data`, and passing other arguments without an explicit keyword will result in an error or misinterpretation.\n",
            "  FutureWarning\n",
            "/usr/local/lib/python3.7/dist-packages/seaborn/_decorators.py:43: FutureWarning: Pass the following variable as a keyword arg: x. From version 0.12, the only valid positional argument will be `data`, and passing other arguments without an explicit keyword will result in an error or misinterpretation.\n",
            "  FutureWarning\n",
            "/usr/local/lib/python3.7/dist-packages/seaborn/_decorators.py:43: FutureWarning: Pass the following variable as a keyword arg: x. From version 0.12, the only valid positional argument will be `data`, and passing other arguments without an explicit keyword will result in an error or misinterpretation.\n",
            "  FutureWarning\n",
            "/usr/local/lib/python3.7/dist-packages/seaborn/_decorators.py:43: FutureWarning: Pass the following variable as a keyword arg: x. From version 0.12, the only valid positional argument will be `data`, and passing other arguments without an explicit keyword will result in an error or misinterpretation.\n",
            "  FutureWarning\n"
          ]
        },
        {
          "output_type": "display_data",
          "data": {
            "image/png": "[encoded data removed]",
            "text/plain": [
              "<Figure size 1440x720 with 12 Axes>"
            ]
          },
          "metadata": {
            "needs_background": "light"
          }
        }
      ]
    },
    {
      "cell_type": "code",
      "metadata": {
        "id": "KSu3ElUET12O"
      },
      "source": [
        ""
      ],
      "execution_count": 67,
      "outputs": []
    },
    {
      "cell_type": "markdown",
      "metadata": {
        "id": "5lGUvSptUSbv"
      },
      "source": [
        "### Outliers"
      ]
    },
    {
      "cell_type": "code",
      "metadata": {
        "colab": {
          "base_uri": "https://localhost:8080/",
          "height": 1000
        },
        "id": "NA0Ig2iwUSbw",
        "outputId": "6e07b64c-e64f-4d57-ca35-cba311e0477b"
      },
      "source": [
        "# Checking outliers for discrete and continous type variables using box plot\n",
        "\n",
        "D_R_Variables=['clock_speed','fc','pc','sc_h','sc_w','talk_time','int_memory','mobile_wt','battery_power','px_height','px_width','ram']\n",
        "plt.figure(figsize=(20,10))\n",
        "for index,item in enumerate(D_R_Variables):\n",
        "  plt.subplot(2,6,index+1)\n",
        "  sns.boxplot(df[item])"
      ],
      "execution_count": 68,
      "outputs": [
        {
          "output_type": "stream",
          "name": "stderr",
          "text": [
            "/usr/local/lib/python3.7/dist-packages/seaborn/_decorators.py:43: FutureWarning: Pass the following variable as a keyword arg: x. From version 0.12, the only valid positional argument will be `data`, and passing other arguments without an explicit keyword will result in an error or misinterpretation.\n",
            "  FutureWarning\n",
            "/usr/local/lib/python3.7/dist-packages/seaborn/_decorators.py:43: FutureWarning: Pass the following variable as a keyword arg: x. From version 0.12, the only valid positional argument will be `data`, and passing other arguments without an explicit keyword will result in an error or misinterpretation.\n",
            "  FutureWarning\n",
            "/usr/local/lib/python3.7/dist-packages/seaborn/_decorators.py:43: FutureWarning: Pass the following variable as a keyword arg: x. From version 0.12, the only valid positional argument will be `data`, and passing other arguments without an explicit keyword will result in an error or misinterpretation.\n",
            "  FutureWarning\n",
            "/usr/local/lib/python3.7/dist-packages/seaborn/_decorators.py:43: FutureWarning: Pass the following variable as a keyword arg: x. From version 0.12, the only valid positional argument will be `data`, and passing other arguments without an explicit keyword will result in an error or misinterpretation.\n",
            "  FutureWarning\n",
            "/usr/local/lib/python3.7/dist-packages/seaborn/_decorators.py:43: FutureWarning: Pass the following variable as a keyword arg: x. From version 0.12, the only valid positional argument will be `data`, and passing other arguments without an explicit keyword will result in an error or misinterpretation.\n",
            "  FutureWarning\n",
            "/usr/local/lib/python3.7/dist-packages/seaborn/_decorators.py:43: FutureWarning: Pass the following variable as a keyword arg: x. From version 0.12, the only valid positional argument will be `data`, and passing other arguments without an explicit keyword will result in an error or misinterpretation.\n",
            "  FutureWarning\n",
            "/usr/local/lib/python3.7/dist-packages/seaborn/_decorators.py:43: FutureWarning: Pass the following variable as a keyword arg: x. From version 0.12, the only valid positional argument will be `data`, and passing other arguments without an explicit keyword will result in an error or misinterpretation.\n",
            "  FutureWarning\n",
            "/usr/local/lib/python3.7/dist-packages/seaborn/_decorators.py:43: FutureWarning: Pass the following variable as a keyword arg: x. From version 0.12, the only valid positional argument will be `data`, and passing other arguments without an explicit keyword will result in an error or misinterpretation.\n",
            "  FutureWarning\n",
            "/usr/local/lib/python3.7/dist-packages/seaborn/_decorators.py:43: FutureWarning: Pass the following variable as a keyword arg: x. From version 0.12, the only valid positional argument will be `data`, and passing other arguments without an explicit keyword will result in an error or misinterpretation.\n",
            "  FutureWarning\n",
            "/usr/local/lib/python3.7/dist-packages/seaborn/_decorators.py:43: FutureWarning: Pass the following variable as a keyword arg: x. From version 0.12, the only valid positional argument will be `data`, and passing other arguments without an explicit keyword will result in an error or misinterpretation.\n",
            "  FutureWarning\n",
            "/usr/local/lib/python3.7/dist-packages/seaborn/_decorators.py:43: FutureWarning: Pass the following variable as a keyword arg: x. From version 0.12, the only valid positional argument will be `data`, and passing other arguments without an explicit keyword will result in an error or misinterpretation.\n",
            "  FutureWarning\n",
            "/usr/local/lib/python3.7/dist-packages/seaborn/_decorators.py:43: FutureWarning: Pass the following variable as a keyword arg: x. From version 0.12, the only valid positional argument will be `data`, and passing other arguments without an explicit keyword will result in an error or misinterpretation.\n",
            "  FutureWarning\n"
          ]
        },
        {
          "output_type": "display_data",
          "data": {
            "image/png": "[encoded data removed]",
            "text/plain": [
              "<Figure size 1440x720 with 12 Axes>"
            ]
          },
          "metadata": {
            "needs_background": "light"
          }
        }
      ]
    },
    {
      "cell_type": "markdown",
      "metadata": {
        "id": "L5nKbWB2WA1l"
      },
      "source": [
        ""
      ]
    },
    {
      "cell_type": "markdown",
      "metadata": {
        "id": "f-VrVRSRWBly"
      },
      "source": [
        "## Converting the dependent variable to a binary variable (two possible labels/classes)"
      ]
    },
    {
      "cell_type": "code",
      "metadata": {
        "id": "rnfC7BTjUjQv"
      },
      "source": [
        "def modified_price_range(row):\n",
        "  if ((row['price_range'] <2) & (row['price_range'] >=0) ):\n",
        "    val = 0\n",
        "  elif (row['price_range']<=3) & (row['price_range']>=2):\n",
        "    val = 1\n",
        "  else:\n",
        "    val = -1\n",
        "  \n",
        "  return val"
      ],
      "execution_count": 69,
      "outputs": []
    },
    {
      "cell_type": "code",
      "metadata": {
        "id": "oU_88j24UjQv"
      },
      "source": [
        "df['modified_price_range'] = df.apply(modified_price_range,axis = 1)"
      ],
      "execution_count": 70,
      "outputs": []
    },
    {
      "cell_type": "code",
      "metadata": {
        "id": "Sa0XSeIAUjQv",
        "colab": {
          "base_uri": "https://localhost:8080/"
        },
        "outputId": "04afa6f6-3706-4d01-f16e-43470d3a61be"
      },
      "source": [
        "df['modified_price_range'].value_counts()"
      ],
      "execution_count": 71,
      "outputs": [
        {
          "output_type": "execute_result",
          "data": {
            "text/plain": [
              "1    1000\n",
              "0    1000\n",
              "Name: modified_price_range, dtype: int64"
            ]
          },
          "metadata": {},
          "execution_count": 71
        }
      ]
    },
    {
      "cell_type": "code",
      "metadata": {
        "id": "THY7kxSuUjQw",
        "colab": {
          "base_uri": "https://localhost:8080/",
          "height": 623
        },
        "outputId": "d9c4f106-18c4-4021-ecbc-99c604c5f1ff"
      },
      "source": [
        "sns.countplot(x= df['modified_price_range'])"
      ],
      "execution_count": 72,
      "outputs": [
        {
          "output_type": "execute_result",
          "data": {
            "text/plain": [
              "<matplotlib.axes._subplots.AxesSubplot at 0x7f31e12525d0>"
            ]
          },
          "metadata": {},
          "execution_count": 72
        },
        {
          "output_type": "display_data",
          "data": {
            "image/png": "[encoded data removed]",
            "text/plain": [
              "<Figure size 936x720 with 1 Axes>"
            ]
          },
          "metadata": {
            "needs_background": "light"
          }
        }
      ]
    },
    {
      "cell_type": "code",
      "metadata": {
        "id": "ZLDgVtmbUjQw",
        "colab": {
          "base_uri": "https://localhost:8080/"
        },
        "outputId": "8feac648-ff14-499e-cacb-9894d49e0347"
      },
      "source": [
        "df.shape"
      ],
      "execution_count": 73,
      "outputs": [
        {
          "output_type": "execute_result",
          "data": {
            "text/plain": [
              "(2000, 22)"
            ]
          },
          "metadata": {},
          "execution_count": 73
        }
      ]
    },
    {
      "cell_type": "code",
      "metadata": {
        "id": "TINLyQZGUjQw"
      },
      "source": [
        "df.drop('price_range',axis = 1, inplace=True)"
      ],
      "execution_count": 74,
      "outputs": []
    },
    {
      "cell_type": "code",
      "metadata": {
        "id": "W29cB6CDUjQw",
        "colab": {
          "base_uri": "https://localhost:8080/"
        },
        "outputId": "14034b40-5aaf-4eb4-f825-2a6c6d37ca43"
      },
      "source": [
        "df.shape"
      ],
      "execution_count": 75,
      "outputs": [
        {
          "output_type": "execute_result",
          "data": {
            "text/plain": [
              "(2000, 21)"
            ]
          },
          "metadata": {},
          "execution_count": 75
        }
      ]
    },
    {
      "cell_type": "code",
      "metadata": {
        "id": "o7joyFfSUjQw"
      },
      "source": [
        "# Data for all the independent variables\n",
        "X = df.drop(labels='modified_price_range',axis=1)\n",
        "\n",
        "# Data for the dependent variable\n",
        "Y = df['modified_price_range']"
      ],
      "execution_count": 76,
      "outputs": []
    },
    {
      "cell_type": "code",
      "metadata": {
        "id": "_dmelg8JUjQw",
        "colab": {
          "base_uri": "https://localhost:8080/"
        },
        "outputId": "60d8ced6-99c5-426d-e378-4762623d9b56"
      },
      "source": [
        "X.shape"
      ],
      "execution_count": 77,
      "outputs": [
        {
          "output_type": "execute_result",
          "data": {
            "text/plain": [
              "(2000, 20)"
            ]
          },
          "metadata": {},
          "execution_count": 77
        }
      ]
    },
    {
      "cell_type": "code",
      "metadata": {
        "id": "Ds4eK6TUUjQw",
        "colab": {
          "base_uri": "https://localhost:8080/"
        },
        "outputId": "0d1942b7-4d41-40dd-dcc6-651cfaf39632"
      },
      "source": [
        "Y.shape"
      ],
      "execution_count": 78,
      "outputs": [
        {
          "output_type": "execute_result",
          "data": {
            "text/plain": [
              "(2000,)"
            ]
          },
          "metadata": {},
          "execution_count": 78
        }
      ]
    },
    {
      "cell_type": "code",
      "metadata": {
        "id": "gHaQsTGKUjQw",
        "colab": {
          "base_uri": "https://localhost:8080/",
          "height": 575
        },
        "outputId": "e4cd9dca-a721-446b-f1ea-6ca67e13897d"
      },
      "source": [
        "#Dependent variable 'modified_price_range'\n",
        "plt.pie(Y.value_counts())\n",
        "plt.show()"
      ],
      "execution_count": 79,
      "outputs": [
        {
          "output_type": "display_data",
          "data": {
            "image/png": "[encoded data removed]",
            "text/plain": [
              "<Figure size 936x720 with 1 Axes>"
            ]
          },
          "metadata": {}
        }
      ]
    },
    {
      "cell_type": "markdown",
      "metadata": {
        "id": "p5gXHi_XLN79"
      },
      "source": [
        "## <b> Splitting data into train and test"
      ]
    },
    {
      "cell_type": "code",
      "metadata": {
        "colab": {
          "base_uri": "https://localhost:8080/"
        },
        "id": "BBn7EERU0aH9",
        "outputId": "af390626-648a-484c-c74b-c4719a2b3e8c"
      },
      "source": [
        "from sklearn.model_selection import train_test_split \n",
        "X_train, X_test, Y_train, Y_test = train_test_split( X,Y , test_size = 0.2, random_state = 0) \n",
        "print(X_train.shape)\n",
        "print(X_test.shape)"
      ],
      "execution_count": 80,
      "outputs": [
        {
          "output_type": "stream",
          "name": "stdout",
          "text": [
            "(1600, 20)\n",
            "(400, 20)\n"
          ]
        }
      ]
    },
    {
      "cell_type": "code",
      "metadata": {
        "colab": {
          "base_uri": "https://localhost:8080/"
        },
        "id": "oAuPZDvA4KJl",
        "outputId": "780acb6e-049d-4b7d-80ef-6b83544955dd"
      },
      "source": [
        "Y_train.value_counts()"
      ],
      "execution_count": 81,
      "outputs": [
        {
          "output_type": "execute_result",
          "data": {
            "text/plain": [
              "0    813\n",
              "1    787\n",
              "Name: modified_price_range, dtype: int64"
            ]
          },
          "metadata": {},
          "execution_count": 81
        }
      ]
    },
    {
      "cell_type": "code",
      "metadata": {
        "colab": {
          "base_uri": "https://localhost:8080/"
        },
        "id": "jQAcsnke4MzX",
        "outputId": "4d2eaacb-bbff-42d9-be73-bae145815771"
      },
      "source": [
        "Y_test.value_counts()"
      ],
      "execution_count": 82,
      "outputs": [
        {
          "output_type": "execute_result",
          "data": {
            "text/plain": [
              "1    213\n",
              "0    187\n",
              "Name: modified_price_range, dtype: int64"
            ]
          },
          "metadata": {},
          "execution_count": 82
        }
      ]
    },
    {
      "cell_type": "markdown",
      "metadata": {
        "id": "gOcduvK5LRzH"
      },
      "source": [
        "## <b>Fitting logistic regression on train data"
      ]
    },
    {
      "cell_type": "code",
      "metadata": {
        "colab": {
          "base_uri": "https://localhost:8080/"
        },
        "id": "Kya7fC3xHmeZ",
        "outputId": "939d0ed6-b282-4dec-bd9d-f0bf91e0866e"
      },
      "source": [
        "from sklearn.linear_model import LogisticRegression\n",
        "\n",
        "clf = LogisticRegression(fit_intercept=True, max_iter=10000)\n",
        "clf.fit(X_train, Y_train)"
      ],
      "execution_count": 83,
      "outputs": [
        {
          "output_type": "stream",
          "name": "stderr",
          "text": [
            "/usr/local/lib/python3.7/dist-packages/sklearn/linear_model/_logistic.py:818: ConvergenceWarning: lbfgs failed to converge (status=1):\n",
            "STOP: TOTAL NO. of ITERATIONS REACHED LIMIT.\n",
            "\n",
            "Increase the number of iterations (max_iter) or scale the data as shown in:\n",
            "    https://scikit-learn.org/stable/modules/preprocessing.html\n",
            "Please also refer to the documentation for alternative solver options:\n",
            "    https://scikit-learn.org/stable/modules/linear_model.html#logistic-regression\n",
            "  extra_warning_msg=_LOGISTIC_SOLVER_CONVERGENCE_MSG,\n"
          ]
        },
        {
          "output_type": "execute_result",
          "data": {
            "text/plain": [
              "LogisticRegression(max_iter=10000)"
            ]
          },
          "metadata": {},
          "execution_count": 83
        }
      ]
    },
    {
      "cell_type": "code",
      "metadata": {
        "colab": {
          "base_uri": "https://localhost:8080/"
        },
        "id": "pqZg8WvL0lMs",
        "outputId": "2c78b281-8756-4947-aa8b-3c66e99e56ab"
      },
      "source": [
        "# Get the model coefficients\n",
        "clf.coef_"
      ],
      "execution_count": 84,
      "outputs": [
        {
          "output_type": "execute_result",
          "data": {
            "text/plain": [
              "array([[ 0.01185293,  0.17831541, -0.07948231, -0.64318134, -0.00630727,\n",
              "         0.55654664,  0.0173359 , -1.67071044, -0.01977443,  0.20550911,\n",
              "         0.05880588,  0.00598098,  0.00730551,  0.01826105, -0.06752793,\n",
              "         0.0068233 , -0.0450334 , -2.18118929, -0.92383681, -0.96557705]])"
            ]
          },
          "metadata": {},
          "execution_count": 84
        }
      ]
    },
    {
      "cell_type": "code",
      "metadata": {
        "colab": {
          "base_uri": "https://localhost:8080/"
        },
        "id": "M3stKHpc6VFZ",
        "outputId": "6b72040a-c310-4f05-a659-939e562a96f3"
      },
      "source": [
        "clf.intercept_"
      ],
      "execution_count": 85,
      "outputs": [
        {
          "output_type": "execute_result",
          "data": {
            "text/plain": [
              "array([-60.71418998])"
            ]
          },
          "metadata": {},
          "execution_count": 85
        }
      ]
    },
    {
      "cell_type": "markdown",
      "metadata": {
        "id": "1PmvR90DLael"
      },
      "source": [
        "## <b>Evaluating the performance of the trained model"
      ]
    },
    {
      "cell_type": "code",
      "metadata": {
        "id": "7nFfOzPZ071w"
      },
      "source": [
        "# Get the predicted probabilities\n",
        "train_preds = clf.predict_proba(X_train)\n",
        "test_preds = clf.predict_proba(X_test)"
      ],
      "execution_count": 86,
      "outputs": []
    },
    {
      "cell_type": "code",
      "metadata": {
        "colab": {
          "base_uri": "https://localhost:8080/",
          "height": 439
        },
        "id": "uQkeeT8IHyjU",
        "outputId": "bc979bb0-2015-49a7-bc0e-571fd5b509bb"
      },
      "source": [
        "X_test"
      ],
      "execution_count": 87,
      "outputs": [
        {
          "output_type": "execute_result",
          "data": {
            "text/html": [
              "<div>\n",
              "<style scoped>\n",
              "    .dataframe tbody tr th:only-of-type {\n",
              "        vertical-align: middle;\n",
              "    }\n",
              "\n",
              "    .dataframe tbody tr th {\n",
              "        vertical-align: top;\n",
              "    }\n",
              "\n",
              "    .dataframe thead th {\n",
              "        text-align: right;\n",
              "    }\n",
              "</style>\n",
              "<table border=\"1\" class=\"dataframe\">\n",
              "  <thead>\n",
              "    <tr style=\"text-align: right;\">\n",
              "      <th></th>\n",
              "      <th>battery_power</th>\n",
              "      <th>blue</th>\n",
              "      <th>clock_speed</th>\n",
              "      <th>dual_sim</th>\n",
              "      <th>fc</th>\n",
              "      <th>four_g</th>\n",
              "      <th>int_memory</th>\n",
              "      <th>m_dep</th>\n",
              "      <th>mobile_wt</th>\n",
              "      <th>n_cores</th>\n",
              "      <th>pc</th>\n",
              "      <th>px_height</th>\n",
              "      <th>px_width</th>\n",
              "      <th>ram</th>\n",
              "      <th>sc_h</th>\n",
              "      <th>sc_w</th>\n",
              "      <th>talk_time</th>\n",
              "      <th>three_g</th>\n",
              "      <th>touch_screen</th>\n",
              "      <th>wifi</th>\n",
              "    </tr>\n",
              "  </thead>\n",
              "  <tbody>\n",
              "    <tr>\n",
              "      <th>405</th>\n",
              "      <td>1454</td>\n",
              "      <td>1</td>\n",
              "      <td>0.5</td>\n",
              "      <td>1</td>\n",
              "      <td>1</td>\n",
              "      <td>0</td>\n",
              "      <td>34</td>\n",
              "      <td>0.7</td>\n",
              "      <td>83</td>\n",
              "      <td>4</td>\n",
              "      <td>3</td>\n",
              "      <td>250</td>\n",
              "      <td>1033</td>\n",
              "      <td>3419</td>\n",
              "      <td>7</td>\n",
              "      <td>5</td>\n",
              "      <td>5</td>\n",
              "      <td>1</td>\n",
              "      <td>1</td>\n",
              "      <td>0</td>\n",
              "    </tr>\n",
              "    <tr>\n",
              "      <th>1190</th>\n",
              "      <td>1092</td>\n",
              "      <td>1</td>\n",
              "      <td>0.5</td>\n",
              "      <td>1</td>\n",
              "      <td>10</td>\n",
              "      <td>0</td>\n",
              "      <td>11</td>\n",
              "      <td>0.5</td>\n",
              "      <td>167</td>\n",
              "      <td>3</td>\n",
              "      <td>14</td>\n",
              "      <td>468</td>\n",
              "      <td>571</td>\n",
              "      <td>737</td>\n",
              "      <td>14</td>\n",
              "      <td>4</td>\n",
              "      <td>11</td>\n",
              "      <td>0</td>\n",
              "      <td>1</td>\n",
              "      <td>0</td>\n",
              "    </tr>\n",
              "    <tr>\n",
              "      <th>1132</th>\n",
              "      <td>1524</td>\n",
              "      <td>1</td>\n",
              "      <td>1.8</td>\n",
              "      <td>1</td>\n",
              "      <td>0</td>\n",
              "      <td>0</td>\n",
              "      <td>10</td>\n",
              "      <td>0.6</td>\n",
              "      <td>174</td>\n",
              "      <td>4</td>\n",
              "      <td>1</td>\n",
              "      <td>154</td>\n",
              "      <td>550</td>\n",
              "      <td>2678</td>\n",
              "      <td>16</td>\n",
              "      <td>5</td>\n",
              "      <td>13</td>\n",
              "      <td>1</td>\n",
              "      <td>0</td>\n",
              "      <td>1</td>\n",
              "    </tr>\n",
              "    <tr>\n",
              "      <th>731</th>\n",
              "      <td>1807</td>\n",
              "      <td>1</td>\n",
              "      <td>2.1</td>\n",
              "      <td>0</td>\n",
              "      <td>2</td>\n",
              "      <td>0</td>\n",
              "      <td>49</td>\n",
              "      <td>0.8</td>\n",
              "      <td>125</td>\n",
              "      <td>1</td>\n",
              "      <td>10</td>\n",
              "      <td>337</td>\n",
              "      <td>1384</td>\n",
              "      <td>1906</td>\n",
              "      <td>17</td>\n",
              "      <td>13</td>\n",
              "      <td>13</td>\n",
              "      <td>0</td>\n",
              "      <td>1</td>\n",
              "      <td>1</td>\n",
              "    </tr>\n",
              "    <tr>\n",
              "      <th>1754</th>\n",
              "      <td>1086</td>\n",
              "      <td>1</td>\n",
              "      <td>1.7</td>\n",
              "      <td>1</td>\n",
              "      <td>0</td>\n",
              "      <td>1</td>\n",
              "      <td>43</td>\n",
              "      <td>0.2</td>\n",
              "      <td>111</td>\n",
              "      <td>6</td>\n",
              "      <td>1</td>\n",
              "      <td>56</td>\n",
              "      <td>1150</td>\n",
              "      <td>3285</td>\n",
              "      <td>11</td>\n",
              "      <td>5</td>\n",
              "      <td>17</td>\n",
              "      <td>1</td>\n",
              "      <td>1</td>\n",
              "      <td>0</td>\n",
              "    </tr>\n",
              "    <tr>\n",
              "      <th>...</th>\n",
              "      <td>...</td>\n",
              "      <td>...</td>\n",
              "      <td>...</td>\n",
              "      <td>...</td>\n",
              "      <td>...</td>\n",
              "      <td>...</td>\n",
              "      <td>...</td>\n",
              "      <td>...</td>\n",
              "      <td>...</td>\n",
              "      <td>...</td>\n",
              "      <td>...</td>\n",
              "      <td>...</td>\n",
              "      <td>...</td>\n",
              "      <td>...</td>\n",
              "      <td>...</td>\n",
              "      <td>...</td>\n",
              "      <td>...</td>\n",
              "      <td>...</td>\n",
              "      <td>...</td>\n",
              "      <td>...</td>\n",
              "    </tr>\n",
              "    <tr>\n",
              "      <th>638</th>\n",
              "      <td>955</td>\n",
              "      <td>0</td>\n",
              "      <td>0.5</td>\n",
              "      <td>1</td>\n",
              "      <td>4</td>\n",
              "      <td>0</td>\n",
              "      <td>43</td>\n",
              "      <td>0.9</td>\n",
              "      <td>143</td>\n",
              "      <td>5</td>\n",
              "      <td>8</td>\n",
              "      <td>1248</td>\n",
              "      <td>1511</td>\n",
              "      <td>1432</td>\n",
              "      <td>12</td>\n",
              "      <td>9</td>\n",
              "      <td>9</td>\n",
              "      <td>1</td>\n",
              "      <td>1</td>\n",
              "      <td>1</td>\n",
              "    </tr>\n",
              "    <tr>\n",
              "      <th>360</th>\n",
              "      <td>809</td>\n",
              "      <td>0</td>\n",
              "      <td>0.8</td>\n",
              "      <td>0</td>\n",
              "      <td>10</td>\n",
              "      <td>0</td>\n",
              "      <td>21</td>\n",
              "      <td>0.9</td>\n",
              "      <td>91</td>\n",
              "      <td>7</td>\n",
              "      <td>19</td>\n",
              "      <td>1453</td>\n",
              "      <td>1726</td>\n",
              "      <td>1274</td>\n",
              "      <td>18</td>\n",
              "      <td>7</td>\n",
              "      <td>3</td>\n",
              "      <td>0</td>\n",
              "      <td>0</td>\n",
              "      <td>0</td>\n",
              "    </tr>\n",
              "    <tr>\n",
              "      <th>1810</th>\n",
              "      <td>594</td>\n",
              "      <td>1</td>\n",
              "      <td>2.6</td>\n",
              "      <td>0</td>\n",
              "      <td>1</td>\n",
              "      <td>0</td>\n",
              "      <td>27</td>\n",
              "      <td>0.1</td>\n",
              "      <td>196</td>\n",
              "      <td>5</td>\n",
              "      <td>2</td>\n",
              "      <td>407</td>\n",
              "      <td>528</td>\n",
              "      <td>708</td>\n",
              "      <td>17</td>\n",
              "      <td>5</td>\n",
              "      <td>17</td>\n",
              "      <td>0</td>\n",
              "      <td>1</td>\n",
              "      <td>1</td>\n",
              "    </tr>\n",
              "    <tr>\n",
              "      <th>1743</th>\n",
              "      <td>1673</td>\n",
              "      <td>1</td>\n",
              "      <td>1.6</td>\n",
              "      <td>0</td>\n",
              "      <td>2</td>\n",
              "      <td>0</td>\n",
              "      <td>42</td>\n",
              "      <td>0.5</td>\n",
              "      <td>182</td>\n",
              "      <td>5</td>\n",
              "      <td>6</td>\n",
              "      <td>214</td>\n",
              "      <td>679</td>\n",
              "      <td>3094</td>\n",
              "      <td>12</td>\n",
              "      <td>4</td>\n",
              "      <td>20</td>\n",
              "      <td>0</td>\n",
              "      <td>0</td>\n",
              "      <td>0</td>\n",
              "    </tr>\n",
              "    <tr>\n",
              "      <th>563</th>\n",
              "      <td>1290</td>\n",
              "      <td>0</td>\n",
              "      <td>0.5</td>\n",
              "      <td>0</td>\n",
              "      <td>0</td>\n",
              "      <td>0</td>\n",
              "      <td>3</td>\n",
              "      <td>0.1</td>\n",
              "      <td>143</td>\n",
              "      <td>6</td>\n",
              "      <td>4</td>\n",
              "      <td>600</td>\n",
              "      <td>1109</td>\n",
              "      <td>1214</td>\n",
              "      <td>9</td>\n",
              "      <td>8</td>\n",
              "      <td>15</td>\n",
              "      <td>0</td>\n",
              "      <td>1</td>\n",
              "      <td>1</td>\n",
              "    </tr>\n",
              "  </tbody>\n",
              "</table>\n",
              "<p>400 rows × 20 columns</p>\n",
              "</div>"
            ],
            "text/plain": [
              "      battery_power  blue  clock_speed  ...  three_g  touch_screen  wifi\n",
              "405            1454     1          0.5  ...        1             1     0\n",
              "1190           1092     1          0.5  ...        0             1     0\n",
              "1132           1524     1          1.8  ...        1             0     1\n",
              "731            1807     1          2.1  ...        0             1     1\n",
              "1754           1086     1          1.7  ...        1             1     0\n",
              "...             ...   ...          ...  ...      ...           ...   ...\n",
              "638             955     0          0.5  ...        1             1     1\n",
              "360             809     0          0.8  ...        0             0     0\n",
              "1810            594     1          2.6  ...        0             1     1\n",
              "1743           1673     1          1.6  ...        0             0     0\n",
              "563            1290     0          0.5  ...        0             1     1\n",
              "\n",
              "[400 rows x 20 columns]"
            ]
          },
          "metadata": {},
          "execution_count": 87
        }
      ]
    },
    {
      "cell_type": "code",
      "metadata": {
        "colab": {
          "base_uri": "https://localhost:8080/"
        },
        "id": "1d2zyxWc1ERa",
        "outputId": "09355502-d447-4572-a37f-7e1daa2acf79"
      },
      "source": [
        "test_preds"
      ],
      "execution_count": 88,
      "outputs": [
        {
          "output_type": "execute_result",
          "data": {
            "text/plain": [
              "array([[1.70249370e-10, 1.00000000e+00],\n",
              "       [1.00000000e+00, 5.95816591e-15],\n",
              "       [8.19280928e-02, 9.18071907e-01],\n",
              "       [1.26158975e-01, 8.73841025e-01],\n",
              "       [1.42006157e-07, 9.99999858e-01],\n",
              "       [1.00000000e+00, 2.58206911e-17],\n",
              "       [1.00000000e+00, 4.44005783e-14],\n",
              "       [3.44797968e-09, 9.99999997e-01],\n",
              "       [8.70152839e-11, 1.00000000e+00],\n",
              "       [9.99889212e-01, 1.10787906e-04],\n",
              "       [9.99999890e-01, 1.10035853e-07],\n",
              "       [1.83901783e-11, 1.00000000e+00],\n",
              "       [1.00000000e+00, 1.37900412e-10],\n",
              "       [1.98005918e-04, 9.99801994e-01],\n",
              "       [2.28150832e-12, 1.00000000e+00],\n",
              "       [1.00000000e+00, 1.10830002e-10],\n",
              "       [0.00000000e+00, 1.00000000e+00],\n",
              "       [1.58069933e-03, 9.98419301e-01],\n",
              "       [6.96613060e-02, 9.30338694e-01],\n",
              "       [9.99997362e-01, 2.63828686e-06],\n",
              "       [1.00000000e+00, 3.43590808e-12],\n",
              "       [1.00000000e+00, 9.41474520e-11],\n",
              "       [6.66133815e-16, 1.00000000e+00],\n",
              "       [9.99984883e-01, 1.51173128e-05],\n",
              "       [1.57144297e-01, 8.42855703e-01],\n",
              "       [3.66235933e-02, 9.63376407e-01],\n",
              "       [0.00000000e+00, 1.00000000e+00],\n",
              "       [9.99862668e-01, 1.37332280e-04],\n",
              "       [0.00000000e+00, 1.00000000e+00],\n",
              "       [9.99289861e-01, 7.10138612e-04],\n",
              "       [7.91386538e-01, 2.08613462e-01],\n",
              "       [9.99999999e-01, 5.05091159e-10],\n",
              "       [1.66316022e-01, 8.33683978e-01],\n",
              "       [9.99999982e-01, 1.75755097e-08],\n",
              "       [6.17962118e-01, 3.82037882e-01],\n",
              "       [0.00000000e+00, 1.00000000e+00],\n",
              "       [1.00000000e+00, 3.40550377e-18],\n",
              "       [1.00000000e+00, 5.27778432e-14],\n",
              "       [4.92939023e-14, 1.00000000e+00],\n",
              "       [1.77635684e-15, 1.00000000e+00],\n",
              "       [2.24782486e-07, 9.99999775e-01],\n",
              "       [7.08377947e-01, 2.91622053e-01],\n",
              "       [2.77555756e-14, 1.00000000e+00],\n",
              "       [1.39967009e-08, 9.99999986e-01],\n",
              "       [9.97140891e-01, 2.85910884e-03],\n",
              "       [0.00000000e+00, 1.00000000e+00],\n",
              "       [1.00000000e+00, 2.87150366e-16],\n",
              "       [9.93481199e-01, 6.51880089e-03],\n",
              "       [5.12750731e-10, 9.99999999e-01],\n",
              "       [9.99751427e-01, 2.48572515e-04],\n",
              "       [9.99878033e-01, 1.21967323e-04],\n",
              "       [6.57323307e-10, 9.99999999e-01],\n",
              "       [1.00000000e+00, 3.76991134e-11],\n",
              "       [1.52315494e-10, 1.00000000e+00],\n",
              "       [1.00000000e+00, 8.68702470e-18],\n",
              "       [2.58811981e-07, 9.99999741e-01],\n",
              "       [1.85010081e-06, 9.99998150e-01],\n",
              "       [1.16137163e-01, 8.83862837e-01],\n",
              "       [1.00000000e+00, 1.34191815e-15],\n",
              "       [2.77373347e-09, 9.99999997e-01],\n",
              "       [9.46807743e-10, 9.99999999e-01],\n",
              "       [9.95697333e-01, 4.30266725e-03],\n",
              "       [2.09483655e-08, 9.99999979e-01],\n",
              "       [2.87286638e-02, 9.71271336e-01],\n",
              "       [9.99559085e-01, 4.40914988e-04],\n",
              "       [4.00490987e-08, 9.99999960e-01],\n",
              "       [1.23447919e-11, 1.00000000e+00],\n",
              "       [1.29366591e-06, 9.99998706e-01],\n",
              "       [8.22352723e-03, 9.91776473e-01],\n",
              "       [1.24282738e-02, 9.87571726e-01],\n",
              "       [4.88498131e-15, 1.00000000e+00],\n",
              "       [6.94473977e-03, 9.93055260e-01],\n",
              "       [9.99647394e-01, 3.52606099e-04],\n",
              "       [1.00000000e+00, 1.02356827e-12],\n",
              "       [9.99994646e-01, 5.35446522e-06],\n",
              "       [2.72226686e-13, 1.00000000e+00],\n",
              "       [5.83502381e-05, 9.99941650e-01],\n",
              "       [8.30619016e-03, 9.91693810e-01],\n",
              "       [8.45382181e-01, 1.54617819e-01],\n",
              "       [1.62695952e-02, 9.83730405e-01],\n",
              "       [4.59632332e-13, 1.00000000e+00],\n",
              "       [2.03175254e-11, 1.00000000e+00],\n",
              "       [8.59068372e-12, 1.00000000e+00],\n",
              "       [1.00000000e+00, 3.87540888e-12],\n",
              "       [1.00000000e+00, 8.47097564e-12],\n",
              "       [1.00000000e+00, 3.48884535e-15],\n",
              "       [1.58813469e-01, 8.41186531e-01],\n",
              "       [9.99994395e-01, 5.60497500e-06],\n",
              "       [7.76684012e-04, 9.99223316e-01],\n",
              "       [2.22044605e-16, 1.00000000e+00],\n",
              "       [9.99568751e-01, 4.31249481e-04],\n",
              "       [1.07930966e-07, 9.99999892e-01],\n",
              "       [4.45378959e-07, 9.99999555e-01],\n",
              "       [9.99999862e-01, 1.38078527e-07],\n",
              "       [1.00000000e+00, 4.59171313e-12],\n",
              "       [1.67288580e-08, 9.99999983e-01],\n",
              "       [1.80299486e-09, 9.99999998e-01],\n",
              "       [3.96149780e-12, 1.00000000e+00],\n",
              "       [1.00000000e+00, 1.61601126e-11],\n",
              "       [2.24931185e-13, 1.00000000e+00],\n",
              "       [9.78747745e-01, 2.12522554e-02],\n",
              "       [9.71159563e-01, 2.88404370e-02],\n",
              "       [1.55462226e-07, 9.99999845e-01],\n",
              "       [5.90097930e-01, 4.09902070e-01],\n",
              "       [7.70494779e-14, 1.00000000e+00],\n",
              "       [5.11718418e-04, 9.99488282e-01],\n",
              "       [1.74849940e-06, 9.99998252e-01],\n",
              "       [9.32578237e-10, 9.99999999e-01],\n",
              "       [2.03844571e-02, 9.79615543e-01],\n",
              "       [0.00000000e+00, 1.00000000e+00],\n",
              "       [5.21409804e-10, 9.99999999e-01],\n",
              "       [1.00000000e+00, 3.33079940e-13],\n",
              "       [1.00000000e+00, 1.78757462e-10],\n",
              "       [9.98668940e-01, 1.33105989e-03],\n",
              "       [2.04753638e-08, 9.99999980e-01],\n",
              "       [1.48700341e-09, 9.99999999e-01],\n",
              "       [1.00000000e+00, 1.31286163e-12],\n",
              "       [9.99999994e-01, 6.01105632e-09],\n",
              "       [9.99999716e-01, 2.83778722e-07],\n",
              "       [1.00000000e+00, 3.07257697e-15],\n",
              "       [1.00000000e+00, 5.40928365e-11],\n",
              "       [7.43545225e-11, 1.00000000e+00],\n",
              "       [6.99102031e-05, 9.99930090e-01],\n",
              "       [1.48770317e-03, 9.98512297e-01],\n",
              "       [9.99725012e-01, 2.74988235e-04],\n",
              "       [7.37795705e-01, 2.62204295e-01],\n",
              "       [9.99970382e-01, 2.96184741e-05],\n",
              "       [9.99965449e-01, 3.45514894e-05],\n",
              "       [1.00000000e+00, 8.15661295e-15],\n",
              "       [7.22595527e-03, 9.92774045e-01],\n",
              "       [9.99865637e-01, 1.34363004e-04],\n",
              "       [2.60680366e-13, 1.00000000e+00],\n",
              "       [4.12852869e-08, 9.99999959e-01],\n",
              "       [2.85327317e-13, 1.00000000e+00],\n",
              "       [2.22044605e-16, 1.00000000e+00],\n",
              "       [6.53921362e-13, 1.00000000e+00],\n",
              "       [4.44089210e-16, 1.00000000e+00],\n",
              "       [2.59168690e-03, 9.97408313e-01],\n",
              "       [1.00000000e+00, 1.13313570e-14],\n",
              "       [9.99999599e-01, 4.01349848e-07],\n",
              "       [9.99994726e-01, 5.27413407e-06],\n",
              "       [1.98089412e-04, 9.99801911e-01],\n",
              "       [9.97411911e-01, 2.58808898e-03],\n",
              "       [7.83817455e-14, 1.00000000e+00],\n",
              "       [9.99999224e-01, 7.75716615e-07],\n",
              "       [2.38475906e-13, 1.00000000e+00],\n",
              "       [1.00000000e+00, 2.65175410e-15],\n",
              "       [1.00000000e+00, 2.55010418e-15],\n",
              "       [2.63572046e-01, 7.36427954e-01],\n",
              "       [1.00000000e+00, 1.18765643e-15],\n",
              "       [9.67330087e-01, 3.26699128e-02],\n",
              "       [9.99994604e-01, 5.39587637e-06],\n",
              "       [9.92748648e-01, 7.25135152e-03],\n",
              "       [9.99815576e-01, 1.84424500e-04],\n",
              "       [0.00000000e+00, 1.00000000e+00],\n",
              "       [9.99999894e-01, 1.05549129e-07],\n",
              "       [9.99999996e-01, 4.00289300e-09],\n",
              "       [4.59632332e-14, 1.00000000e+00],\n",
              "       [9.87469874e-01, 1.25301256e-02],\n",
              "       [4.44089210e-16, 1.00000000e+00],\n",
              "       [4.23139919e-03, 9.95768601e-01],\n",
              "       [9.95204736e-01, 4.79526359e-03],\n",
              "       [6.32788932e-10, 9.99999999e-01],\n",
              "       [9.94579879e-01, 5.42012101e-03],\n",
              "       [3.36665950e-05, 9.99966333e-01],\n",
              "       [0.00000000e+00, 1.00000000e+00],\n",
              "       [1.99840144e-15, 1.00000000e+00],\n",
              "       [8.80807826e-07, 9.99999119e-01],\n",
              "       [9.99550031e-01, 4.49968504e-04],\n",
              "       [1.00000000e+00, 1.05378445e-13],\n",
              "       [0.00000000e+00, 1.00000000e+00],\n",
              "       [5.17826823e-01, 4.82173177e-01],\n",
              "       [3.09231880e-01, 6.90768120e-01],\n",
              "       [4.63091787e-11, 1.00000000e+00],\n",
              "       [0.00000000e+00, 1.00000000e+00],\n",
              "       [1.00000000e+00, 1.41178037e-10],\n",
              "       [1.53810334e-01, 8.46189666e-01],\n",
              "       [1.89808705e-04, 9.99810191e-01],\n",
              "       [0.00000000e+00, 1.00000000e+00],\n",
              "       [9.99999988e-01, 1.18093713e-08],\n",
              "       [4.43342675e-07, 9.99999557e-01],\n",
              "       [9.99996385e-01, 3.61495726e-06],\n",
              "       [1.00000000e+00, 4.84790303e-11],\n",
              "       [9.68190775e-01, 3.18092249e-02],\n",
              "       [1.55191410e-06, 9.99998448e-01],\n",
              "       [7.01301674e-01, 2.98698326e-01],\n",
              "       [7.47098070e-04, 9.99252902e-01],\n",
              "       [1.00000000e+00, 4.79474322e-13],\n",
              "       [1.31098643e-09, 9.99999999e-01],\n",
              "       [3.91215949e-10, 1.00000000e+00],\n",
              "       [9.12767920e-01, 8.72320802e-02],\n",
              "       [9.99872658e-01, 1.27342153e-04],\n",
              "       [9.99999979e-01, 2.08063552e-08],\n",
              "       [5.42306800e-06, 9.99994577e-01],\n",
              "       [6.74959527e-08, 9.99999933e-01],\n",
              "       [1.00000000e+00, 5.41065556e-14],\n",
              "       [9.99997304e-01, 2.69610016e-06],\n",
              "       [1.31716127e-08, 9.99999987e-01],\n",
              "       [4.28228660e-03, 9.95717713e-01],\n",
              "       [1.00000000e+00, 8.26639724e-12],\n",
              "       [0.00000000e+00, 1.00000000e+00],\n",
              "       [2.22044605e-16, 1.00000000e+00],\n",
              "       [1.64211560e-07, 9.99999836e-01],\n",
              "       [9.86712793e-01, 1.32872073e-02],\n",
              "       [4.66240138e-03, 9.95337599e-01],\n",
              "       [1.64541714e-11, 1.00000000e+00],\n",
              "       [4.75553441e-09, 9.99999995e-01],\n",
              "       [2.27644570e-11, 1.00000000e+00],\n",
              "       [1.00000000e+00, 4.01909047e-10],\n",
              "       [1.00000000e+00, 3.27882672e-12],\n",
              "       [1.00000000e+00, 9.50561559e-17],\n",
              "       [9.19056768e-05, 9.99908094e-01],\n",
              "       [2.24742891e-10, 1.00000000e+00],\n",
              "       [9.42845801e-12, 1.00000000e+00],\n",
              "       [1.00000000e+00, 2.19191865e-17],\n",
              "       [1.00000000e+00, 1.48727477e-14],\n",
              "       [9.99999014e-01, 9.85583717e-07],\n",
              "       [1.60800262e-11, 1.00000000e+00],\n",
              "       [7.97983468e-02, 9.20201653e-01],\n",
              "       [2.22044605e-16, 1.00000000e+00],\n",
              "       [1.69044556e-10, 1.00000000e+00],\n",
              "       [7.06101844e-14, 1.00000000e+00],\n",
              "       [1.00000000e+00, 1.56295346e-11],\n",
              "       [1.00000000e+00, 1.40971826e-13],\n",
              "       [7.07481707e-07, 9.99999293e-01],\n",
              "       [2.82218299e-08, 9.99999972e-01],\n",
              "       [9.61813296e-10, 9.99999999e-01],\n",
              "       [5.65863981e-01, 4.34136019e-01],\n",
              "       [1.00000000e+00, 1.67699032e-11],\n",
              "       [1.98133866e-03, 9.98018661e-01],\n",
              "       [1.00000000e+00, 1.30527045e-11],\n",
              "       [1.00000000e+00, 1.13101083e-12],\n",
              "       [1.00000000e+00, 2.29597160e-15],\n",
              "       [2.22044605e-16, 1.00000000e+00],\n",
              "       [1.88056184e-07, 9.99999812e-01],\n",
              "       [9.99999952e-01, 4.81734313e-08],\n",
              "       [2.43166156e-03, 9.97568338e-01],\n",
              "       [6.28878400e-04, 9.99371122e-01],\n",
              "       [9.99999083e-01, 9.16619395e-07],\n",
              "       [9.99998416e-01, 1.58365070e-06],\n",
              "       [1.00000000e+00, 1.66433796e-10],\n",
              "       [1.11230913e-06, 9.99998888e-01],\n",
              "       [4.21884749e-15, 1.00000000e+00],\n",
              "       [1.18904886e-12, 1.00000000e+00],\n",
              "       [1.00000000e+00, 2.13019525e-11],\n",
              "       [1.00000000e+00, 1.21200957e-16],\n",
              "       [9.99522451e-01, 4.77549192e-04],\n",
              "       [2.03907113e-10, 1.00000000e+00],\n",
              "       [1.56916036e-10, 1.00000000e+00],\n",
              "       [5.32550661e-01, 4.67449339e-01],\n",
              "       [1.20037313e-12, 1.00000000e+00],\n",
              "       [1.00000000e+00, 8.74980405e-13],\n",
              "       [0.00000000e+00, 1.00000000e+00],\n",
              "       [9.99999859e-01, 1.40954222e-07],\n",
              "       [9.99999313e-01, 6.86776083e-07],\n",
              "       [1.00000000e+00, 4.45174284e-18],\n",
              "       [1.21479460e-03, 9.98785205e-01],\n",
              "       [1.34359190e-12, 1.00000000e+00],\n",
              "       [4.52304194e-10, 1.00000000e+00],\n",
              "       [1.02515409e-04, 9.99897485e-01],\n",
              "       [9.99999996e-01, 4.30124463e-09],\n",
              "       [1.00000000e+00, 1.27257440e-14],\n",
              "       [9.99829370e-01, 1.70630165e-04],\n",
              "       [1.72641774e-05, 9.99982736e-01],\n",
              "       [0.00000000e+00, 1.00000000e+00],\n",
              "       [2.19133179e-03, 9.97808668e-01],\n",
              "       [6.54602058e-02, 9.34539794e-01],\n",
              "       [7.86926080e-13, 1.00000000e+00],\n",
              "       [7.39493185e-01, 2.60506815e-01],\n",
              "       [9.80547660e-01, 1.94523403e-02],\n",
              "       [9.99999997e-01, 3.23854909e-09],\n",
              "       [8.24229573e-13, 1.00000000e+00],\n",
              "       [5.18414756e-09, 9.99999995e-01],\n",
              "       [3.52743699e-03, 9.96472563e-01],\n",
              "       [9.66353714e-01, 3.36462861e-02],\n",
              "       [5.55111512e-15, 1.00000000e+00],\n",
              "       [1.40093178e-07, 9.99999860e-01],\n",
              "       [3.35929994e-04, 9.99664070e-01],\n",
              "       [4.44656917e-04, 9.99555343e-01],\n",
              "       [9.99436285e-01, 5.63714648e-04],\n",
              "       [1.00000000e+00, 3.54667657e-15],\n",
              "       [1.88663781e-02, 9.81133622e-01],\n",
              "       [2.84317784e-01, 7.15682216e-01],\n",
              "       [7.36629579e-01, 2.63370421e-01],\n",
              "       [1.00000000e+00, 9.93821762e-11],\n",
              "       [1.00000000e+00, 5.83879766e-16],\n",
              "       [1.83739067e-06, 9.99998163e-01],\n",
              "       [1.39653188e-02, 9.86034681e-01],\n",
              "       [8.97140209e-03, 9.91028598e-01],\n",
              "       [1.19092380e-07, 9.99999881e-01],\n",
              "       [1.00000000e+00, 6.48091258e-18],\n",
              "       [9.99661634e-01, 3.38366114e-04],\n",
              "       [2.70729883e-10, 1.00000000e+00],\n",
              "       [1.00000000e+00, 4.26291436e-16],\n",
              "       [1.24995746e-01, 8.75004254e-01],\n",
              "       [3.12557081e-06, 9.99996874e-01],\n",
              "       [9.62940838e-12, 1.00000000e+00],\n",
              "       [1.00000000e+00, 6.63673644e-11],\n",
              "       [6.15606884e-02, 9.38439312e-01],\n",
              "       [1.00000000e+00, 9.65234453e-16],\n",
              "       [9.99995354e-01, 4.64594212e-06],\n",
              "       [4.15050720e-01, 5.84949280e-01],\n",
              "       [0.00000000e+00, 1.00000000e+00],\n",
              "       [1.00000000e+00, 2.63101258e-12],\n",
              "       [1.00000000e+00, 3.41408035e-14],\n",
              "       [6.43919051e-01, 3.56080949e-01],\n",
              "       [9.63007452e-13, 1.00000000e+00],\n",
              "       [9.99998864e-01, 1.13568032e-06],\n",
              "       [1.01892336e-03, 9.98981077e-01],\n",
              "       [1.00000000e+00, 9.55381455e-12],\n",
              "       [7.45358117e-01, 2.54641883e-01],\n",
              "       [9.99999996e-01, 3.64418151e-09],\n",
              "       [1.13908882e-13, 1.00000000e+00],\n",
              "       [9.99999988e-01, 1.17086070e-08],\n",
              "       [2.18380869e-12, 1.00000000e+00],\n",
              "       [4.91695573e-12, 1.00000000e+00],\n",
              "       [9.30854720e-07, 9.99999069e-01],\n",
              "       [1.78528200e-08, 9.99999982e-01],\n",
              "       [9.99999649e-01, 3.50700105e-07],\n",
              "       [8.04476134e-04, 9.99195524e-01],\n",
              "       [2.54056958e-06, 9.99997459e-01],\n",
              "       [9.99999792e-01, 2.07865549e-07],\n",
              "       [9.99876027e-01, 1.23973327e-04],\n",
              "       [9.51727815e-02, 9.04827218e-01],\n",
              "       [1.00000000e+00, 6.61813988e-13],\n",
              "       [9.91753608e-01, 8.24639155e-03],\n",
              "       [1.00000000e+00, 4.11353625e-12],\n",
              "       [7.36173789e-10, 9.99999999e-01],\n",
              "       [9.99683932e-01, 3.16068497e-04],\n",
              "       [9.99999999e-01, 1.12920981e-09],\n",
              "       [2.92599056e-10, 1.00000000e+00],\n",
              "       [9.99999954e-01, 4.58382822e-08],\n",
              "       [9.99999999e-01, 8.62581484e-10],\n",
              "       [9.99999983e-01, 1.72586520e-08],\n",
              "       [1.16486998e-09, 9.99999999e-01],\n",
              "       [1.00000000e+00, 5.08835215e-21],\n",
              "       [4.66293670e-15, 1.00000000e+00],\n",
              "       [9.95577621e-01, 4.42237853e-03],\n",
              "       [8.28013401e-01, 1.71986599e-01],\n",
              "       [1.00000000e+00, 3.92833951e-16],\n",
              "       [8.29748888e-01, 1.70251112e-01],\n",
              "       [2.23804664e-09, 9.99999998e-01],\n",
              "       [1.00000000e+00, 2.74638189e-16],\n",
              "       [1.00300163e-01, 8.99699837e-01],\n",
              "       [4.18591733e-01, 5.81408267e-01],\n",
              "       [9.99997741e-01, 2.25906921e-06],\n",
              "       [1.32081660e-01, 8.67918340e-01],\n",
              "       [9.14845936e-01, 8.51540636e-02],\n",
              "       [9.89697598e-01, 1.03024018e-02],\n",
              "       [1.00000000e+00, 1.10418617e-12],\n",
              "       [1.53637439e-05, 9.99984636e-01],\n",
              "       [1.00000000e+00, 5.43794333e-16],\n",
              "       [9.99999922e-01, 7.81415905e-08],\n",
              "       [0.00000000e+00, 1.00000000e+00],\n",
              "       [9.88381292e-01, 1.16187082e-02],\n",
              "       [4.33503064e-07, 9.99999566e-01],\n",
              "       [0.00000000e+00, 1.00000000e+00],\n",
              "       [1.23312338e-04, 9.99876688e-01],\n",
              "       [2.49270994e-06, 9.99997507e-01],\n",
              "       [1.00000000e+00, 2.05890703e-12],\n",
              "       [2.06501483e-13, 1.00000000e+00],\n",
              "       [8.65126391e-05, 9.99913487e-01],\n",
              "       [5.26319232e-01, 4.73680768e-01],\n",
              "       [9.88622998e-01, 1.13770022e-02],\n",
              "       [5.86901061e-09, 9.99999994e-01],\n",
              "       [3.54667668e-06, 9.99996453e-01],\n",
              "       [2.66453526e-14, 1.00000000e+00],\n",
              "       [0.00000000e+00, 1.00000000e+00],\n",
              "       [1.77635684e-15, 1.00000000e+00],\n",
              "       [1.00000000e+00, 1.47029897e-14],\n",
              "       [1.74869003e-06, 9.99998251e-01],\n",
              "       [1.00000000e+00, 9.87023067e-11],\n",
              "       [8.48273229e-10, 9.99999999e-01],\n",
              "       [1.00000000e+00, 5.49855846e-14],\n",
              "       [9.99977700e-01, 2.22997508e-05],\n",
              "       [9.99848808e-01, 1.51192105e-04],\n",
              "       [4.21405299e-01, 5.78594701e-01],\n",
              "       [1.36554232e-07, 9.99999863e-01],\n",
              "       [9.83320639e-01, 1.66793607e-02],\n",
              "       [4.99267827e-09, 9.99999995e-01],\n",
              "       [9.99281643e-01, 7.18356870e-04],\n",
              "       [5.71236723e-03, 9.94287633e-01],\n",
              "       [9.99999994e-01, 5.60690987e-09],\n",
              "       [9.99569795e-01, 4.30205278e-04],\n",
              "       [1.63609808e-05, 9.99983639e-01],\n",
              "       [5.85394148e-08, 9.99999941e-01],\n",
              "       [1.00000000e+00, 1.22232425e-10],\n",
              "       [9.99999994e-01, 5.64848409e-09],\n",
              "       [9.99998368e-01, 1.63217293e-06],\n",
              "       [0.00000000e+00, 1.00000000e+00],\n",
              "       [1.00000000e+00, 1.60553541e-13],\n",
              "       [2.01422417e-08, 9.99999980e-01],\n",
              "       [1.00000000e+00, 7.20551054e-15],\n",
              "       [7.62213064e-02, 9.23778694e-01],\n",
              "       [1.60693347e-05, 9.99983931e-01],\n",
              "       [9.99997135e-01, 2.86523782e-06],\n",
              "       [9.99769170e-01, 2.30829749e-04],\n",
              "       [1.00000000e+00, 2.13882283e-18],\n",
              "       [1.70889337e-08, 9.99999983e-01],\n",
              "       [9.99999908e-01, 9.24177631e-08]])"
            ]
          },
          "metadata": {},
          "execution_count": 88
        }
      ]
    },
    {
      "cell_type": "code",
      "metadata": {
        "id": "Co67r98QGUV4"
      },
      "source": [
        "train_preds = clf.predict_proba(X_train)[:,1]\n",
        "test_preds = clf.predict_proba(X_test)[:,1]"
      ],
      "execution_count": 89,
      "outputs": []
    },
    {
      "cell_type": "code",
      "metadata": {
        "id": "f-UsMj5UGzbt",
        "colab": {
          "base_uri": "https://localhost:8080/"
        },
        "outputId": "18860b96-294e-4af5-a7cd-0e13ce238dc1"
      },
      "source": [
        "test_preds"
      ],
      "execution_count": 90,
      "outputs": [
        {
          "output_type": "execute_result",
          "data": {
            "text/plain": [
              "array([1.00000000e+00, 5.95816591e-15, 9.18071907e-01, 8.73841025e-01,\n",
              "       9.99999858e-01, 2.58206911e-17, 4.44005783e-14, 9.99999997e-01,\n",
              "       1.00000000e+00, 1.10787906e-04, 1.10035853e-07, 1.00000000e+00,\n",
              "       1.37900412e-10, 9.99801994e-01, 1.00000000e+00, 1.10830002e-10,\n",
              "       1.00000000e+00, 9.98419301e-01, 9.30338694e-01, 2.63828686e-06,\n",
              "       3.43590808e-12, 9.41474520e-11, 1.00000000e+00, 1.51173128e-05,\n",
              "       8.42855703e-01, 9.63376407e-01, 1.00000000e+00, 1.37332280e-04,\n",
              "       1.00000000e+00, 7.10138612e-04, 2.08613462e-01, 5.05091159e-10,\n",
              "       8.33683978e-01, 1.75755097e-08, 3.82037882e-01, 1.00000000e+00,\n",
              "       3.40550377e-18, 5.27778432e-14, 1.00000000e+00, 1.00000000e+00,\n",
              "       9.99999775e-01, 2.91622053e-01, 1.00000000e+00, 9.99999986e-01,\n",
              "       2.85910884e-03, 1.00000000e+00, 2.87150366e-16, 6.51880089e-03,\n",
              "       9.99999999e-01, 2.48572515e-04, 1.21967323e-04, 9.99999999e-01,\n",
              "       3.76991134e-11, 1.00000000e+00, 8.68702470e-18, 9.99999741e-01,\n",
              "       9.99998150e-01, 8.83862837e-01, 1.34191815e-15, 9.99999997e-01,\n",
              "       9.99999999e-01, 4.30266725e-03, 9.99999979e-01, 9.71271336e-01,\n",
              "       4.40914988e-04, 9.99999960e-01, 1.00000000e+00, 9.99998706e-01,\n",
              "       9.91776473e-01, 9.87571726e-01, 1.00000000e+00, 9.93055260e-01,\n",
              "       3.52606099e-04, 1.02356827e-12, 5.35446522e-06, 1.00000000e+00,\n",
              "       9.99941650e-01, 9.91693810e-01, 1.54617819e-01, 9.83730405e-01,\n",
              "       1.00000000e+00, 1.00000000e+00, 1.00000000e+00, 3.87540888e-12,\n",
              "       8.47097564e-12, 3.48884535e-15, 8.41186531e-01, 5.60497500e-06,\n",
              "       9.99223316e-01, 1.00000000e+00, 4.31249481e-04, 9.99999892e-01,\n",
              "       9.99999555e-01, 1.38078527e-07, 4.59171313e-12, 9.99999983e-01,\n",
              "       9.99999998e-01, 1.00000000e+00, 1.61601126e-11, 1.00000000e+00,\n",
              "       2.12522554e-02, 2.88404370e-02, 9.99999845e-01, 4.09902070e-01,\n",
              "       1.00000000e+00, 9.99488282e-01, 9.99998252e-01, 9.99999999e-01,\n",
              "       9.79615543e-01, 1.00000000e+00, 9.99999999e-01, 3.33079940e-13,\n",
              "       1.78757462e-10, 1.33105989e-03, 9.99999980e-01, 9.99999999e-01,\n",
              "       1.31286163e-12, 6.01105632e-09, 2.83778722e-07, 3.07257697e-15,\n",
              "       5.40928365e-11, 1.00000000e+00, 9.99930090e-01, 9.98512297e-01,\n",
              "       2.74988235e-04, 2.62204295e-01, 2.96184741e-05, 3.45514894e-05,\n",
              "       8.15661295e-15, 9.92774045e-01, 1.34363004e-04, 1.00000000e+00,\n",
              "       9.99999959e-01, 1.00000000e+00, 1.00000000e+00, 1.00000000e+00,\n",
              "       1.00000000e+00, 9.97408313e-01, 1.13313570e-14, 4.01349848e-07,\n",
              "       5.27413407e-06, 9.99801911e-01, 2.58808898e-03, 1.00000000e+00,\n",
              "       7.75716615e-07, 1.00000000e+00, 2.65175410e-15, 2.55010418e-15,\n",
              "       7.36427954e-01, 1.18765643e-15, 3.26699128e-02, 5.39587637e-06,\n",
              "       7.25135152e-03, 1.84424500e-04, 1.00000000e+00, 1.05549129e-07,\n",
              "       4.00289300e-09, 1.00000000e+00, 1.25301256e-02, 1.00000000e+00,\n",
              "       9.95768601e-01, 4.79526359e-03, 9.99999999e-01, 5.42012101e-03,\n",
              "       9.99966333e-01, 1.00000000e+00, 1.00000000e+00, 9.99999119e-01,\n",
              "       4.49968504e-04, 1.05378445e-13, 1.00000000e+00, 4.82173177e-01,\n",
              "       6.90768120e-01, 1.00000000e+00, 1.00000000e+00, 1.41178037e-10,\n",
              "       8.46189666e-01, 9.99810191e-01, 1.00000000e+00, 1.18093713e-08,\n",
              "       9.99999557e-01, 3.61495726e-06, 4.84790303e-11, 3.18092249e-02,\n",
              "       9.99998448e-01, 2.98698326e-01, 9.99252902e-01, 4.79474322e-13,\n",
              "       9.99999999e-01, 1.00000000e+00, 8.72320802e-02, 1.27342153e-04,\n",
              "       2.08063552e-08, 9.99994577e-01, 9.99999933e-01, 5.41065556e-14,\n",
              "       2.69610016e-06, 9.99999987e-01, 9.95717713e-01, 8.26639724e-12,\n",
              "       1.00000000e+00, 1.00000000e+00, 9.99999836e-01, 1.32872073e-02,\n",
              "       9.95337599e-01, 1.00000000e+00, 9.99999995e-01, 1.00000000e+00,\n",
              "       4.01909047e-10, 3.27882672e-12, 9.50561559e-17, 9.99908094e-01,\n",
              "       1.00000000e+00, 1.00000000e+00, 2.19191865e-17, 1.48727477e-14,\n",
              "       9.85583717e-07, 1.00000000e+00, 9.20201653e-01, 1.00000000e+00,\n",
              "       1.00000000e+00, 1.00000000e+00, 1.56295346e-11, 1.40971826e-13,\n",
              "       9.99999293e-01, 9.99999972e-01, 9.99999999e-01, 4.34136019e-01,\n",
              "       1.67699032e-11, 9.98018661e-01, 1.30527045e-11, 1.13101083e-12,\n",
              "       2.29597160e-15, 1.00000000e+00, 9.99999812e-01, 4.81734313e-08,\n",
              "       9.97568338e-01, 9.99371122e-01, 9.16619395e-07, 1.58365070e-06,\n",
              "       1.66433796e-10, 9.99998888e-01, 1.00000000e+00, 1.00000000e+00,\n",
              "       2.13019525e-11, 1.21200957e-16, 4.77549192e-04, 1.00000000e+00,\n",
              "       1.00000000e+00, 4.67449339e-01, 1.00000000e+00, 8.74980405e-13,\n",
              "       1.00000000e+00, 1.40954222e-07, 6.86776083e-07, 4.45174284e-18,\n",
              "       9.98785205e-01, 1.00000000e+00, 1.00000000e+00, 9.99897485e-01,\n",
              "       4.30124463e-09, 1.27257440e-14, 1.70630165e-04, 9.99982736e-01,\n",
              "       1.00000000e+00, 9.97808668e-01, 9.34539794e-01, 1.00000000e+00,\n",
              "       2.60506815e-01, 1.94523403e-02, 3.23854909e-09, 1.00000000e+00,\n",
              "       9.99999995e-01, 9.96472563e-01, 3.36462861e-02, 1.00000000e+00,\n",
              "       9.99999860e-01, 9.99664070e-01, 9.99555343e-01, 5.63714648e-04,\n",
              "       3.54667657e-15, 9.81133622e-01, 7.15682216e-01, 2.63370421e-01,\n",
              "       9.93821762e-11, 5.83879766e-16, 9.99998163e-01, 9.86034681e-01,\n",
              "       9.91028598e-01, 9.99999881e-01, 6.48091258e-18, 3.38366114e-04,\n",
              "       1.00000000e+00, 4.26291436e-16, 8.75004254e-01, 9.99996874e-01,\n",
              "       1.00000000e+00, 6.63673644e-11, 9.38439312e-01, 9.65234453e-16,\n",
              "       4.64594212e-06, 5.84949280e-01, 1.00000000e+00, 2.63101258e-12,\n",
              "       3.41408035e-14, 3.56080949e-01, 1.00000000e+00, 1.13568032e-06,\n",
              "       9.98981077e-01, 9.55381455e-12, 2.54641883e-01, 3.64418151e-09,\n",
              "       1.00000000e+00, 1.17086070e-08, 1.00000000e+00, 1.00000000e+00,\n",
              "       9.99999069e-01, 9.99999982e-01, 3.50700105e-07, 9.99195524e-01,\n",
              "       9.99997459e-01, 2.07865549e-07, 1.23973327e-04, 9.04827218e-01,\n",
              "       6.61813988e-13, 8.24639155e-03, 4.11353625e-12, 9.99999999e-01,\n",
              "       3.16068497e-04, 1.12920981e-09, 1.00000000e+00, 4.58382822e-08,\n",
              "       8.62581484e-10, 1.72586520e-08, 9.99999999e-01, 5.08835215e-21,\n",
              "       1.00000000e+00, 4.42237853e-03, 1.71986599e-01, 3.92833951e-16,\n",
              "       1.70251112e-01, 9.99999998e-01, 2.74638189e-16, 8.99699837e-01,\n",
              "       5.81408267e-01, 2.25906921e-06, 8.67918340e-01, 8.51540636e-02,\n",
              "       1.03024018e-02, 1.10418617e-12, 9.99984636e-01, 5.43794333e-16,\n",
              "       7.81415905e-08, 1.00000000e+00, 1.16187082e-02, 9.99999566e-01,\n",
              "       1.00000000e+00, 9.99876688e-01, 9.99997507e-01, 2.05890703e-12,\n",
              "       1.00000000e+00, 9.99913487e-01, 4.73680768e-01, 1.13770022e-02,\n",
              "       9.99999994e-01, 9.99996453e-01, 1.00000000e+00, 1.00000000e+00,\n",
              "       1.00000000e+00, 1.47029897e-14, 9.99998251e-01, 9.87023067e-11,\n",
              "       9.99999999e-01, 5.49855846e-14, 2.22997508e-05, 1.51192105e-04,\n",
              "       5.78594701e-01, 9.99999863e-01, 1.66793607e-02, 9.99999995e-01,\n",
              "       7.18356870e-04, 9.94287633e-01, 5.60690987e-09, 4.30205278e-04,\n",
              "       9.99983639e-01, 9.99999941e-01, 1.22232425e-10, 5.64848409e-09,\n",
              "       1.63217293e-06, 1.00000000e+00, 1.60553541e-13, 9.99999980e-01,\n",
              "       7.20551054e-15, 9.23778694e-01, 9.99983931e-01, 2.86523782e-06,\n",
              "       2.30829749e-04, 2.13882283e-18, 9.99999983e-01, 9.24177631e-08])"
            ]
          },
          "metadata": {},
          "execution_count": 90
        }
      ]
    },
    {
      "cell_type": "code",
      "metadata": {
        "id": "zA_GNVZl0o39"
      },
      "source": [
        "# Get the predicted classes\n",
        "train_class_preds = clf.predict(X_train)\n",
        "test_class_preds = clf.predict(X_test)"
      ],
      "execution_count": 91,
      "outputs": []
    },
    {
      "cell_type": "code",
      "metadata": {
        "id": "kNvgZDsN01Sf",
        "colab": {
          "base_uri": "https://localhost:8080/"
        },
        "outputId": "b1553516-0312-44a2-9b6d-354f44fe3920"
      },
      "source": [
        "train_class_preds"
      ],
      "execution_count": 92,
      "outputs": [
        {
          "output_type": "execute_result",
          "data": {
            "text/plain": [
              "array([0, 0, 1, ..., 1, 0, 0])"
            ]
          },
          "metadata": {},
          "execution_count": 92
        }
      ]
    },
    {
      "cell_type": "code",
      "metadata": {
        "id": "GezPz5272Cam"
      },
      "source": [
        "from sklearn.metrics import accuracy_score, precision_score , recall_score, f1_score , classification_report ,confusion_matrix, roc_auc_score\n",
        "import seaborn as sns"
      ],
      "execution_count": 93,
      "outputs": []
    },
    {
      "cell_type": "code",
      "metadata": {
        "id": "n0ucvzDEXI00",
        "colab": {
          "base_uri": "https://localhost:8080/"
        },
        "outputId": "9564f29c-9ed7-4e65-e89a-de265735375e"
      },
      "source": [
        "# evalutaing the model using metrics\n",
        "# finding each of the metrics for training set\n",
        "\n",
        "print('The evaluation metric values for training set - logisitic_Regression:')\n",
        "print('The accuracy of training set = ',accuracy_score(train_class_preds ,Y_train))\n",
        "print('The precision of training set = ',precision_score(train_class_preds,Y_train,average=None))\n",
        "print('The recall of training set = ',recall_score(train_class_preds,Y_train,average=None))\n",
        "print('The f1 score of training set = ',f1_score(train_class_preds,Y_train,average=None))\n",
        "print('The roc_auc_score of training set =', roc_auc_score(train_class_preds,Y_train,average=None))\n",
        "print('The confusion matrix of training set = \\n',confusion_matrix(train_class_preds,Y_train))"
      ],
      "execution_count": 94,
      "outputs": [
        {
          "output_type": "stream",
          "name": "stdout",
          "text": [
            "The evaluation metric values for training set - logisitic_Regression:\n",
            "The accuracy of training set =  0.9925\n",
            "The precision of training set =  [0.99507995 0.98983482]\n",
            "The recall of training set =  [0.99020808 0.99489144]\n",
            "The f1 score of training set =  [0.99263804 0.99235669]\n",
            "The roc_auc_score of training set = 0.9925497607513393\n",
            "The confusion matrix of training set = \n",
            " [[809   8]\n",
            " [  4 779]]\n"
          ]
        }
      ]
    },
    {
      "cell_type": "code",
      "metadata": {
        "id": "bazU1CU1Y3jG",
        "colab": {
          "base_uri": "https://localhost:8080/"
        },
        "outputId": "4144c4ce-6ed1-41cd-e93f-93236d5577b7"
      },
      "source": [
        "# finding each of the metrics for test set\n",
        "\n",
        "print('The evaluation metric values for test set - Logistic_Regression:')\n",
        "print('The accuracy of test set = ',accuracy_score(Y_test,test_class_preds))\n",
        "print('The precision of test set = ',precision_score(Y_test,test_class_preds,average=None))\n",
        "print('The recall of test set = ',recall_score(Y_test,test_class_preds,average=None))\n",
        "print('The f1 score of test set = ',f1_score(Y_test,test_class_preds,average=None))\n",
        "print('The roc_auc_score of test set =', roc_auc_score(test_class_preds,Y_test,average=None))\n",
        "print('The confusion matrix of test set = \\n',confusion_matrix(Y_test,test_class_preds))"
      ],
      "execution_count": 95,
      "outputs": [
        {
          "output_type": "stream",
          "name": "stdout",
          "text": [
            "The evaluation metric values for test set - Logistic_Regression:\n",
            "The accuracy of test set =  0.975\n",
            "The precision of test set =  [0.96825397 0.98104265]\n",
            "The recall of test set =  [0.97860963 0.97183099]\n",
            "The f1 score of test set =  [0.97340426 0.97641509]\n",
            "The roc_auc_score of test set = 0.9746483111412021\n",
            "The confusion matrix of test set = \n",
            " [[183   4]\n",
            " [  6 207]]\n"
          ]
        }
      ]
    },
    {
      "cell_type": "code",
      "metadata": {
        "id": "qGRd0WV0Zc-X",
        "colab": {
          "base_uri": "https://localhost:8080/"
        },
        "outputId": "1d87fdb5-b75a-437c-e64c-1b57efe746e0"
      },
      "source": [
        "# checking classification report for test set\n",
        "\n",
        "print(classification_report(Y_test,test_class_preds))"
      ],
      "execution_count": 96,
      "outputs": [
        {
          "output_type": "stream",
          "name": "stdout",
          "text": [
            "              precision    recall  f1-score   support\n",
            "\n",
            "           0       0.97      0.98      0.97       187\n",
            "           1       0.98      0.97      0.98       213\n",
            "\n",
            "    accuracy                           0.97       400\n",
            "   macro avg       0.97      0.98      0.97       400\n",
            "weighted avg       0.98      0.97      0.98       400\n",
            "\n"
          ]
        }
      ]
    },
    {
      "cell_type": "code",
      "metadata": {
        "id": "TMDLVZ2FaNhc"
      },
      "source": [
        "# storing metric values in train df for later comparisons\n",
        "\n",
        "dict1={'Model':'Logistic_Regression',\n",
        "       'Accuracy':round(accuracy_score(Y_train,train_class_preds),2),\n",
        "       'Precision':[list(np.around(precision_score(Y_train,train_class_preds,average=None),decimals=2))],\n",
        "       'Recall':[list(np.around(recall_score(Y_train,train_class_preds,average=None),decimals=2))],\n",
        "       'F1_score':[list(np.around(f1_score(Y_train,train_class_preds,average=None),decimals=2))],\n",
        "      #  'roc_auc_score':[list(np.around(roc_auc_score(train_class_preds,Y_train,average=None),decimals=2))]\n",
        "       }\n",
        "      #  'Comments':'Possible overfitting'}\n",
        "training_df= pd.DataFrame(dict1,index=[0])"
      ],
      "execution_count": 97,
      "outputs": []
    },
    {
      "cell_type": "code",
      "metadata": {
        "id": "bzj6_Lo2bW3P"
      },
      "source": [
        "# storing metric values in test df for later comparisons\n",
        "\n",
        "dict2={'Model':'Logistic_Regression',\n",
        "       'Accuracy':round(accuracy_score(Y_test,test_class_preds),2),\n",
        "       'Precision':[list(np.around(precision_score(Y_test,test_class_preds,average=None),decimals=2))],\n",
        "       'Recall':[list(np.around(recall_score(Y_test,test_class_preds,average=None),decimals=2))],\n",
        "       'F1_score':[list(np.around(f1_score(Y_test,test_class_preds,average=None),decimals=2))],\n",
        "             #  'roc_auc_score':[list(np.around(roc_auc_score(test_class_preds,Y_test,average=None),decimals=2))]\n",
        "       }\n",
        "      #  'Comments':'Possible overfitting'}\n",
        "test_df=pd.DataFrame(dict2,index=[0])"
      ],
      "execution_count": 98,
      "outputs": []
    },
    {
      "cell_type": "markdown",
      "metadata": {
        "id": "ut6Z2EFrLgYJ"
      },
      "source": [
        "## <b><u>Implementing Cross-validated Logistic Regression"
      ]
    },
    {
      "cell_type": "code",
      "metadata": {
        "id": "uPrin3IG5kCp"
      },
      "source": [
        "from sklearn.linear_model import LogisticRegressionCV\n",
        "from sklearn.model_selection import cross_validate"
      ],
      "execution_count": 99,
      "outputs": []
    },
    {
      "cell_type": "code",
      "metadata": {
        "id": "FAIV9X2gFfL2"
      },
      "source": [
        "logistic = LogisticRegression()"
      ],
      "execution_count": 100,
      "outputs": []
    },
    {
      "cell_type": "code",
      "metadata": {
        "id": "M8hlX3nyFYH2",
        "colab": {
          "base_uri": "https://localhost:8080/"
        },
        "outputId": "b94c0ca3-afad-4e7c-c94b-a00dc4d49860"
      },
      "source": [
        "scoring = ['accuracy']\n",
        "scores = cross_validate(logistic,X_train, Y_train, scoring = scoring, cv = 5, return_train_score=True,return_estimator=True,verbose = 10)"
      ],
      "execution_count": 101,
      "outputs": [
        {
          "output_type": "stream",
          "name": "stdout",
          "text": [
            "[CV] START .....................................................................\n",
            "[CV] END ................ accuracy: (train=0.896, test=0.881) total time=   0.1s\n",
            "[CV] START .....................................................................\n"
          ]
        },
        {
          "output_type": "stream",
          "name": "stderr",
          "text": [
            "[Parallel(n_jobs=1)]: Using backend SequentialBackend with 1 concurrent workers.\n",
            "/usr/local/lib/python3.7/dist-packages/sklearn/linear_model/_logistic.py:818: ConvergenceWarning: lbfgs failed to converge (status=1):\n",
            "STOP: TOTAL NO. of ITERATIONS REACHED LIMIT.\n",
            "\n",
            "Increase the number of iterations (max_iter) or scale the data as shown in:\n",
            "    https://scikit-learn.org/stable/modules/preprocessing.html\n",
            "Please also refer to the documentation for alternative solver options:\n",
            "    https://scikit-learn.org/stable/modules/linear_model.html#logistic-regression\n",
            "  extra_warning_msg=_LOGISTIC_SOLVER_CONVERGENCE_MSG,\n",
            "[Parallel(n_jobs=1)]: Done   1 out of   1 | elapsed:    0.1s remaining:    0.0s\n",
            "/usr/local/lib/python3.7/dist-packages/sklearn/linear_model/_logistic.py:818: ConvergenceWarning: lbfgs failed to converge (status=1):\n",
            "STOP: TOTAL NO. of ITERATIONS REACHED LIMIT.\n",
            "\n",
            "Increase the number of iterations (max_iter) or scale the data as shown in:\n",
            "    https://scikit-learn.org/stable/modules/preprocessing.html\n",
            "Please also refer to the documentation for alternative solver options:\n",
            "    https://scikit-learn.org/stable/modules/linear_model.html#logistic-regression\n",
            "  extra_warning_msg=_LOGISTIC_SOLVER_CONVERGENCE_MSG,\n",
            "[Parallel(n_jobs=1)]: Done   2 out of   2 | elapsed:    0.1s remaining:    0.0s\n",
            "/usr/local/lib/python3.7/dist-packages/sklearn/linear_model/_logistic.py:818: ConvergenceWarning: lbfgs failed to converge (status=1):\n",
            "STOP: TOTAL NO. of ITERATIONS REACHED LIMIT.\n",
            "\n",
            "Increase the number of iterations (max_iter) or scale the data as shown in:\n",
            "    https://scikit-learn.org/stable/modules/preprocessing.html\n",
            "Please also refer to the documentation for alternative solver options:\n",
            "    https://scikit-learn.org/stable/modules/linear_model.html#logistic-regression\n",
            "  extra_warning_msg=_LOGISTIC_SOLVER_CONVERGENCE_MSG,\n"
          ]
        },
        {
          "output_type": "stream",
          "name": "stdout",
          "text": [
            "[CV] END ................ accuracy: (train=0.895, test=0.878) total time=   0.1s\n",
            "[CV] START .....................................................................\n",
            "[CV] END ................ accuracy: (train=0.893, test=0.912) total time=   0.1s\n",
            "[CV] START .....................................................................\n",
            "[CV] END ................ accuracy: (train=0.890, test=0.919) total time=   0.1s\n",
            "[CV] START .....................................................................\n",
            "[CV] END ................ accuracy: (train=0.902, test=0.875) total time=   0.1s\n"
          ]
        },
        {
          "output_type": "stream",
          "name": "stderr",
          "text": [
            "[Parallel(n_jobs=1)]: Done   3 out of   3 | elapsed:    0.2s remaining:    0.0s\n",
            "/usr/local/lib/python3.7/dist-packages/sklearn/linear_model/_logistic.py:818: ConvergenceWarning: lbfgs failed to converge (status=1):\n",
            "STOP: TOTAL NO. of ITERATIONS REACHED LIMIT.\n",
            "\n",
            "Increase the number of iterations (max_iter) or scale the data as shown in:\n",
            "    https://scikit-learn.org/stable/modules/preprocessing.html\n",
            "Please also refer to the documentation for alternative solver options:\n",
            "    https://scikit-learn.org/stable/modules/linear_model.html#logistic-regression\n",
            "  extra_warning_msg=_LOGISTIC_SOLVER_CONVERGENCE_MSG,\n",
            "[Parallel(n_jobs=1)]: Done   4 out of   4 | elapsed:    0.3s remaining:    0.0s\n",
            "/usr/local/lib/python3.7/dist-packages/sklearn/linear_model/_logistic.py:818: ConvergenceWarning: lbfgs failed to converge (status=1):\n",
            "STOP: TOTAL NO. of ITERATIONS REACHED LIMIT.\n",
            "\n",
            "Increase the number of iterations (max_iter) or scale the data as shown in:\n",
            "    https://scikit-learn.org/stable/modules/preprocessing.html\n",
            "Please also refer to the documentation for alternative solver options:\n",
            "    https://scikit-learn.org/stable/modules/linear_model.html#logistic-regression\n",
            "  extra_warning_msg=_LOGISTIC_SOLVER_CONVERGENCE_MSG,\n",
            "[Parallel(n_jobs=1)]: Done   5 out of   5 | elapsed:    0.4s remaining:    0.0s\n",
            "[Parallel(n_jobs=1)]: Done   5 out of   5 | elapsed:    0.4s finished\n"
          ]
        }
      ]
    },
    {
      "cell_type": "code",
      "metadata": {
        "id": "WPoznFBR_hxb",
        "colab": {
          "base_uri": "https://localhost:8080/"
        },
        "outputId": "caba4e18-142c-46c1-f28d-e054a90bcf6f"
      },
      "source": [
        "scores['train_accuracy']"
      ],
      "execution_count": 102,
      "outputs": [
        {
          "output_type": "execute_result",
          "data": {
            "text/plain": [
              "array([0.89609375, 0.89453125, 0.89296875, 0.88984375, 0.9015625 ])"
            ]
          },
          "metadata": {},
          "execution_count": 102
        }
      ]
    },
    {
      "cell_type": "code",
      "metadata": {
        "id": "jRjGEEGA_y1d",
        "colab": {
          "base_uri": "https://localhost:8080/"
        },
        "outputId": "14f9e2d7-56e1-4473-c3b8-a3ccf5faa386"
      },
      "source": [
        "scores['test_accuracy']"
      ],
      "execution_count": 103,
      "outputs": [
        {
          "output_type": "execute_result",
          "data": {
            "text/plain": [
              "array([0.88125 , 0.878125, 0.9125  , 0.91875 , 0.875   ])"
            ]
          },
          "metadata": {},
          "execution_count": 103
        }
      ]
    },
    {
      "cell_type": "code",
      "metadata": {
        "id": "qEOFj7Yi_2vr",
        "colab": {
          "base_uri": "https://localhost:8080/"
        },
        "outputId": "596361c2-fcdc-4748-b685-bd6041d66040"
      },
      "source": [
        "scores['estimator']"
      ],
      "execution_count": 104,
      "outputs": [
        {
          "output_type": "execute_result",
          "data": {
            "text/plain": [
              "[LogisticRegression(),\n",
              " LogisticRegression(),\n",
              " LogisticRegression(),\n",
              " LogisticRegression(),\n",
              " LogisticRegression()]"
            ]
          },
          "metadata": {},
          "execution_count": 104
        }
      ]
    },
    {
      "cell_type": "code",
      "metadata": {
        "id": "9MMNQNSlGQ6h",
        "colab": {
          "base_uri": "https://localhost:8080/"
        },
        "outputId": "cb62c28f-d4b4-41d9-dafe-a1f973e0240a"
      },
      "source": [
        "for model in scores['estimator']:\n",
        "    print(model.coef_)"
      ],
      "execution_count": 105,
      "outputs": [
        {
          "output_type": "stream",
          "name": "stdout",
          "text": [
            "[[ 0.00084475 -0.01289495 -0.04399063 -0.01897141  0.02052242 -0.01954884\n",
            "  -0.02206216 -0.01426012 -0.02888717 -0.05410759 -0.04088968  0.00157202\n",
            "  -0.00048315  0.00363815 -0.18502569  0.0078246  -0.11525524 -0.02014934\n",
            "  -0.02022759 -0.01307292]]\n",
            "[[ 0.00083398 -0.00953052 -0.03189762 -0.02047248 -0.00272715 -0.01465598\n",
            "  -0.02239329 -0.01249349 -0.02922504 -0.06623657 -0.04055478  0.00133831\n",
            "  -0.00037983  0.00372497 -0.17913564 -0.01806438 -0.10494288 -0.01895572\n",
            "  -0.01862034 -0.01448911]]\n",
            "[[ 0.00101356 -0.03085425 -0.1250257  -0.05839762  0.05459754 -0.0335448\n",
            "  -0.02567564 -0.03251383 -0.02510928 -0.10512487 -0.07707782  0.00116669\n",
            "  -0.00029515  0.00338738 -0.2039741   0.05779779 -0.06921399 -0.03989929\n",
            "  -0.05728706 -0.02415248]]\n",
            "[[ 9.60095079e-04 -1.79211057e-02 -9.42525169e-02 -4.93311432e-02\n",
            "   1.39738697e-02 -4.39957266e-02 -2.62207981e-02 -2.78298013e-02\n",
            "  -2.75581249e-02 -1.01999736e-01 -6.25621497e-02  1.18756864e-03\n",
            "  -1.94422674e-04  3.43526225e-03 -1.95293863e-01  5.90280622e-02\n",
            "  -6.75178285e-02 -4.37857744e-02 -3.66250476e-02 -3.82631729e-02]]\n",
            "[[ 0.00127588 -0.00503859 -0.06252516 -0.01934904 -0.0018559  -0.02010966\n",
            "  -0.02513807 -0.0151965  -0.03233781 -0.06154457 -0.04198896  0.0011534\n",
            "  -0.00042962  0.00389555 -0.18868109  0.01017694 -0.12544865 -0.02497722\n",
            "  -0.02647483 -0.02077754]]\n"
          ]
        }
      ]
    },
    {
      "cell_type": "markdown",
      "metadata": {
        "id": "yHXlv6LyAndr"
      },
      "source": [
        ""
      ]
    },
    {
      "cell_type": "markdown",
      "metadata": {
        "id": "d1Kh1E1dgbw-"
      },
      "source": [
        "### Visulaizing Decision Tree"
      ]
    },
    {
      "cell_type": "code",
      "metadata": {
        "id": "1-f2ErwPgbw-"
      },
      "source": [
        "from sklearn.tree import DecisionTreeClassifier, export_graphviz\n",
        "from sklearn import tree\n",
        "from IPython.display import SVG\n",
        "from graphviz import Source\n",
        "from IPython.display import display"
      ],
      "execution_count": 106,
      "outputs": []
    },
    {
      "cell_type": "code",
      "metadata": {
        "id": "dVoF9Cf-gbw7",
        "colab": {
          "base_uri": "https://localhost:8080/"
        },
        "outputId": "a617672f-9b09-4de7-befc-2f8ee07564e5"
      },
      "source": [
        "mobile_price_range = DecisionTreeClassifier(criterion='entropy', max_leaf_nodes=10, random_state=0)\n",
        "mobile_price_range.fit(X_train, Y_train)"
      ],
      "execution_count": 107,
      "outputs": [
        {
          "output_type": "execute_result",
          "data": {
            "text/plain": [
              "DecisionTreeClassifier(criterion='entropy', max_leaf_nodes=10, random_state=0)"
            ]
          },
          "metadata": {},
          "execution_count": 107
        }
      ]
    },
    {
      "cell_type": "markdown",
      "metadata": {
        "id": "Z-iZpTW4gbw7"
      },
      "source": [
        "#### Predict on Test Set"
      ]
    },
    {
      "cell_type": "code",
      "metadata": {
        "id": "ri22qTuCgbw8"
      },
      "source": [
        "Y_predicted = mobile_price_range.predict(X_test)"
      ],
      "execution_count": 108,
      "outputs": []
    },
    {
      "cell_type": "code",
      "metadata": {
        "id": "LG1S8pNjgbw8",
        "colab": {
          "base_uri": "https://localhost:8080/"
        },
        "outputId": "987d2ae2-ba3c-4cf5-8b40-57fe0c4908ac"
      },
      "source": [
        "Y_predicted[:10]"
      ],
      "execution_count": 109,
      "outputs": [
        {
          "output_type": "execute_result",
          "data": {
            "text/plain": [
              "array([1, 0, 1, 0, 1, 0, 0, 1, 1, 0])"
            ]
          },
          "metadata": {},
          "execution_count": 109
        }
      ]
    },
    {
      "cell_type": "code",
      "metadata": {
        "id": "jHl3lQz5gbw8",
        "colab": {
          "base_uri": "https://localhost:8080/"
        },
        "outputId": "e7dc6c3a-7d60-4999-d202-b6b3026326f4"
      },
      "source": [
        "Y_test[:10]"
      ],
      "execution_count": 110,
      "outputs": [
        {
          "output_type": "execute_result",
          "data": {
            "text/plain": [
              "405     1\n",
              "1190    0\n",
              "1132    1\n",
              "731     1\n",
              "1754    1\n",
              "1178    0\n",
              "1533    0\n",
              "1303    1\n",
              "1857    1\n",
              "18      0\n",
              "Name: modified_price_range, dtype: int64"
            ]
          },
          "metadata": {},
          "execution_count": 110
        }
      ]
    },
    {
      "cell_type": "markdown",
      "metadata": {
        "id": "UdgRvwUlgbw9"
      },
      "source": [
        "### Measure Accuracy of the Classifier"
      ]
    },
    {
      "cell_type": "code",
      "metadata": {
        "id": "mA4cifFXgbw9",
        "colab": {
          "base_uri": "https://localhost:8080/"
        },
        "outputId": "d2ffd2ba-72cd-4ed1-d57d-593ad84d2e68"
      },
      "source": [
        "accuracy_score(Y_test, Y_predicted) * 100"
      ],
      "execution_count": 111,
      "outputs": [
        {
          "output_type": "execute_result",
          "data": {
            "text/plain": [
              "92.0"
            ]
          },
          "metadata": {},
          "execution_count": 111
        }
      ]
    },
    {
      "cell_type": "code",
      "metadata": {
        "id": "nGZo53WCVG_f",
        "colab": {
          "base_uri": "https://localhost:8080/"
        },
        "outputId": "b61f6183-07c2-4317-dfe5-40106a50145a"
      },
      "source": [
        "df.iloc[-1]"
      ],
      "execution_count": 112,
      "outputs": [
        {
          "output_type": "execute_result",
          "data": {
            "text/plain": [
              "battery_power            510.0\n",
              "blue                       1.0\n",
              "clock_speed                2.0\n",
              "dual_sim                   1.0\n",
              "fc                         5.0\n",
              "four_g                     1.0\n",
              "int_memory                45.0\n",
              "m_dep                      0.9\n",
              "mobile_wt                168.0\n",
              "n_cores                    6.0\n",
              "pc                        16.0\n",
              "px_height                483.0\n",
              "px_width                 754.0\n",
              "ram                     3919.0\n",
              "sc_h                      19.0\n",
              "sc_w                       4.0\n",
              "talk_time                  2.0\n",
              "three_g                    1.0\n",
              "touch_screen               1.0\n",
              "wifi                       1.0\n",
              "modified_price_range       1.0\n",
              "Name: 1999, dtype: float64"
            ]
          },
          "metadata": {},
          "execution_count": 112
        }
      ]
    },
    {
      "cell_type": "code",
      "metadata": {
        "id": "c1tItnb3gbw_",
        "colab": {
          "base_uri": "https://localhost:8080/",
          "height": 757
        },
        "outputId": "104bef11-b7a1-43aa-ee45-b9e14d531be8"
      },
      "source": [
        "graph = Source(tree.export_graphviz(mobile_price_range, out_file=None\n",
        "   , feature_names=X_train.columns, class_names=['0', '1'] \n",
        "   , filled = True))\n",
        "display(SVG(graph.pipe(format='svg')))"
      ],
      "execution_count": 113,
      "outputs": [
        {
          "output_type": "display_data",
          "data": {
            "text/plain": [
              "<IPython.core.display.SVG object>"
            ],
            "image/svg+xml": "<svg height=\"552pt\" viewBox=\"0.00 0.00 980.00 552.00\" width=\"980pt\" xmlns=\"http://www.w3.org/2000/svg\" xmlns:xlink=\"http://www.w3.org/1999/xlink\">\n<g class=\"graph\" id=\"graph0\" transform=\"scale(1 1) rotate(0) translate(4 548)\">\n<title>Tree</title>\n<polygon fill=\"#ffffff\" points=\"-4,4 -4,-548 976,-548 976,4 -4,4\" stroke=\"transparent\"/>\n<!-- 0 -->\n<g class=\"node\" id=\"node1\">\n<title>0</title>\n<polygon fill=\"#fefbf9\" points=\"626,-544 494,-544 494,-461 626,-461 626,-544\" stroke=\"#000000\"/>\n<text fill=\"#000000\" font-family=\"Helvetica,sans-Serif\" font-size=\"14.00\" text-anchor=\"middle\" x=\"560\" y=\"-528.8\">ram &lt;= 2235.5</text>\n<text fill=\"#000000\" font-family=\"Helvetica,sans-Serif\" font-size=\"14.00\" text-anchor=\"middle\" x=\"560\" y=\"-513.8\">entropy = 1.0</text>\n<text fill=\"#000000\" font-family=\"Helvetica,sans-Serif\" font-size=\"14.00\" text-anchor=\"middle\" x=\"560\" y=\"-498.8\">samples = 1600</text>\n<text fill=\"#000000\" font-family=\"Helvetica,sans-Serif\" font-size=\"14.00\" text-anchor=\"middle\" x=\"560\" y=\"-483.8\">value = [813, 787]</text>\n<text fill=\"#000000\" font-family=\"Helvetica,sans-Serif\" font-size=\"14.00\" text-anchor=\"middle\" x=\"560\" y=\"-468.8\">class = 0</text>\n</g>\n<!-- 1 -->\n<g class=\"node\" id=\"node2\">\n<title>1</title>\n<polygon fill=\"#e88e4e\" points=\"498,-425 374,-425 374,-342 498,-342 498,-425\" stroke=\"#000000\"/>\n<text fill=\"#000000\" font-family=\"Helvetica,sans-Serif\" font-size=\"14.00\" text-anchor=\"middle\" x=\"436\" y=\"-409.8\">ram &lt;= 1481.0</text>\n<text fill=\"#000000\" font-family=\"Helvetica,sans-Serif\" font-size=\"14.00\" text-anchor=\"middle\" x=\"436\" y=\"-394.8\">entropy = 0.458</text>\n<text fill=\"#000000\" font-family=\"Helvetica,sans-Serif\" font-size=\"14.00\" text-anchor=\"middle\" x=\"436\" y=\"-379.8\">samples = 848</text>\n<text fill=\"#000000\" font-family=\"Helvetica,sans-Serif\" font-size=\"14.00\" text-anchor=\"middle\" x=\"436\" y=\"-364.8\">value = [766, 82]</text>\n<text fill=\"#000000\" font-family=\"Helvetica,sans-Serif\" font-size=\"14.00\" text-anchor=\"middle\" x=\"436\" y=\"-349.8\">class = 0</text>\n</g>\n<!-- 0&#45;&gt;1 -->\n<g class=\"edge\" id=\"edge1\">\n<title>0-&gt;1</title>\n<path d=\"M516.6308,-460.8796C507.0584,-451.6931 496.8328,-441.8798 486.9897,-432.4336\" fill=\"none\" stroke=\"#000000\"/>\n<polygon fill=\"#000000\" points=\"489.1928,-429.6969 479.5543,-425.2981 484.3459,-434.7475 489.1928,-429.6969\" stroke=\"#000000\"/>\n<text fill=\"#000000\" font-family=\"Helvetica,sans-Serif\" font-size=\"14.00\" text-anchor=\"middle\" x=\"480.0686\" y=\"-446.5928\">True</text>\n</g>\n<!-- 2 -->\n<g class=\"node\" id=\"node13\">\n<title>2</title>\n<polygon fill=\"#46a4e7\" points=\"811,-425 687,-425 687,-342 811,-342 811,-425\" stroke=\"#000000\"/>\n<text fill=\"#000000\" font-family=\"Helvetica,sans-Serif\" font-size=\"14.00\" text-anchor=\"middle\" x=\"749\" y=\"-409.8\">ram &lt;= 2811.5</text>\n<text fill=\"#000000\" font-family=\"Helvetica,sans-Serif\" font-size=\"14.00\" text-anchor=\"middle\" x=\"749\" y=\"-394.8\">entropy = 0.337</text>\n<text fill=\"#000000\" font-family=\"Helvetica,sans-Serif\" font-size=\"14.00\" text-anchor=\"middle\" x=\"749\" y=\"-379.8\">samples = 752</text>\n<text fill=\"#000000\" font-family=\"Helvetica,sans-Serif\" font-size=\"14.00\" text-anchor=\"middle\" x=\"749\" y=\"-364.8\">value = [47, 705]</text>\n<text fill=\"#000000\" font-family=\"Helvetica,sans-Serif\" font-size=\"14.00\" text-anchor=\"middle\" x=\"749\" y=\"-349.8\">class = 1</text>\n</g>\n<!-- 0&#45;&gt;2 -->\n<g class=\"edge\" id=\"edge12\">\n<title>0-&gt;2</title>\n<path d=\"M626.103,-460.8796C642.873,-450.3207 660.9582,-438.9337 677.9617,-428.2278\" fill=\"none\" stroke=\"#000000\"/>\n<polygon fill=\"#000000\" points=\"680.1446,-430.9895 686.742,-422.6995 676.4148,-425.0658 680.1446,-430.9895\" stroke=\"#000000\"/>\n<text fill=\"#000000\" font-family=\"Helvetica,sans-Serif\" font-size=\"14.00\" text-anchor=\"middle\" x=\"681.2015\" y=\"-443.3778\">False</text>\n</g>\n<!-- 3 -->\n<g class=\"node\" id=\"node3\">\n<title>3</title>\n<polygon fill=\"#e5833c\" points=\"264.5,-306 121.5,-306 121.5,-223 264.5,-223 264.5,-306\" stroke=\"#000000\"/>\n<text fill=\"#000000\" font-family=\"Helvetica,sans-Serif\" font-size=\"14.00\" text-anchor=\"middle\" x=\"193\" y=\"-290.8\">px_width &lt;= 1887.5</text>\n<text fill=\"#000000\" font-family=\"Helvetica,sans-Serif\" font-size=\"14.00\" text-anchor=\"middle\" x=\"193\" y=\"-275.8\">entropy = 0.099</text>\n<text fill=\"#000000\" font-family=\"Helvetica,sans-Serif\" font-size=\"14.00\" text-anchor=\"middle\" x=\"193\" y=\"-260.8\">samples = 546</text>\n<text fill=\"#000000\" font-family=\"Helvetica,sans-Serif\" font-size=\"14.00\" text-anchor=\"middle\" x=\"193\" y=\"-245.8\">value = [539, 7]</text>\n<text fill=\"#000000\" font-family=\"Helvetica,sans-Serif\" font-size=\"14.00\" text-anchor=\"middle\" x=\"193\" y=\"-230.8\">class = 0</text>\n</g>\n<!-- 1&#45;&gt;3 -->\n<g class=\"edge\" id=\"edge2\">\n<title>1-&gt;3</title>\n<path d=\"M373.737,-353.0091C343.2741,-338.091 306.2335,-319.9518 273.635,-303.9879\" fill=\"none\" stroke=\"#000000\"/>\n<polygon fill=\"#000000\" points=\"275.0877,-300.8022 264.5675,-299.5474 272.0091,-307.0889 275.0877,-300.8022\" stroke=\"#000000\"/>\n</g>\n<!-- 4 -->\n<g class=\"node\" id=\"node6\">\n<title>4</title>\n<polygon fill=\"#eeab7a\" points=\"525,-306 347,-306 347,-223 525,-223 525,-306\" stroke=\"#000000\"/>\n<text fill=\"#000000\" font-family=\"Helvetica,sans-Serif\" font-size=\"14.00\" text-anchor=\"middle\" x=\"436\" y=\"-290.8\">battery_power &lt;= 1484.0</text>\n<text fill=\"#000000\" font-family=\"Helvetica,sans-Serif\" font-size=\"14.00\" text-anchor=\"middle\" x=\"436\" y=\"-275.8\">entropy = 0.809</text>\n<text fill=\"#000000\" font-family=\"Helvetica,sans-Serif\" font-size=\"14.00\" text-anchor=\"middle\" x=\"436\" y=\"-260.8\">samples = 302</text>\n<text fill=\"#000000\" font-family=\"Helvetica,sans-Serif\" font-size=\"14.00\" text-anchor=\"middle\" x=\"436\" y=\"-245.8\">value = [227, 75]</text>\n<text fill=\"#000000\" font-family=\"Helvetica,sans-Serif\" font-size=\"14.00\" text-anchor=\"middle\" x=\"436\" y=\"-230.8\">class = 0</text>\n</g>\n<!-- 1&#45;&gt;4 -->\n<g class=\"edge\" id=\"edge5\">\n<title>1-&gt;4</title>\n<path d=\"M436,-341.8796C436,-333.6838 436,-324.9891 436,-316.5013\" fill=\"none\" stroke=\"#000000\"/>\n<polygon fill=\"#000000\" points=\"439.5001,-316.298 436,-306.2981 432.5001,-316.2981 439.5001,-316.298\" stroke=\"#000000\"/>\n</g>\n<!-- 15 -->\n<g class=\"node\" id=\"node4\">\n<title>15</title>\n<polygon fill=\"#e58139\" points=\"116,-179.5 0,-179.5 0,-111.5 116,-111.5 116,-179.5\" stroke=\"#000000\"/>\n<text fill=\"#000000\" font-family=\"Helvetica,sans-Serif\" font-size=\"14.00\" text-anchor=\"middle\" x=\"58\" y=\"-164.3\">entropy = 0.0</text>\n<text fill=\"#000000\" font-family=\"Helvetica,sans-Serif\" font-size=\"14.00\" text-anchor=\"middle\" x=\"58\" y=\"-149.3\">samples = 492</text>\n<text fill=\"#000000\" font-family=\"Helvetica,sans-Serif\" font-size=\"14.00\" text-anchor=\"middle\" x=\"58\" y=\"-134.3\">value = [492, 0]</text>\n<text fill=\"#000000\" font-family=\"Helvetica,sans-Serif\" font-size=\"14.00\" text-anchor=\"middle\" x=\"58\" y=\"-119.3\">class = 0</text>\n</g>\n<!-- 3&#45;&gt;15 -->\n<g class=\"edge\" id=\"edge3\">\n<title>3-&gt;15</title>\n<path d=\"M145.7836,-222.8796C132.4358,-211.1138 117.9215,-198.3197 104.6096,-186.5855\" fill=\"none\" stroke=\"#000000\"/>\n<polygon fill=\"#000000\" points=\"106.7448,-183.8019 96.9287,-179.8149 102.116,-189.0531 106.7448,-183.8019\" stroke=\"#000000\"/>\n</g>\n<!-- 16 -->\n<g class=\"node\" id=\"node5\">\n<title>16</title>\n<polygon fill=\"#e99456\" points=\"252,-179.5 134,-179.5 134,-111.5 252,-111.5 252,-179.5\" stroke=\"#000000\"/>\n<text fill=\"#000000\" font-family=\"Helvetica,sans-Serif\" font-size=\"14.00\" text-anchor=\"middle\" x=\"193\" y=\"-164.3\">entropy = 0.556</text>\n<text fill=\"#000000\" font-family=\"Helvetica,sans-Serif\" font-size=\"14.00\" text-anchor=\"middle\" x=\"193\" y=\"-149.3\">samples = 54</text>\n<text fill=\"#000000\" font-family=\"Helvetica,sans-Serif\" font-size=\"14.00\" text-anchor=\"middle\" x=\"193\" y=\"-134.3\">value = [47, 7]</text>\n<text fill=\"#000000\" font-family=\"Helvetica,sans-Serif\" font-size=\"14.00\" text-anchor=\"middle\" x=\"193\" y=\"-119.3\">class = 0</text>\n</g>\n<!-- 3&#45;&gt;16 -->\n<g class=\"edge\" id=\"edge4\">\n<title>3-&gt;16</title>\n<path d=\"M193,-222.8796C193,-212.2134 193,-200.7021 193,-189.9015\" fill=\"none\" stroke=\"#000000\"/>\n<polygon fill=\"#000000\" points=\"196.5001,-189.8149 193,-179.8149 189.5001,-189.815 196.5001,-189.8149\" stroke=\"#000000\"/>\n</g>\n<!-- 7 -->\n<g class=\"node\" id=\"node7\">\n<title>7</title>\n<polygon fill=\"#e88d4d\" points=\"411.5,-187 270.5,-187 270.5,-104 411.5,-104 411.5,-187\" stroke=\"#000000\"/>\n<text fill=\"#000000\" font-family=\"Helvetica,sans-Serif\" font-size=\"14.00\" text-anchor=\"middle\" x=\"341\" y=\"-171.8\">px_height &lt;= 951.0</text>\n<text fill=\"#000000\" font-family=\"Helvetica,sans-Serif\" font-size=\"14.00\" text-anchor=\"middle\" x=\"341\" y=\"-156.8\">entropy = 0.436</text>\n<text fill=\"#000000\" font-family=\"Helvetica,sans-Serif\" font-size=\"14.00\" text-anchor=\"middle\" x=\"341\" y=\"-141.8\">samples = 200</text>\n<text fill=\"#000000\" font-family=\"Helvetica,sans-Serif\" font-size=\"14.00\" text-anchor=\"middle\" x=\"341\" y=\"-126.8\">value = [182, 18]</text>\n<text fill=\"#000000\" font-family=\"Helvetica,sans-Serif\" font-size=\"14.00\" text-anchor=\"middle\" x=\"341\" y=\"-111.8\">class = 0</text>\n</g>\n<!-- 4&#45;&gt;7 -->\n<g class=\"edge\" id=\"edge6\">\n<title>4-&gt;7</title>\n<path d=\"M402.7736,-222.8796C395.6556,-213.9633 388.0661,-204.4565 380.7308,-195.268\" fill=\"none\" stroke=\"#000000\"/>\n<polygon fill=\"#000000\" points=\"383.3425,-192.9295 374.3682,-187.2981 377.8719,-197.2968 383.3425,-192.9295\" stroke=\"#000000\"/>\n</g>\n<!-- 8 -->\n<g class=\"node\" id=\"node10\">\n<title>8</title>\n<polygon fill=\"#d5eafa\" points=\"570.5,-187 429.5,-187 429.5,-104 570.5,-104 570.5,-187\" stroke=\"#000000\"/>\n<text fill=\"#000000\" font-family=\"Helvetica,sans-Serif\" font-size=\"14.00\" text-anchor=\"middle\" x=\"500\" y=\"-171.8\">px_height &lt;= 708.0</text>\n<text fill=\"#000000\" font-family=\"Helvetica,sans-Serif\" font-size=\"14.00\" text-anchor=\"middle\" x=\"500\" y=\"-156.8\">entropy = 0.99</text>\n<text fill=\"#000000\" font-family=\"Helvetica,sans-Serif\" font-size=\"14.00\" text-anchor=\"middle\" x=\"500\" y=\"-141.8\">samples = 102</text>\n<text fill=\"#000000\" font-family=\"Helvetica,sans-Serif\" font-size=\"14.00\" text-anchor=\"middle\" x=\"500\" y=\"-126.8\">value = [45, 57]</text>\n<text fill=\"#000000\" font-family=\"Helvetica,sans-Serif\" font-size=\"14.00\" text-anchor=\"middle\" x=\"500\" y=\"-111.8\">class = 1</text>\n</g>\n<!-- 4&#45;&gt;8 -->\n<g class=\"edge\" id=\"edge9\">\n<title>4-&gt;8</title>\n<path d=\"M458.3841,-222.8796C462.9856,-214.3236 467.8796,-205.2238 472.6342,-196.3833\" fill=\"none\" stroke=\"#000000\"/>\n<polygon fill=\"#000000\" points=\"475.8662,-197.763 477.5204,-187.2981 469.7012,-194.4473 475.8662,-197.763\" stroke=\"#000000\"/>\n</g>\n<!-- 13 -->\n<g class=\"node\" id=\"node8\">\n<title>13</title>\n<polygon fill=\"#e5823a\" points=\"264,-68 146,-68 146,0 264,0 264,-68\" stroke=\"#000000\"/>\n<text fill=\"#000000\" font-family=\"Helvetica,sans-Serif\" font-size=\"14.00\" text-anchor=\"middle\" x=\"205\" y=\"-52.8\">entropy = 0.057</text>\n<text fill=\"#000000\" font-family=\"Helvetica,sans-Serif\" font-size=\"14.00\" text-anchor=\"middle\" x=\"205\" y=\"-37.8\">samples = 151</text>\n<text fill=\"#000000\" font-family=\"Helvetica,sans-Serif\" font-size=\"14.00\" text-anchor=\"middle\" x=\"205\" y=\"-22.8\">value = [150, 1]</text>\n<text fill=\"#000000\" font-family=\"Helvetica,sans-Serif\" font-size=\"14.00\" text-anchor=\"middle\" x=\"205\" y=\"-7.8\">class = 0</text>\n</g>\n<!-- 7&#45;&gt;13 -->\n<g class=\"edge\" id=\"edge7\">\n<title>7-&gt;13</title>\n<path d=\"M290.3586,-103.9815C278.7001,-94.4232 266.312,-84.2668 254.6941,-74.7419\" fill=\"none\" stroke=\"#000000\"/>\n<polygon fill=\"#000000\" points=\"256.7448,-71.8972 246.7925,-68.2637 252.3067,-77.3105 256.7448,-71.8972\" stroke=\"#000000\"/>\n</g>\n<!-- 14 -->\n<g class=\"node\" id=\"node9\">\n<title>14</title>\n<polygon fill=\"#f3c4a2\" points=\"400,-68 282,-68 282,0 400,0 400,-68\" stroke=\"#000000\"/>\n<text fill=\"#000000\" font-family=\"Helvetica,sans-Serif\" font-size=\"14.00\" text-anchor=\"middle\" x=\"341\" y=\"-52.8\">entropy = 0.931</text>\n<text fill=\"#000000\" font-family=\"Helvetica,sans-Serif\" font-size=\"14.00\" text-anchor=\"middle\" x=\"341\" y=\"-37.8\">samples = 49</text>\n<text fill=\"#000000\" font-family=\"Helvetica,sans-Serif\" font-size=\"14.00\" text-anchor=\"middle\" x=\"341\" y=\"-22.8\">value = [32, 17]</text>\n<text fill=\"#000000\" font-family=\"Helvetica,sans-Serif\" font-size=\"14.00\" text-anchor=\"middle\" x=\"341\" y=\"-7.8\">class = 0</text>\n</g>\n<!-- 7&#45;&gt;14 -->\n<g class=\"edge\" id=\"edge8\">\n<title>7-&gt;14</title>\n<path d=\"M341,-103.9815C341,-95.618 341,-86.7965 341,-78.3409\" fill=\"none\" stroke=\"#000000\"/>\n<polygon fill=\"#000000\" points=\"344.5001,-78.2636 341,-68.2637 337.5001,-78.2637 344.5001,-78.2636\" stroke=\"#000000\"/>\n</g>\n<!-- 17 -->\n<g class=\"node\" id=\"node11\">\n<title>17</title>\n<polygon fill=\"#f0b78f\" points=\"536,-68 418,-68 418,0 536,0 536,-68\" stroke=\"#000000\"/>\n<text fill=\"#000000\" font-family=\"Helvetica,sans-Serif\" font-size=\"14.00\" text-anchor=\"middle\" x=\"477\" y=\"-52.8\">entropy = 0.884</text>\n<text fill=\"#000000\" font-family=\"Helvetica,sans-Serif\" font-size=\"14.00\" text-anchor=\"middle\" x=\"477\" y=\"-37.8\">samples = 53</text>\n<text fill=\"#000000\" font-family=\"Helvetica,sans-Serif\" font-size=\"14.00\" text-anchor=\"middle\" x=\"477\" y=\"-22.8\">value = [37, 16]</text>\n<text fill=\"#000000\" font-family=\"Helvetica,sans-Serif\" font-size=\"14.00\" text-anchor=\"middle\" x=\"477\" y=\"-7.8\">class = 0</text>\n</g>\n<!-- 8&#45;&gt;17 -->\n<g class=\"edge\" id=\"edge10\">\n<title>8-&gt;17</title>\n<path d=\"M491.4356,-103.9815C489.6915,-95.5261 487.8508,-86.6026 486.0891,-78.0623\" fill=\"none\" stroke=\"#000000\"/>\n<polygon fill=\"#000000\" points=\"489.516,-77.3504 484.0678,-68.2637 482.6603,-78.7646 489.516,-77.3504\" stroke=\"#000000\"/>\n</g>\n<!-- 18 -->\n<g class=\"node\" id=\"node12\">\n<title>18</title>\n<polygon fill=\"#60b0ea\" points=\"672,-68 554,-68 554,0 672,0 672,-68\" stroke=\"#000000\"/>\n<text fill=\"#000000\" font-family=\"Helvetica,sans-Serif\" font-size=\"14.00\" text-anchor=\"middle\" x=\"613\" y=\"-52.8\">entropy = 0.642</text>\n<text fill=\"#000000\" font-family=\"Helvetica,sans-Serif\" font-size=\"14.00\" text-anchor=\"middle\" x=\"613\" y=\"-37.8\">samples = 49</text>\n<text fill=\"#000000\" font-family=\"Helvetica,sans-Serif\" font-size=\"14.00\" text-anchor=\"middle\" x=\"613\" y=\"-22.8\">value = [8, 41]</text>\n<text fill=\"#000000\" font-family=\"Helvetica,sans-Serif\" font-size=\"14.00\" text-anchor=\"middle\" x=\"613\" y=\"-7.8\">class = 1</text>\n</g>\n<!-- 8&#45;&gt;18 -->\n<g class=\"edge\" id=\"edge11\">\n<title>8-&gt;18</title>\n<path d=\"M542.077,-103.9815C551.5776,-94.607 561.6613,-84.6572 571.1524,-75.2921\" fill=\"none\" stroke=\"#000000\"/>\n<polygon fill=\"#000000\" points=\"573.6155,-77.7787 578.2754,-68.2637 568.6989,-72.796 573.6155,-77.7787\" stroke=\"#000000\"/>\n</g>\n<!-- 5 -->\n<g class=\"node\" id=\"node14\">\n<title>5</title>\n<polygon fill=\"#62b1ea\" points=\"838,-306 660,-306 660,-223 838,-223 838,-306\" stroke=\"#000000\"/>\n<text fill=\"#000000\" font-family=\"Helvetica,sans-Serif\" font-size=\"14.00\" text-anchor=\"middle\" x=\"749\" y=\"-290.8\">battery_power &lt;= 1174.0</text>\n<text fill=\"#000000\" font-family=\"Helvetica,sans-Serif\" font-size=\"14.00\" text-anchor=\"middle\" x=\"749\" y=\"-275.8\">entropy = 0.661</text>\n<text fill=\"#000000\" font-family=\"Helvetica,sans-Serif\" font-size=\"14.00\" text-anchor=\"middle\" x=\"749\" y=\"-260.8\">samples = 274</text>\n<text fill=\"#000000\" font-family=\"Helvetica,sans-Serif\" font-size=\"14.00\" text-anchor=\"middle\" x=\"749\" y=\"-245.8\">value = [47, 227]</text>\n<text fill=\"#000000\" font-family=\"Helvetica,sans-Serif\" font-size=\"14.00\" text-anchor=\"middle\" x=\"749\" y=\"-230.8\">class = 1</text>\n</g>\n<!-- 2&#45;&gt;5 -->\n<g class=\"edge\" id=\"edge13\">\n<title>2-&gt;5</title>\n<path d=\"M749,-341.8796C749,-333.6838 749,-324.9891 749,-316.5013\" fill=\"none\" stroke=\"#000000\"/>\n<polygon fill=\"#000000\" points=\"752.5001,-316.298 749,-306.2981 745.5001,-316.2981 752.5001,-316.298\" stroke=\"#000000\"/>\n</g>\n<!-- 6 -->\n<g class=\"node\" id=\"node19\">\n<title>6</title>\n<polygon fill=\"#399de5\" points=\"972,-298.5 856,-298.5 856,-230.5 972,-230.5 972,-298.5\" stroke=\"#000000\"/>\n<text fill=\"#000000\" font-family=\"Helvetica,sans-Serif\" font-size=\"14.00\" text-anchor=\"middle\" x=\"914\" y=\"-283.3\">entropy = 0.0</text>\n<text fill=\"#000000\" font-family=\"Helvetica,sans-Serif\" font-size=\"14.00\" text-anchor=\"middle\" x=\"914\" y=\"-268.3\">samples = 478</text>\n<text fill=\"#000000\" font-family=\"Helvetica,sans-Serif\" font-size=\"14.00\" text-anchor=\"middle\" x=\"914\" y=\"-253.3\">value = [0, 478]</text>\n<text fill=\"#000000\" font-family=\"Helvetica,sans-Serif\" font-size=\"14.00\" text-anchor=\"middle\" x=\"914\" y=\"-238.3\">class = 1</text>\n</g>\n<!-- 2&#45;&gt;6 -->\n<g class=\"edge\" id=\"edge18\">\n<title>2-&gt;6</title>\n<path d=\"M806.709,-341.8796C823.407,-329.8368 841.5987,-316.7167 858.1793,-304.7586\" fill=\"none\" stroke=\"#000000\"/>\n<polygon fill=\"#000000\" points=\"860.6232,-307.3113 866.6865,-298.623 856.5285,-301.6339 860.6232,-307.3113\" stroke=\"#000000\"/>\n</g>\n<!-- 9 -->\n<g class=\"node\" id=\"node15\">\n<title>9</title>\n<polygon fill=\"#a9d4f4\" points=\"820.5,-187 677.5,-187 677.5,-104 820.5,-104 820.5,-187\" stroke=\"#000000\"/>\n<text fill=\"#000000\" font-family=\"Helvetica,sans-Serif\" font-size=\"14.00\" text-anchor=\"middle\" x=\"749\" y=\"-171.8\">px_width &lt;= 1352.0</text>\n<text fill=\"#000000\" font-family=\"Helvetica,sans-Serif\" font-size=\"14.00\" text-anchor=\"middle\" x=\"749\" y=\"-156.8\">entropy = 0.943</text>\n<text fill=\"#000000\" font-family=\"Helvetica,sans-Serif\" font-size=\"14.00\" text-anchor=\"middle\" x=\"749\" y=\"-141.8\">samples = 122</text>\n<text fill=\"#000000\" font-family=\"Helvetica,sans-Serif\" font-size=\"14.00\" text-anchor=\"middle\" x=\"749\" y=\"-126.8\">value = [44, 78]</text>\n<text fill=\"#000000\" font-family=\"Helvetica,sans-Serif\" font-size=\"14.00\" text-anchor=\"middle\" x=\"749\" y=\"-111.8\">class = 1</text>\n</g>\n<!-- 5&#45;&gt;9 -->\n<g class=\"edge\" id=\"edge14\">\n<title>5-&gt;9</title>\n<path d=\"M749,-222.8796C749,-214.6838 749,-205.9891 749,-197.5013\" fill=\"none\" stroke=\"#000000\"/>\n<polygon fill=\"#000000\" points=\"752.5001,-197.298 749,-187.2981 745.5001,-197.2981 752.5001,-197.298\" stroke=\"#000000\"/>\n</g>\n<!-- 10 -->\n<g class=\"node\" id=\"node18\">\n<title>10</title>\n<polygon fill=\"#3d9fe6\" points=\"955,-179.5 839,-179.5 839,-111.5 955,-111.5 955,-179.5\" stroke=\"#000000\"/>\n<text fill=\"#000000\" font-family=\"Helvetica,sans-Serif\" font-size=\"14.00\" text-anchor=\"middle\" x=\"897\" y=\"-164.3\">entropy = 0.14</text>\n<text fill=\"#000000\" font-family=\"Helvetica,sans-Serif\" font-size=\"14.00\" text-anchor=\"middle\" x=\"897\" y=\"-149.3\">samples = 152</text>\n<text fill=\"#000000\" font-family=\"Helvetica,sans-Serif\" font-size=\"14.00\" text-anchor=\"middle\" x=\"897\" y=\"-134.3\">value = [3, 149]</text>\n<text fill=\"#000000\" font-family=\"Helvetica,sans-Serif\" font-size=\"14.00\" text-anchor=\"middle\" x=\"897\" y=\"-119.3\">class = 1</text>\n</g>\n<!-- 5&#45;&gt;10 -->\n<g class=\"edge\" id=\"edge17\">\n<title>5-&gt;10</title>\n<path d=\"M800.7632,-222.8796C815.5331,-211.0038 831.6059,-198.0804 846.3108,-186.2568\" fill=\"none\" stroke=\"#000000\"/>\n<polygon fill=\"#000000\" points=\"848.7225,-188.8088 854.3226,-179.8149 844.3361,-183.3535 848.7225,-188.8088\" stroke=\"#000000\"/>\n</g>\n<!-- 11 -->\n<g class=\"node\" id=\"node16\">\n<title>11</title>\n<polygon fill=\"#f5cdb1\" points=\"808,-68 690,-68 690,0 808,0 808,-68\" stroke=\"#000000\"/>\n<text fill=\"#000000\" font-family=\"Helvetica,sans-Serif\" font-size=\"14.00\" text-anchor=\"middle\" x=\"749\" y=\"-52.8\">entropy = 0.956</text>\n<text fill=\"#000000\" font-family=\"Helvetica,sans-Serif\" font-size=\"14.00\" text-anchor=\"middle\" x=\"749\" y=\"-37.8\">samples = 69</text>\n<text fill=\"#000000\" font-family=\"Helvetica,sans-Serif\" font-size=\"14.00\" text-anchor=\"middle\" x=\"749\" y=\"-22.8\">value = [43, 26]</text>\n<text fill=\"#000000\" font-family=\"Helvetica,sans-Serif\" font-size=\"14.00\" text-anchor=\"middle\" x=\"749\" y=\"-7.8\">class = 0</text>\n</g>\n<!-- 9&#45;&gt;11 -->\n<g class=\"edge\" id=\"edge15\">\n<title>9-&gt;11</title>\n<path d=\"M749,-103.9815C749,-95.618 749,-86.7965 749,-78.3409\" fill=\"none\" stroke=\"#000000\"/>\n<polygon fill=\"#000000\" points=\"752.5001,-78.2636 749,-68.2637 745.5001,-78.2637 752.5001,-78.2636\" stroke=\"#000000\"/>\n</g>\n<!-- 12 -->\n<g class=\"node\" id=\"node17\">\n<title>12</title>\n<polygon fill=\"#3d9fe6\" points=\"944,-68 826,-68 826,0 944,0 944,-68\" stroke=\"#000000\"/>\n<text fill=\"#000000\" font-family=\"Helvetica,sans-Serif\" font-size=\"14.00\" text-anchor=\"middle\" x=\"885\" y=\"-52.8\">entropy = 0.135</text>\n<text fill=\"#000000\" font-family=\"Helvetica,sans-Serif\" font-size=\"14.00\" text-anchor=\"middle\" x=\"885\" y=\"-37.8\">samples = 53</text>\n<text fill=\"#000000\" font-family=\"Helvetica,sans-Serif\" font-size=\"14.00\" text-anchor=\"middle\" x=\"885\" y=\"-22.8\">value = [1, 52]</text>\n<text fill=\"#000000\" font-family=\"Helvetica,sans-Serif\" font-size=\"14.00\" text-anchor=\"middle\" x=\"885\" y=\"-7.8\">class = 1</text>\n</g>\n<!-- 9&#45;&gt;12 -->\n<g class=\"edge\" id=\"edge16\">\n<title>9-&gt;12</title>\n<path d=\"M799.6414,-103.9815C811.2999,-94.4232 823.688,-84.2668 835.3059,-74.7419\" fill=\"none\" stroke=\"#000000\"/>\n<polygon fill=\"#000000\" points=\"837.6933,-77.3105 843.2075,-68.2637 833.2552,-71.8972 837.6933,-77.3105\" stroke=\"#000000\"/>\n</g>\n</g>\n</svg>"
          },
          "metadata": {}
        }
      ]
    },
    {
      "cell_type": "code",
      "metadata": {
        "id": "VAs7iAAGT1rm"
      },
      "source": [
        ""
      ],
      "execution_count": 113,
      "outputs": []
    },
    {
      "cell_type": "markdown",
      "metadata": {
        "id": "qEQYGggVTEIU"
      },
      "source": [
        "# Random Forest Classifier\n"
      ]
    },
    {
      "cell_type": "code",
      "metadata": {
        "id": "TOm0dHVGBCOd"
      },
      "source": [
        "from sklearn.ensemble import RandomForestClassifier"
      ],
      "execution_count": 114,
      "outputs": []
    },
    {
      "cell_type": "code",
      "metadata": {
        "id": "8gI_t0M7TKBX",
        "colab": {
          "base_uri": "https://localhost:8080/"
        },
        "outputId": "3817c61f-38e8-4479-a209-db3ae4480363"
      },
      "source": [
        "# creating instance of random forest and fitting data\n",
        "\n",
        "rf_model=RandomForestClassifier(random_state=0)\n",
        "rf_model.fit(X_train,Y_train)"
      ],
      "execution_count": 115,
      "outputs": [
        {
          "output_type": "execute_result",
          "data": {
            "text/plain": [
              "RandomForestClassifier(random_state=0)"
            ]
          },
          "metadata": {},
          "execution_count": 115
        }
      ]
    },
    {
      "cell_type": "code",
      "metadata": {
        "id": "p7aC2ZbJTQG9"
      },
      "source": [
        "# predicting for both train and test\n",
        "\n",
        "y_pred_train1=rf_model.predict(X_train)\n",
        "y_pred_test1=rf_model.predict(X_test)"
      ],
      "execution_count": 116,
      "outputs": []
    },
    {
      "cell_type": "code",
      "metadata": {
        "id": "U-2fj0nrTT9y",
        "colab": {
          "base_uri": "https://localhost:8080/"
        },
        "outputId": "f2df636d-df63-450c-cff4-361273678008"
      },
      "source": [
        "# checking predicted values for test set\n",
        "\n",
        "y_pred_test1"
      ],
      "execution_count": 117,
      "outputs": [
        {
          "output_type": "execute_result",
          "data": {
            "text/plain": [
              "array([1, 0, 1, 1, 1, 0, 0, 1, 1, 0, 0, 1, 0, 1, 1, 0, 1, 1, 1, 0, 0, 0,\n",
              "       1, 0, 1, 1, 1, 0, 1, 0, 0, 0, 0, 0, 1, 1, 0, 0, 1, 1, 1, 0, 1, 1,\n",
              "       0, 1, 0, 0, 1, 0, 0, 1, 0, 1, 0, 1, 1, 0, 0, 1, 1, 0, 1, 1, 0, 1,\n",
              "       1, 1, 0, 1, 1, 1, 0, 0, 0, 1, 1, 1, 1, 1, 1, 1, 1, 0, 0, 0, 1, 0,\n",
              "       1, 1, 0, 1, 1, 0, 0, 1, 1, 1, 0, 1, 0, 1, 1, 0, 1, 1, 1, 1, 1, 1,\n",
              "       1, 0, 0, 1, 1, 1, 0, 0, 0, 0, 0, 1, 1, 1, 0, 1, 0, 0, 0, 1, 0, 1,\n",
              "       1, 1, 1, 1, 1, 1, 0, 0, 0, 1, 1, 1, 0, 1, 0, 0, 1, 0, 0, 0, 0, 0,\n",
              "       1, 0, 0, 1, 0, 1, 1, 0, 1, 0, 1, 1, 1, 1, 0, 0, 1, 1, 1, 1, 1, 0,\n",
              "       0, 1, 1, 0, 1, 0, 0, 0, 1, 0, 1, 0, 1, 1, 0, 0, 0, 1, 1, 0, 0, 1,\n",
              "       0, 0, 1, 1, 1, 0, 0, 1, 1, 1, 0, 0, 0, 1, 1, 1, 0, 0, 0, 1, 1, 1,\n",
              "       1, 1, 0, 0, 1, 1, 1, 1, 0, 1, 0, 0, 0, 1, 1, 0, 1, 1, 0, 0, 0, 1,\n",
              "       1, 1, 0, 0, 0, 1, 1, 0, 1, 0, 1, 0, 0, 0, 0, 1, 1, 1, 0, 0, 0, 1,\n",
              "       1, 1, 1, 1, 1, 0, 0, 1, 1, 1, 0, 1, 1, 1, 1, 0, 0, 1, 0, 0, 0, 0,\n",
              "       1, 1, 1, 1, 0, 0, 1, 0, 0, 1, 1, 0, 1, 0, 0, 0, 1, 0, 0, 1, 1, 0,\n",
              "       1, 0, 0, 0, 1, 0, 1, 1, 1, 1, 0, 0, 1, 0, 0, 0, 0, 0, 0, 1, 0, 0,\n",
              "       1, 0, 0, 0, 1, 0, 1, 1, 1, 0, 0, 1, 0, 1, 0, 0, 1, 0, 0, 0, 1, 0,\n",
              "       0, 1, 0, 1, 1, 1, 1, 0, 1, 1, 1, 0, 1, 1, 1, 1, 1, 0, 1, 0, 1, 0,\n",
              "       0, 0, 1, 1, 0, 1, 0, 0, 0, 0, 1, 1, 0, 0, 0, 1, 0, 1, 0, 0, 1, 0,\n",
              "       0, 0, 1, 0])"
            ]
          },
          "metadata": {},
          "execution_count": 117
        }
      ]
    },
    {
      "cell_type": "code",
      "metadata": {
        "id": "VwA6OxE-TXC0"
      },
      "source": [
        "from sklearn.metrics import accuracy_score,precision_score,recall_score,confusion_matrix,f1_score,classification_report,roc_auc_score"
      ],
      "execution_count": 118,
      "outputs": []
    },
    {
      "cell_type": "code",
      "metadata": {
        "id": "MxtfSOetTdZ6",
        "colab": {
          "base_uri": "https://localhost:8080/"
        },
        "outputId": "1cca0880-b896-4661-fbca-79335d4c1673"
      },
      "source": [
        "# evalutaing the model using metrics\n",
        "# finding each of the metrics for training set\n",
        "\n",
        "print('The evaluation metric values for training set - Random forest:')\n",
        "print('The accuracy of training set = ',accuracy_score(Y_train,y_pred_train1))\n",
        "print('The precision of training set = ',precision_score(Y_train,y_pred_train1,average=None))\n",
        "print('The recall of training set = ',recall_score(Y_train,y_pred_train1,average=None))\n",
        "print('The f1 score of training set = ',f1_score(Y_train,y_pred_train1,average=None))\n",
        "print('The roc_auc_score of training set =',roc_auc_score(y_pred_train1,Y_train,average=None))\n",
        "print('The confusion matrix of training set = \\n',confusion_matrix(Y_train,y_pred_train1))"
      ],
      "execution_count": 119,
      "outputs": [
        {
          "output_type": "stream",
          "name": "stdout",
          "text": [
            "The evaluation metric values for training set - Random forest:\n",
            "The accuracy of training set =  1.0\n",
            "The precision of training set =  [1. 1.]\n",
            "The recall of training set =  [1. 1.]\n",
            "The f1 score of training set =  [1. 1.]\n",
            "The roc_auc_score of training set = 1.0\n",
            "The confusion matrix of training set = \n",
            " [[813   0]\n",
            " [  0 787]]\n"
          ]
        }
      ]
    },
    {
      "cell_type": "code",
      "metadata": {
        "id": "ZIrQZ9drTpRG",
        "colab": {
          "base_uri": "https://localhost:8080/"
        },
        "outputId": "5516e4ab-ffce-4468-b01d-16f41af31896"
      },
      "source": [
        "# finding each of the metrics for test set\n",
        "\n",
        "print('The evaluation metric values for test set - Random forest:')\n",
        "print('The accuracy of test set = ',accuracy_score(Y_test,y_pred_test1))\n",
        "print('The precision of test set = ',precision_score(Y_test,y_pred_test1,average=None))\n",
        "print('The recall of test set = ',recall_score(Y_test,y_pred_test1,average=None))\n",
        "print('The f1 score of test set = ',f1_score(Y_test,y_pred_test1,average=None))\n",
        "print('The roc_auc_score of training set =',roc_auc_score(y_pred_test1,Y_test,average=None))\n",
        "print('The confusion matrix of test set = \\n',confusion_matrix(Y_test,y_pred_test1))"
      ],
      "execution_count": 120,
      "outputs": [
        {
          "output_type": "stream",
          "name": "stdout",
          "text": [
            "The evaluation metric values for test set - Random forest:\n",
            "The accuracy of test set =  0.94\n",
            "The precision of test set =  [0.92670157 0.95215311]\n",
            "The recall of test set =  [0.94652406 0.9342723 ]\n",
            "The f1 score of test set =  [0.93650794 0.94312796]\n",
            "The roc_auc_score of training set = 0.9394273403642377\n",
            "The confusion matrix of test set = \n",
            " [[177  10]\n",
            " [ 14 199]]\n"
          ]
        }
      ]
    },
    {
      "cell_type": "code",
      "metadata": {
        "id": "okh_sA86TzLs",
        "colab": {
          "base_uri": "https://localhost:8080/"
        },
        "outputId": "dacae75c-7d52-46ff-813e-3b2bb320fc69"
      },
      "source": [
        "# checking classification report for test set\n",
        "\n",
        "print(classification_report(Y_test,y_pred_test1))"
      ],
      "execution_count": 121,
      "outputs": [
        {
          "output_type": "stream",
          "name": "stdout",
          "text": [
            "              precision    recall  f1-score   support\n",
            "\n",
            "           0       0.93      0.95      0.94       187\n",
            "           1       0.95      0.93      0.94       213\n",
            "\n",
            "    accuracy                           0.94       400\n",
            "   macro avg       0.94      0.94      0.94       400\n",
            "weighted avg       0.94      0.94      0.94       400\n",
            "\n"
          ]
        }
      ]
    },
    {
      "cell_type": "code",
      "metadata": {
        "id": "rgHXlN1SUP-V"
      },
      "source": [
        "# storing metric values in train df for later comparisons\n",
        "\n",
        "dict1={'Model':'Random Forest - Before hyperparameter tuning',\n",
        "       'Accuracy':round(accuracy_score(Y_train,y_pred_train1),2),\n",
        "       'Precision':[list(np.around(precision_score(Y_train,y_pred_train1,average=None),decimals=2))],\n",
        "       'Recall':[list(np.around(recall_score(Y_train,y_pred_train1,average=None),decimals=2))],\n",
        "       'F1_score':[list(np.around(f1_score(Y_train,y_pred_train1,average=None),decimals=2))],\n",
        "      #  'roc_auc_score':[list(np.around(roc_auc_score(y_pred_train1,Y_train,average=None),decimals=2))],\n",
        "       'Comments':'Possible overfitting'}\n",
        "training_df= training_df.append(dict1,ignore_index=True)"
      ],
      "execution_count": 122,
      "outputs": []
    },
    {
      "cell_type": "code",
      "metadata": {
        "id": "2lLcPTHNUYLi"
      },
      "source": [
        "# storing metric values in test df for later comparisons\n",
        "\n",
        "dict2={'Model':'Random Forest - Before hyperparameter tuning',\n",
        "       'Accuracy':round(accuracy_score(Y_test,y_pred_test1),2),\n",
        "       'Precision':[list(np.around(precision_score(Y_test,y_pred_test1,average=None),decimals=2))],\n",
        "       'Recall':[list(np.around(recall_score(Y_test,y_pred_test1,average=None),decimals=2))],\n",
        "       'F1_score':[list(np.around(f1_score(Y_test,y_pred_test1,average=None),decimals=2))],\n",
        "      #  'roc_auc_score':[list(np.around(roc_auc_score(y_pred_test1,Y_test,average=None),decimals=2))],\n",
        "\n",
        "       'Comments':'Possible overfitting'}\n",
        "test_df=test_df.append(dict2,ignore_index=True)"
      ],
      "execution_count": 123,
      "outputs": []
    },
    {
      "cell_type": "markdown",
      "metadata": {
        "id": "9A22MM8OUmQp"
      },
      "source": [
        "Cross-validation using RandomSearch"
      ]
    },
    {
      "cell_type": "code",
      "metadata": {
        "id": "a8pKNWNIUes8"
      },
      "source": [
        "# Setting the parameters to tune\n",
        "\n",
        "# Number of trees\n",
        "n_estimators = list(np.arange(80,200,20,dtype='int64'))\n",
        "\n",
        "# Maximum depth of trees\n",
        "max_depth = list(np.arange(12,30,2,dtype='int64'))\n",
        "\n",
        "# Minimum number of samples required to split a node\n",
        "min_samples_split = list(np.arange(50,200,10,dtype='int64'))\n",
        "\n",
        "# Minimum number of samples required at each leaf node\n",
        "min_samples_leaf = list(np.arange(40,80,10,dtype='int64'))\n",
        "\n",
        "# Max Features\n",
        "max_features=['auto','log2']\n",
        "\n",
        "# HYperparameter Grid\n",
        "param_dict1 = {'n_estimators' : n_estimators,\n",
        "              'max_depth' : max_depth,\n",
        "              'min_samples_split' : min_samples_split,\n",
        "              'min_samples_leaf' : min_samples_leaf,\n",
        "              'max_features':max_features}"
      ],
      "execution_count": 124,
      "outputs": []
    },
    {
      "cell_type": "code",
      "metadata": {
        "id": "LRcvsLwsUepg",
        "colab": {
          "base_uri": "https://localhost:8080/"
        },
        "outputId": "c67520dc-7058-468f-8235-3ea99b51b93c"
      },
      "source": [
        "# Random search\n",
        "\n",
        "rf_random = RandomizedSearchCV(estimator=rf_model,param_distributions = param_dict1,cv = 5,scoring='accuracy',n_jobs=-1,random_state=0)\n",
        "rf_random.fit(X_train,Y_train)"
      ],
      "execution_count": 125,
      "outputs": [
        {
          "output_type": "execute_result",
          "data": {
            "text/plain": [
              "RandomizedSearchCV(cv=5, estimator=RandomForestClassifier(random_state=0),\n",
              "                   n_jobs=-1,\n",
              "                   param_distributions={'max_depth': [12, 14, 16, 18, 20, 22,\n",
              "                                                      24, 26, 28],\n",
              "                                        'max_features': ['auto', 'log2'],\n",
              "                                        'min_samples_leaf': [40, 50, 60, 70],\n",
              "                                        'min_samples_split': [50, 60, 70, 80,\n",
              "                                                              90, 100, 110, 120,\n",
              "                                                              130, 140, 150,\n",
              "                                                              160, 170, 180,\n",
              "                                                              190],\n",
              "                                        'n_estimators': [80, 100, 120, 140, 160,\n",
              "                                                         180]},\n",
              "                   random_state=0, scoring='accuracy')"
            ]
          },
          "metadata": {},
          "execution_count": 125
        }
      ]
    },
    {
      "cell_type": "code",
      "metadata": {
        "id": "kTZBWsUzUenQ",
        "colab": {
          "base_uri": "https://localhost:8080/"
        },
        "outputId": "e0fd3a90-f7d1-4323-d533-957b211f7473"
      },
      "source": [
        "# checking the best estimator\n",
        "\n",
        "rf_random.best_estimator_"
      ],
      "execution_count": 126,
      "outputs": [
        {
          "output_type": "execute_result",
          "data": {
            "text/plain": [
              "RandomForestClassifier(max_depth=20, max_features='log2', min_samples_leaf=40,\n",
              "                       min_samples_split=90, n_estimators=80, random_state=0)"
            ]
          },
          "metadata": {},
          "execution_count": 126
        }
      ]
    },
    {
      "cell_type": "code",
      "metadata": {
        "id": "eCcxIVV1UekE",
        "colab": {
          "base_uri": "https://localhost:8080/"
        },
        "outputId": "8f89090c-0f8e-4a0d-d5f9-4273d31e52f1"
      },
      "source": [
        "# checking the best parameters\n",
        "\n",
        "rf_random.best_params_"
      ],
      "execution_count": 127,
      "outputs": [
        {
          "output_type": "execute_result",
          "data": {
            "text/plain": [
              "{'max_depth': 20,\n",
              " 'max_features': 'log2',\n",
              " 'min_samples_leaf': 40,\n",
              " 'min_samples_split': 90,\n",
              " 'n_estimators': 80}"
            ]
          },
          "metadata": {},
          "execution_count": 127
        }
      ]
    },
    {
      "cell_type": "code",
      "metadata": {
        "id": "aLkovqb2Uefi"
      },
      "source": [
        "# storing the best estimator in a variable\n",
        "\n",
        "rf_optimal_model1=rf_random.best_estimator_"
      ],
      "execution_count": 128,
      "outputs": []
    },
    {
      "cell_type": "code",
      "metadata": {
        "id": "dHKd8ppQUecw"
      },
      "source": [
        "# predicting on both train and test\n",
        "\n",
        "y_pred_train2=rf_optimal_model1.predict(X_train)\n",
        "y_pred_test2=rf_optimal_model1.predict(X_test)"
      ],
      "execution_count": 129,
      "outputs": []
    },
    {
      "cell_type": "code",
      "metadata": {
        "id": "bn7uQF4rUeZr",
        "colab": {
          "base_uri": "https://localhost:8080/"
        },
        "outputId": "e04c0c86-7d23-417f-8c94-d4acf650537c"
      },
      "source": [
        "# looking the predicted values for test set\n",
        "\n",
        "y_pred_test2"
      ],
      "execution_count": 130,
      "outputs": [
        {
          "output_type": "execute_result",
          "data": {
            "text/plain": [
              "array([1, 0, 1, 0, 1, 0, 0, 1, 1, 0, 0, 1, 0, 1, 1, 0, 1, 1, 1, 0, 0, 0,\n",
              "       1, 0, 0, 1, 1, 0, 1, 0, 0, 0, 0, 0, 1, 1, 0, 0, 1, 1, 1, 0, 1, 1,\n",
              "       0, 1, 0, 0, 1, 0, 0, 1, 0, 1, 0, 1, 1, 0, 0, 1, 1, 0, 1, 1, 1, 1,\n",
              "       1, 1, 0, 1, 1, 1, 0, 0, 0, 1, 1, 1, 1, 0, 1, 1, 1, 0, 0, 0, 1, 0,\n",
              "       0, 1, 0, 1, 1, 0, 0, 1, 1, 1, 0, 1, 0, 1, 1, 0, 1, 0, 1, 1, 1, 1,\n",
              "       1, 0, 0, 1, 1, 1, 0, 0, 0, 0, 0, 1, 1, 1, 0, 1, 0, 0, 0, 1, 0, 1,\n",
              "       1, 1, 1, 1, 1, 0, 0, 0, 0, 1, 1, 1, 0, 1, 0, 0, 1, 0, 0, 0, 0, 0,\n",
              "       1, 0, 0, 1, 0, 1, 1, 0, 1, 0, 1, 1, 1, 1, 0, 0, 1, 1, 1, 1, 1, 0,\n",
              "       0, 1, 1, 0, 1, 0, 0, 0, 1, 0, 1, 0, 1, 1, 0, 0, 0, 1, 1, 0, 0, 1,\n",
              "       0, 0, 1, 1, 1, 0, 0, 1, 1, 1, 0, 0, 0, 1, 1, 1, 0, 0, 0, 1, 1, 1,\n",
              "       1, 1, 0, 0, 1, 1, 1, 1, 0, 1, 0, 0, 0, 1, 1, 0, 1, 1, 0, 0, 0, 1,\n",
              "       1, 1, 0, 0, 0, 1, 1, 0, 1, 0, 1, 0, 0, 0, 0, 1, 1, 1, 0, 0, 0, 1,\n",
              "       1, 1, 1, 1, 1, 0, 0, 1, 1, 1, 1, 1, 1, 1, 1, 0, 0, 1, 0, 0, 0, 0,\n",
              "       1, 1, 1, 1, 0, 0, 1, 0, 0, 1, 1, 0, 1, 0, 0, 0, 1, 0, 0, 1, 1, 0,\n",
              "       0, 0, 0, 0, 1, 0, 1, 1, 1, 1, 0, 0, 1, 0, 0, 0, 0, 0, 0, 1, 0, 0,\n",
              "       1, 0, 0, 0, 1, 0, 1, 1, 1, 0, 0, 1, 0, 1, 0, 0, 1, 1, 1, 0, 1, 0,\n",
              "       0, 1, 0, 1, 1, 0, 1, 0, 1, 1, 1, 0, 1, 1, 1, 1, 1, 0, 1, 0, 1, 0,\n",
              "       0, 0, 1, 1, 0, 1, 0, 0, 0, 0, 1, 1, 0, 0, 0, 1, 0, 1, 0, 0, 1, 0,\n",
              "       0, 0, 1, 0])"
            ]
          },
          "metadata": {},
          "execution_count": 130
        }
      ]
    },
    {
      "cell_type": "code",
      "metadata": {
        "id": "b6EACJyFUeWi",
        "colab": {
          "base_uri": "https://localhost:8080/"
        },
        "outputId": "cdaf3e10-37d4-4341-9578-07d044aa4cd1"
      },
      "source": [
        "# evalutaing the model using metrics\n",
        "# finding each of the metrics for training set\n",
        "\n",
        "print('The evaluation metric values for training set - Random forest:')\n",
        "print('The accuracy of training set = ',accuracy_score(Y_train,y_pred_train2))\n",
        "print('The precision of training set = ',precision_score(Y_train,y_pred_train2,average=None))\n",
        "print('The recall of training set = ',recall_score(Y_train,y_pred_train2,average=None))\n",
        "print('The f1 score of training set = ',f1_score(Y_train,y_pred_train2,average=None))\n",
        "print('The roc_auc_score of training set =',roc_auc_score(y_pred_train2,Y_train,average=None))\n",
        "print('The confusion matrix of training set = \\n',confusion_matrix(Y_train,y_pred_train2))"
      ],
      "execution_count": 131,
      "outputs": [
        {
          "output_type": "stream",
          "name": "stdout",
          "text": [
            "The evaluation metric values for training set - Random forest:\n",
            "The accuracy of training set =  0.935625\n",
            "The precision of training set =  [0.92464115 0.94764398]\n",
            "The recall of training set =  [0.95079951 0.91994917]\n",
            "The f1 score of training set =  [0.9375379  0.93359123]\n",
            "The roc_auc_score of training set = 0.9361425636914753\n",
            "The confusion matrix of training set = \n",
            " [[773  40]\n",
            " [ 63 724]]\n"
          ]
        }
      ]
    },
    {
      "cell_type": "code",
      "metadata": {
        "id": "dKj9ZDdaUeUL",
        "colab": {
          "base_uri": "https://localhost:8080/"
        },
        "outputId": "8ce64b94-8f1c-40f4-af5a-a4515af623a5"
      },
      "source": [
        "# finding each of the metrics for test set\n",
        "\n",
        "print('The evaluation metric values for test set - Random forest:')\n",
        "print('The accuracy of test set = ',accuracy_score(Y_test,y_pred_test2))\n",
        "print('The precision of test set = ',precision_score(Y_test,y_pred_test2,average=None))\n",
        "print('The recall of test set = ',recall_score(Y_test,y_pred_test2,average=None))\n",
        "print('The f1 score of test set = ',f1_score(Y_test,y_pred_test2,average=None))\n",
        "print('The roc_auc_score of training set =',roc_auc_score(y_pred_test2,Y_test,average=None))\n",
        "print('The confusion matrix of test set = \\n',confusion_matrix(Y_test,y_pred_test2))"
      ],
      "execution_count": 132,
      "outputs": [
        {
          "output_type": "stream",
          "name": "stdout",
          "text": [
            "The evaluation metric values for test set - Random forest:\n",
            "The accuracy of test set =  0.91\n",
            "The precision of test set =  [0.88717949 0.93170732]\n",
            "The recall of test set =  [0.92513369 0.89671362]\n",
            "The f1 score of test set =  [0.90575916 0.9138756 ]\n",
            "The roc_auc_score of training set = 0.9094434021263289\n",
            "The confusion matrix of test set = \n",
            " [[173  14]\n",
            " [ 22 191]]\n"
          ]
        }
      ]
    },
    {
      "cell_type": "code",
      "metadata": {
        "id": "ZN8mZPMKUeMs",
        "colab": {
          "base_uri": "https://localhost:8080/"
        },
        "outputId": "251362de-4bd8-4376-a839-4c2173a0829f"
      },
      "source": [
        "# checking classification report for test set\n",
        "\n",
        "print(classification_report(Y_test,y_pred_test2))"
      ],
      "execution_count": 133,
      "outputs": [
        {
          "output_type": "stream",
          "name": "stdout",
          "text": [
            "              precision    recall  f1-score   support\n",
            "\n",
            "           0       0.89      0.93      0.91       187\n",
            "           1       0.93      0.90      0.91       213\n",
            "\n",
            "    accuracy                           0.91       400\n",
            "   macro avg       0.91      0.91      0.91       400\n",
            "weighted avg       0.91      0.91      0.91       400\n",
            "\n"
          ]
        }
      ]
    },
    {
      "cell_type": "markdown",
      "metadata": {
        "id": "AZeoijc8Vyad"
      },
      "source": [
        "Now let's try cross-validation using BayesSearch"
      ]
    },
    {
      "cell_type": "code",
      "metadata": {
        "id": "rTDgRQMvVpnB",
        "colab": {
          "base_uri": "https://localhost:8080/"
        },
        "outputId": "5b9f1c2c-06ec-49b6-bb19-0a871c8dbfbd"
      },
      "source": [
        "# installing Bayes Search\n",
        "\n",
        "! pip install scikit-optimize\n",
        "from skopt import BayesSearchCV"
      ],
      "execution_count": 134,
      "outputs": [
        {
          "output_type": "stream",
          "name": "stdout",
          "text": [
            "Collecting scikit-optimize\n",
            "  Downloading scikit_optimize-0.9.0-py2.py3-none-any.whl (100 kB)\n",
            "\u001b[?25l\r\u001b[K     |███▎                            | 10 kB 26.5 MB/s eta 0:00:01\r\u001b[K     |██████▌                         | 20 kB 29.7 MB/s eta 0:00:01\r\u001b[K     |█████████▉                      | 30 kB 18.3 MB/s eta 0:00:01\r\u001b[K     |█████████████                   | 40 kB 6.7 MB/s eta 0:00:01\r\u001b[K     |████████████████▍               | 51 kB 7.2 MB/s eta 0:00:01\r\u001b[K     |███████████████████▋            | 61 kB 8.4 MB/s eta 0:00:01\r\u001b[K     |██████████████████████▉         | 71 kB 8.1 MB/s eta 0:00:01\r\u001b[K     |██████████████████████████▏     | 81 kB 9.0 MB/s eta 0:00:01\r\u001b[K     |█████████████████████████████▍  | 92 kB 9.3 MB/s eta 0:00:01\r\u001b[K     |████████████████████████████████| 100 kB 5.1 MB/s \n",
            "\u001b[?25hRequirement already satisfied: scipy>=0.19.1 in /usr/local/lib/python3.7/dist-packages (from scikit-optimize) (1.4.1)\n",
            "Collecting pyaml>=16.9\n",
            "  Downloading pyaml-21.10.1-py2.py3-none-any.whl (24 kB)\n",
            "Requirement already satisfied: scikit-learn>=0.20.0 in /usr/local/lib/python3.7/dist-packages (from scikit-optimize) (1.0.1)\n",
            "Requirement already satisfied: joblib>=0.11 in /usr/local/lib/python3.7/dist-packages (from scikit-optimize) (1.1.0)\n",
            "Requirement already satisfied: numpy>=1.13.3 in /usr/local/lib/python3.7/dist-packages (from scikit-optimize) (1.19.5)\n",
            "Requirement already satisfied: PyYAML in /usr/local/lib/python3.7/dist-packages (from pyaml>=16.9->scikit-optimize) (3.13)\n",
            "Requirement already satisfied: threadpoolctl>=2.0.0 in /usr/local/lib/python3.7/dist-packages (from scikit-learn>=0.20.0->scikit-optimize) (3.0.0)\n",
            "Installing collected packages: pyaml, scikit-optimize\n",
            "Successfully installed pyaml-21.10.1 scikit-optimize-0.9.0\n"
          ]
        }
      ]
    },
    {
      "cell_type": "code",
      "metadata": {
        "id": "SrY4_EEGVpje",
        "colab": {
          "base_uri": "https://localhost:8080/"
        },
        "outputId": "0c59ff6e-f7a7-4b63-d0ca-2129d1a19d87"
      },
      "source": [
        "# creating a bayes model\n",
        "\n",
        "rf_bayes = BayesSearchCV(estimator=rf_model,\n",
        "                       search_spaces = {\n",
        "                          'max_depth': (4,8),\n",
        "                          'min_samples_leaf': (10,100),\n",
        "                          'min_samples_split': (50,150),\n",
        "                          'n_estimators': (80,200)\n",
        "                        },\n",
        "                       cv = 5, scoring='accuracy',random_state=0)\n",
        "\n",
        "rf_bayes.fit(X_train,Y_train)"
      ],
      "execution_count": 135,
      "outputs": [
        {
          "output_type": "stream",
          "name": "stderr",
          "text": [
            "/usr/local/lib/python3.7/dist-packages/skopt/optimizer/optimizer.py:449: UserWarning: The objective has been evaluated at this point before.\n",
            "  warnings.warn(\"The objective has been evaluated \"\n",
            "/usr/local/lib/python3.7/dist-packages/skopt/optimizer/optimizer.py:449: UserWarning: The objective has been evaluated at this point before.\n",
            "  warnings.warn(\"The objective has been evaluated \"\n",
            "/usr/local/lib/python3.7/dist-packages/skopt/optimizer/optimizer.py:449: UserWarning: The objective has been evaluated at this point before.\n",
            "  warnings.warn(\"The objective has been evaluated \"\n",
            "/usr/local/lib/python3.7/dist-packages/skopt/optimizer/optimizer.py:449: UserWarning: The objective has been evaluated at this point before.\n",
            "  warnings.warn(\"The objective has been evaluated \"\n",
            "/usr/local/lib/python3.7/dist-packages/skopt/optimizer/optimizer.py:449: UserWarning: The objective has been evaluated at this point before.\n",
            "  warnings.warn(\"The objective has been evaluated \"\n",
            "/usr/local/lib/python3.7/dist-packages/skopt/optimizer/optimizer.py:449: UserWarning: The objective has been evaluated at this point before.\n",
            "  warnings.warn(\"The objective has been evaluated \"\n",
            "/usr/local/lib/python3.7/dist-packages/skopt/optimizer/optimizer.py:449: UserWarning: The objective has been evaluated at this point before.\n",
            "  warnings.warn(\"The objective has been evaluated \"\n",
            "/usr/local/lib/python3.7/dist-packages/skopt/optimizer/optimizer.py:449: UserWarning: The objective has been evaluated at this point before.\n",
            "  warnings.warn(\"The objective has been evaluated \"\n"
          ]
        },
        {
          "output_type": "execute_result",
          "data": {
            "text/plain": [
              "BayesSearchCV(cv=5, estimator=RandomForestClassifier(random_state=0),\n",
              "              random_state=0, scoring='accuracy',\n",
              "              search_spaces={'max_depth': (4, 8), 'min_samples_leaf': (10, 100),\n",
              "                             'min_samples_split': (50, 150),\n",
              "                             'n_estimators': (80, 200)})"
            ]
          },
          "metadata": {},
          "execution_count": 135
        }
      ]
    },
    {
      "cell_type": "code",
      "metadata": {
        "id": "_s6IG5E3Vpgm",
        "colab": {
          "base_uri": "https://localhost:8080/"
        },
        "outputId": "6a6de031-e135-4711-f9c5-b38133fcb89b"
      },
      "source": [
        "# checking the best estimator\n",
        "\n",
        "rf_bayes.best_estimator_"
      ],
      "execution_count": 136,
      "outputs": [
        {
          "output_type": "execute_result",
          "data": {
            "text/plain": [
              "RandomForestClassifier(max_depth=7, min_samples_leaf=10, min_samples_split=56,\n",
              "                       n_estimators=199, random_state=0)"
            ]
          },
          "metadata": {},
          "execution_count": 136
        }
      ]
    },
    {
      "cell_type": "code",
      "metadata": {
        "id": "0iedJNrRVpVA",
        "colab": {
          "base_uri": "https://localhost:8080/"
        },
        "outputId": "dbc9439f-22ae-4222-fa74-7cfd9adc495f"
      },
      "source": [
        "# checking the best parameters\n",
        "\n",
        "rf_bayes.best_params_"
      ],
      "execution_count": 137,
      "outputs": [
        {
          "output_type": "execute_result",
          "data": {
            "text/plain": [
              "OrderedDict([('max_depth', 7),\n",
              "             ('min_samples_leaf', 10),\n",
              "             ('min_samples_split', 56),\n",
              "             ('n_estimators', 199)])"
            ]
          },
          "metadata": {},
          "execution_count": 137
        }
      ]
    },
    {
      "cell_type": "code",
      "metadata": {
        "id": "1l6FC2Z0VpRr"
      },
      "source": [
        "# storing the best estimator in a variable\n",
        "\n",
        "rf_optimal_model2=rf_bayes.best_estimator_"
      ],
      "execution_count": 138,
      "outputs": []
    },
    {
      "cell_type": "code",
      "metadata": {
        "id": "tjjNF553VpOc"
      },
      "source": [
        "# predicting on both train and test\n",
        "\n",
        "y_pred_train3=rf_optimal_model2.predict(X_train)\n",
        "y_pred_test3=rf_optimal_model2.predict(X_test)"
      ],
      "execution_count": 139,
      "outputs": []
    },
    {
      "cell_type": "code",
      "metadata": {
        "id": "HLKGcYSIVpLh",
        "colab": {
          "base_uri": "https://localhost:8080/"
        },
        "outputId": "507f1fe5-a54f-4039-da40-e966e37acaf0"
      },
      "source": [
        "# looking the predicted values for test set\n",
        "\n",
        "y_pred_test3"
      ],
      "execution_count": 140,
      "outputs": [
        {
          "output_type": "execute_result",
          "data": {
            "text/plain": [
              "array([1, 0, 1, 0, 1, 0, 0, 1, 1, 0, 0, 1, 0, 1, 1, 0, 1, 1, 1, 0, 0, 0,\n",
              "       1, 0, 0, 1, 1, 0, 1, 0, 0, 0, 0, 0, 1, 1, 0, 0, 1, 1, 1, 0, 1, 1,\n",
              "       0, 1, 0, 0, 1, 0, 0, 1, 0, 1, 0, 1, 1, 0, 0, 1, 1, 0, 1, 1, 1, 1,\n",
              "       1, 1, 0, 1, 1, 1, 0, 0, 0, 1, 1, 1, 1, 0, 1, 1, 1, 0, 0, 0, 1, 0,\n",
              "       0, 1, 0, 1, 1, 0, 0, 1, 1, 1, 0, 1, 0, 1, 1, 0, 1, 0, 1, 1, 1, 1,\n",
              "       1, 0, 0, 1, 1, 1, 0, 0, 0, 0, 0, 1, 0, 1, 0, 1, 0, 0, 0, 1, 0, 1,\n",
              "       1, 1, 1, 1, 1, 0, 0, 0, 0, 1, 1, 1, 0, 1, 0, 0, 1, 0, 0, 0, 0, 0,\n",
              "       1, 0, 0, 1, 0, 1, 1, 0, 1, 0, 1, 1, 1, 1, 0, 0, 1, 1, 1, 1, 1, 0,\n",
              "       0, 1, 1, 0, 1, 0, 0, 0, 1, 0, 1, 0, 1, 1, 0, 0, 0, 1, 1, 0, 0, 1,\n",
              "       0, 0, 1, 1, 1, 0, 0, 1, 1, 1, 0, 0, 0, 1, 1, 1, 0, 0, 0, 1, 1, 1,\n",
              "       1, 1, 0, 0, 1, 1, 1, 1, 0, 1, 0, 0, 0, 1, 1, 0, 1, 1, 0, 0, 0, 1,\n",
              "       1, 1, 0, 0, 0, 1, 1, 0, 1, 0, 1, 0, 0, 0, 0, 1, 1, 1, 0, 0, 0, 1,\n",
              "       1, 1, 1, 1, 1, 0, 0, 1, 1, 1, 1, 1, 1, 1, 1, 0, 0, 1, 0, 0, 0, 0,\n",
              "       1, 1, 1, 1, 0, 0, 1, 0, 0, 1, 1, 0, 1, 0, 0, 0, 1, 0, 0, 1, 1, 0,\n",
              "       0, 0, 0, 0, 1, 0, 1, 1, 1, 1, 0, 0, 1, 0, 0, 0, 0, 0, 0, 1, 0, 0,\n",
              "       1, 0, 0, 0, 1, 0, 1, 1, 1, 0, 0, 1, 0, 1, 0, 0, 1, 1, 1, 0, 1, 0,\n",
              "       0, 1, 0, 1, 1, 1, 1, 0, 1, 1, 1, 0, 1, 1, 1, 1, 1, 0, 1, 0, 1, 0,\n",
              "       0, 0, 1, 1, 0, 1, 0, 0, 0, 0, 1, 1, 0, 0, 0, 1, 0, 1, 0, 0, 1, 0,\n",
              "       0, 0, 1, 0])"
            ]
          },
          "metadata": {},
          "execution_count": 140
        }
      ]
    },
    {
      "cell_type": "code",
      "metadata": {
        "id": "3ym4I5S-VpIn",
        "colab": {
          "base_uri": "https://localhost:8080/"
        },
        "outputId": "d4f4520d-3582-4c17-bc5e-0d4095ba56af"
      },
      "source": [
        "# evalutaing the model using metrics\n",
        "# finding each of the metrics for training set\n",
        "\n",
        "print('The evaluation metric values for training set - Random forest:')\n",
        "print('The accuracy of training set = ',accuracy_score(Y_train,y_pred_train3))\n",
        "print('The precision of training set = ',precision_score(Y_train,y_pred_train3,average=None))\n",
        "print('The recall of training set = ',recall_score(Y_train,y_pred_train3,average=None))\n",
        "print('The f1 score of training set = ',f1_score(Y_train,y_pred_train3,average=None))\n",
        "print('The roc_auc_score of training set =',roc_auc_score(y_pred_train3,Y_train,average=None))\n",
        "print('The confusion matrix of training set = \\n',confusion_matrix(Y_train,y_pred_train3))"
      ],
      "execution_count": 141,
      "outputs": [
        {
          "output_type": "stream",
          "name": "stdout",
          "text": [
            "The evaluation metric values for training set - Random forest:\n",
            "The accuracy of training set =  0.943125\n",
            "The precision of training set =  [0.93493976 0.95194805]\n",
            "The recall of training set =  [0.95448954 0.93138501]\n",
            "The f1 score of training set =  [0.94461351 0.94155427]\n",
            "The roc_auc_score of training set = 0.9434439054920982\n",
            "The confusion matrix of training set = \n",
            " [[776  37]\n",
            " [ 54 733]]\n"
          ]
        }
      ]
    },
    {
      "cell_type": "code",
      "metadata": {
        "id": "5bBoHwGhVoi5",
        "colab": {
          "base_uri": "https://localhost:8080/"
        },
        "outputId": "eddb997c-f0de-491e-8500-e2efe5222423"
      },
      "source": [
        "# finding each of the metrics for test set\n",
        "\n",
        "print('The evaluation metric values for test set - Random forest:')\n",
        "print('The accuracy of test set = ',accuracy_score(Y_test,y_pred_test3))\n",
        "print('The precision of test set = ',precision_score(Y_test,y_pred_test3,average=None))\n",
        "print('The recall of test set = ',recall_score(Y_test,y_pred_test3,average=None))\n",
        "print('The f1 score of test set = ',f1_score(Y_test,y_pred_test3,average=None))\n",
        "print('The roc_auc_score of training set =',roc_auc_score(y_pred_test3,Y_test,average=None))\n",
        "print('The confusion matrix of test set = \\n',confusion_matrix(Y_test,y_pred_test3))"
      ],
      "execution_count": 142,
      "outputs": [
        {
          "output_type": "stream",
          "name": "stdout",
          "text": [
            "The evaluation metric values for test set - Random forest:\n",
            "The accuracy of test set =  0.91\n",
            "The precision of test set =  [0.88717949 0.93170732]\n",
            "The recall of test set =  [0.92513369 0.89671362]\n",
            "The f1 score of test set =  [0.90575916 0.9138756 ]\n",
            "The roc_auc_score of training set = 0.9094434021263289\n",
            "The confusion matrix of test set = \n",
            " [[173  14]\n",
            " [ 22 191]]\n"
          ]
        }
      ]
    },
    {
      "cell_type": "code",
      "metadata": {
        "id": "jniHYQc6WuF2",
        "colab": {
          "base_uri": "https://localhost:8080/"
        },
        "outputId": "58cfafab-cebc-4b2b-c7aa-edd657f6a126"
      },
      "source": [
        "# checking classification report for test set\n",
        "\n",
        "print(classification_report(Y_test,y_pred_test3))"
      ],
      "execution_count": 143,
      "outputs": [
        {
          "output_type": "stream",
          "name": "stdout",
          "text": [
            "              precision    recall  f1-score   support\n",
            "\n",
            "           0       0.89      0.93      0.91       187\n",
            "           1       0.93      0.90      0.91       213\n",
            "\n",
            "    accuracy                           0.91       400\n",
            "   macro avg       0.91      0.91      0.91       400\n",
            "weighted avg       0.91      0.91      0.91       400\n",
            "\n"
          ]
        }
      ]
    },
    {
      "cell_type": "code",
      "metadata": {
        "id": "5RTuFyJBW42d"
      },
      "source": [
        "# storing metric values in train df for later comparisons\n",
        "\n",
        "dict1={'Model':'Random Forest - After hyperparameter tuning',\n",
        "       'Accuracy':round(accuracy_score(Y_train,y_pred_train3),2),\n",
        "       'Precision':[list(np.around(precision_score(Y_train,y_pred_train3,average=None),decimals=2))],\n",
        "       'Recall':[list(np.around(recall_score(Y_train,y_pred_train3,average=None),decimals=2))],\n",
        "       'F1_score':[list(np.around(f1_score(Y_train,y_pred_train3,average=None),decimals=2))],\n",
        "             #  'roc_auc_score':[list(np.around(roc_auc_score(y_pred_train3,Y_train,average=None),decimals=2))],\n",
        "\n",
        "       'Comments':'Reduced overfitting'}\n",
        "training_df =training_df.append(dict1,ignore_index=True)"
      ],
      "execution_count": 144,
      "outputs": []
    },
    {
      "cell_type": "code",
      "metadata": {
        "id": "jOXXQXi9XPKe"
      },
      "source": [
        "# storing metric values in test df for later comparisons\n",
        "\n",
        "dict2={'Model':'Random Forest - After hyperparameter tuning',\n",
        "       'Accuracy':round(accuracy_score(Y_test,y_pred_test3),2),\n",
        "       'Precision':[list(np.around(precision_score(Y_test,y_pred_test3,average=None),decimals=2))],\n",
        "       'Recall':[list(np.around(recall_score(Y_test,y_pred_test3,average=None),decimals=2))],\n",
        "       'F1_score':[list(np.around(f1_score(Y_test,y_pred_test3,average=None),decimals=2))],\n",
        "             #  'roc_auc_score':[list(np.around(roc_auc_score(y_pred_test3,Y_test,average=None),decimals=2))],\n",
        "\n",
        "       'Comments':'Reduced overfitting'}\n",
        "test_df =test_df.append(dict2,ignore_index=True)"
      ],
      "execution_count": 145,
      "outputs": []
    },
    {
      "cell_type": "code",
      "metadata": {
        "id": "7PI2Md1vT1o9"
      },
      "source": [
        ""
      ],
      "execution_count": 145,
      "outputs": []
    },
    {
      "cell_type": "code",
      "metadata": {
        "id": "0KStv-s1T1mW"
      },
      "source": [
        ""
      ],
      "execution_count": 145,
      "outputs": []
    },
    {
      "cell_type": "code",
      "metadata": {
        "id": "60wJ2j-hT1j2"
      },
      "source": [
        ""
      ],
      "execution_count": 145,
      "outputs": []
    },
    {
      "cell_type": "code",
      "metadata": {
        "id": "UJuD7wTQT1hQ"
      },
      "source": [
        ""
      ],
      "execution_count": 145,
      "outputs": []
    },
    {
      "cell_type": "code",
      "metadata": {
        "id": "8EPXT1LFT1e1"
      },
      "source": [
        ""
      ],
      "execution_count": 145,
      "outputs": []
    },
    {
      "cell_type": "code",
      "metadata": {
        "id": "e8caTn4ET1cP"
      },
      "source": [
        ""
      ],
      "execution_count": 145,
      "outputs": []
    }
  ]
}